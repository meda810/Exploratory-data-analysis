{
 "cells": [
  {
   "cell_type": "markdown",
   "metadata": {},
   "source": [
    "# Исследование объявлений о продаже квартир\n",
    "\n",
    "В вашем распоряжении данные сервиса Яндекc Недвижимость — архив объявлений о продаже квартир в Санкт-Петербурге и соседних населённых пунктах за несколько лет. Нужно научиться определять рыночную стоимость объектов недвижимости. Ваша задача — установить параметры. Это позволит построить автоматизированную систему: она отследит аномалии и мошенническую деятельность. \n",
    "\n",
    "По каждой квартире на продажу доступны два вида данных. Первые вписаны пользователем, вторые получены автоматически на основе картографических данных. Например, расстояние до центра, аэропорта, ближайшего парка и водоёма. \n",
    "\n",
    "**Описание представленных данных:**\n",
    "- airports_nearest — расстояние до ближайшего аэропорта в метрах (м)\n",
    "- balcony — число балконов\n",
    "- ceiling_height — высота потолков (м)\n",
    "- cityCenters_nearest — расстояние до центра города (м)\n",
    "- days_exposition — сколько дней было размещено объявление (от публикации до снятия)\n",
    "- first_day_exposition — дата публикации\n",
    "- floor — этаж\n",
    "- floors_total — всего этажей в доме\n",
    "- is_apartment — апартаменты (булев тип)\n",
    "- kitchen_area — площадь кухни в квадратных метрах (м²)\n",
    "- last_price — цена на момент снятия с публикации\n",
    "- living_area — жилая площадь в квадратных метрах (м²)\n",
    "- locality_name — название населённого пункта\n",
    "- open_plan — свободная планировка (булев тип)\n",
    "- parks_around3000 — число парков в радиусе 3 км\n",
    "- parks_nearest — расстояние до ближайшего парка (м)\n",
    "- ponds_around3000 — число водоёмов в радиусе 3 км\n",
    "- ponds_nearest — расстояние до ближайшего водоёма (м)\n",
    "- rooms — число комнат\n",
    "- studio — квартира-студия (булев тип)\n",
    "- total_area — площадь квартиры в квадратных метрах (м²)\n",
    "- total_images — число фотографий квартиры в объявлении"
   ]
  },
  {
   "cell_type": "markdown",
   "metadata": {},
   "source": [
    "*План работы:*\n",
    "- предобработка данных (заполнение пропусков, замена типов данных и т.д.)\n",
    "- расчет дополнительных параметров необходимых для исследовательского анализа\n",
    "- исследовательский анализ"
   ]
  },
  {
   "cell_type": "markdown",
   "metadata": {},
   "source": [
    "## Изучение данных из файла"
   ]
  },
  {
   "cell_type": "code",
   "execution_count": 1,
   "metadata": {},
   "outputs": [],
   "source": [
    "import pandas as pd\n",
    "import matplotlib.pyplot as plt"
   ]
  },
  {
   "cell_type": "code",
   "execution_count": 2,
   "metadata": {},
   "outputs": [],
   "source": [
    "pd.options.display.max_columns = 200 #отображение максимального количества столбцов: 200"
   ]
  },
  {
   "cell_type": "code",
   "execution_count": 3,
   "metadata": {
    "scrolled": true
   },
   "outputs": [],
   "source": [
    "try:\n",
    "    data = pd.read_csv('/datasets/real_estate_data.csv', sep='\\t')\n",
    "except:\n",
    "    data = pd.read_csv('C:/Users/admin/Desktop/ЯндексПрактикум/1 часть/Исследовательский анализ данных. Объявления о продаже квартир/real_estate_data.csv', sep='\\t')\n",
    "    \n",
    "data2 = data.copy().reset_index()\n",
    "#data.head(50)"
   ]
  },
  {
   "cell_type": "code",
   "execution_count": 4,
   "metadata": {
    "scrolled": false
   },
   "outputs": [
    {
     "name": "stdout",
     "output_type": "stream",
     "text": [
      "<class 'pandas.core.frame.DataFrame'>\n",
      "RangeIndex: 23699 entries, 0 to 23698\n",
      "Data columns (total 22 columns):\n",
      " #   Column                Non-Null Count  Dtype  \n",
      "---  ------                --------------  -----  \n",
      " 0   total_images          23699 non-null  int64  \n",
      " 1   last_price            23699 non-null  float64\n",
      " 2   total_area            23699 non-null  float64\n",
      " 3   first_day_exposition  23699 non-null  object \n",
      " 4   rooms                 23699 non-null  int64  \n",
      " 5   ceiling_height        14504 non-null  float64\n",
      " 6   floors_total          23613 non-null  float64\n",
      " 7   living_area           21796 non-null  float64\n",
      " 8   floor                 23699 non-null  int64  \n",
      " 9   is_apartment          2775 non-null   object \n",
      " 10  studio                23699 non-null  bool   \n",
      " 11  open_plan             23699 non-null  bool   \n",
      " 12  kitchen_area          21421 non-null  float64\n",
      " 13  balcony               12180 non-null  float64\n",
      " 14  locality_name         23650 non-null  object \n",
      " 15  airports_nearest      18157 non-null  float64\n",
      " 16  cityCenters_nearest   18180 non-null  float64\n",
      " 17  parks_around3000      18181 non-null  float64\n",
      " 18  parks_nearest         8079 non-null   float64\n",
      " 19  ponds_around3000      18181 non-null  float64\n",
      " 20  ponds_nearest         9110 non-null   float64\n",
      " 21  days_exposition       20518 non-null  float64\n",
      "dtypes: bool(2), float64(14), int64(3), object(3)\n",
      "memory usage: 3.7+ MB\n"
     ]
    }
   ],
   "source": [
    "data.info() #общая инф-ция массива"
   ]
  },
  {
   "cell_type": "code",
   "execution_count": 5,
   "metadata": {
    "scrolled": true
   },
   "outputs": [
    {
     "name": "stdout",
     "output_type": "stream",
     "text": [
      "Явных дубликатов: 0\n"
     ]
    }
   ],
   "source": [
    "print('Явных дубликатов:', data.duplicated().sum())#проверка на наличие явных дубликатов"
   ]
  },
  {
   "cell_type": "markdown",
   "metadata": {},
   "source": [
    "### Вывод"
   ]
  },
  {
   "cell_type": "markdown",
   "metadata": {},
   "source": [
    "Заметил такие особенности:\n",
    "- название столбца cityCenters_nearest\n",
    "- формат в first_day_exposition    \n",
    "- в столбцах имеются вещественные числа, там где они не нужны: last_price (значения после запятой не сильно повлияют на результат); floors_total (кол-во этажей не бывает не целых чисел); balcony; airports_nearest, cityCenters_nearest, parks_nearest, ponds_nearest (думаю, что погода от лишнего метра не измениться, а объем данных сократится); parks_around3000, ponds_around3000; days_exposition\n",
    "- необходимо поменять формат даты в столбце first_day_exposition  \n",
    "- в столбце ceiling_height имеются пропуски. Я бы заменил их на мединные, т.к. если квартиры с 4-х метровыми потолками, а это редкость\n",
    "- в столбце floors_total буду менять нулевые значения на медианные, средние или на значения из столбца floor (еще не решил), т.к. есть квартиры на 22 этаже с пустым столбцом floors_total\n",
    "- в столбце living_area, kitchen_area есть пропуски и буду их заменять на медианные, т.к. есть разброс значений\n",
    "- в столбце is_apartment есть пропуски, к тому же тип значений - строки. Буду менять тип на bool, а пропуски на False\n",
    "- в столбце balcony есть пропуски и буду заменять на 0, т.к. просто отсутсвуют балконы\n",
    "- в столбце locality_name пропуски по населенным пунктам и пропусков всего 49. Думаю, что такое значение мало повлияет на рез-т\n",
    "- пропуски в столбцах airports_nearest, cityCenters_nearest буду заполнять медианными, т.к. большая выборка\n",
    "- заметил, что столбцы parks_around3000 и parks_nearest соотносятся. Если в parks_around3000 стоит 0 или пропуск, то в parks_nearest также есть пропуск. В столбце parks_around3000 пропуски буду заменять на 0. Возможно, забыли указать, как в случае с балконами. Такая же ситуация со столбцами ponds_around3000 и ponds_nearest. Столбцы parks_nearest и ponds_nearest заменю на 3001м\n",
    "- пропуски в столбце days_exposition заполню медианными значениями"
   ]
  },
  {
   "cell_type": "markdown",
   "metadata": {},
   "source": [
    "## Предобработка данных"
   ]
  },
  {
   "cell_type": "code",
   "execution_count": 6,
   "metadata": {
    "scrolled": false
   },
   "outputs": [
    {
     "name": "stdout",
     "output_type": "stream",
     "text": [
      "<class 'pandas.core.frame.DataFrame'>\n",
      "RangeIndex: 23699 entries, 0 to 23698\n",
      "Data columns (total 22 columns):\n",
      " #   Column                Non-Null Count  Dtype         \n",
      "---  ------                --------------  -----         \n",
      " 0   total_images          23699 non-null  int64         \n",
      " 1   last_price            23699 non-null  float64       \n",
      " 2   total_area            23699 non-null  float64       \n",
      " 3   first_day_exposition  23699 non-null  datetime64[ns]\n",
      " 4   rooms                 23699 non-null  int64         \n",
      " 5   ceiling_height        14504 non-null  float64       \n",
      " 6   floors_total          23613 non-null  float64       \n",
      " 7   living_area           21796 non-null  float64       \n",
      " 8   floor                 23699 non-null  int64         \n",
      " 9   is_apartment          2775 non-null   object        \n",
      " 10  studio                23699 non-null  bool          \n",
      " 11  open_plan             23699 non-null  bool          \n",
      " 12  kitchen_area          21421 non-null  float64       \n",
      " 13  balcony               12180 non-null  float64       \n",
      " 14  locality_name         23650 non-null  object        \n",
      " 15  airports_nearest      18157 non-null  float64       \n",
      " 16  city_centers_nearest  18180 non-null  float64       \n",
      " 17  parks_around3000      18181 non-null  float64       \n",
      " 18  parks_nearest         8079 non-null   float64       \n",
      " 19  ponds_around3000      18181 non-null  float64       \n",
      " 20  ponds_nearest         9110 non-null   float64       \n",
      " 21  days_exposition       20518 non-null  float64       \n",
      "dtypes: bool(2), datetime64[ns](1), float64(14), int64(3), object(2)\n",
      "memory usage: 3.7+ MB\n"
     ]
    }
   ],
   "source": [
    "data = data.rename(columns={'cityCenters_nearest': 'city_centers_nearest'}) # поменял название столбца cityCenters_nearest\n",
    "data['first_day_exposition'] = pd.to_datetime(data['first_day_exposition'], format='%Y-%m-%dT%H:%M:%S') #изменил формат даты\n",
    "data.info()"
   ]
  },
  {
   "cell_type": "markdown",
   "metadata": {},
   "source": [
    "### Заполнение пропусков"
   ]
  },
  {
   "cell_type": "code",
   "execution_count": 7,
   "metadata": {},
   "outputs": [
    {
     "name": "stdout",
     "output_type": "stream",
     "text": [
      "<class 'pandas.core.frame.DataFrame'>\n",
      "RangeIndex: 23699 entries, 0 to 23698\n",
      "Data columns (total 23 columns):\n",
      " #   Column                   Non-Null Count  Dtype         \n",
      "---  ------                   --------------  -----         \n",
      " 0   total_images             23699 non-null  int64         \n",
      " 1   last_price               23699 non-null  float64       \n",
      " 2   total_area               23699 non-null  float64       \n",
      " 3   first_day_exposition     23699 non-null  datetime64[ns]\n",
      " 4   rooms                    23699 non-null  int64         \n",
      " 5   ceiling_height           14504 non-null  float64       \n",
      " 6   floors_total             23613 non-null  float64       \n",
      " 7   living_area              21796 non-null  float64       \n",
      " 8   floor                    23699 non-null  int64         \n",
      " 9   is_apartment             2775 non-null   object        \n",
      " 10  studio                   23699 non-null  bool          \n",
      " 11  open_plan                23699 non-null  bool          \n",
      " 12  kitchen_area             21421 non-null  float64       \n",
      " 13  balcony                  12180 non-null  float64       \n",
      " 14  locality_name            23650 non-null  object        \n",
      " 15  airports_nearest         18157 non-null  float64       \n",
      " 16  city_centers_nearest     18305 non-null  float64       \n",
      " 17  parks_around3000         18181 non-null  float64       \n",
      " 18  parks_nearest            8079 non-null   float64       \n",
      " 19  ponds_around3000         18181 non-null  float64       \n",
      " 20  ponds_nearest            9110 non-null   float64       \n",
      " 21  days_exposition          20518 non-null  float64       \n",
      " 22  days_exposition_missing  23699 non-null  bool          \n",
      "dtypes: bool(3), datetime64[ns](1), float64(14), int64(3), object(2)\n",
      "memory usage: 3.7+ MB\n"
     ]
    },
    {
     "data": {
      "image/png": "[encoded data removed]",
      "text/plain": [
       "<Figure size 432x288 with 1 Axes>"
      ]
     },
     "metadata": {
      "needs_background": "light"
     },
     "output_type": "display_data"
    }
   ],
   "source": [
    "data['first_day_exposition'] = pd.to_datetime(data['first_day_exposition'])\n",
    "\n",
    "data['days_exposition_missing'] = data['days_exposition'].isna()\n",
    "\n",
    "data.groupby('first_day_exposition').agg({'days_exposition_missing': 'sum'}).plot()\n",
    "\n",
    "# Заполнение пропусков\n",
    "data['city_centers_nearest'] = data['city_centers_nearest'].fillna(data.groupby('locality_name')['city_centers_nearest'].transform('median'))\n",
    "\n",
    "data.info()"
   ]
  },
  {
   "cell_type": "code",
   "execution_count": 8,
   "metadata": {},
   "outputs": [],
   "source": [
    "data['floors_total'] = data['floors_total'].fillna(data['floor']) # замена пропуска в столбце floors_total на значение из столбца floor \n",
    "\n",
    "columns_for_median = ['ceiling_height', 'living_area', 'kitchen_area', 'days_exposition', 'city_centers_nearest'] #список столбцов, где пропуски заменяются на медиану\n",
    "\n",
    "for column in columns_for_median: #цикл, проходящий по списку\n",
    "    data[column] = data[column].fillna(data[column].median())\n",
    "    \n",
    "columns_for_zero = ['balcony', 'parks_around3000', 'ponds_around3000'] #список столбцов, где пропуски заменяются на 0\n",
    "for column2 in columns_for_zero: #цикл, проходящий по списку \n",
    "    data[column2] = data[column2].fillna(0)\n",
    "   \n",
    "data['is_apartment'] = data['is_apartment'].fillna(False) # замена пропуска в столбце is_apartment на False\n"
   ]
  },
  {
   "cell_type": "code",
   "execution_count": 9,
   "metadata": {},
   "outputs": [],
   "source": [
    "# заполнение столбца city_centers_nearest медианой, сгруппированный по locality_name\n",
    "\n",
    "data['city_centers_nearest'] = data['city_centers_nearest'].fillna(data.groupby('locality_name')['city_centers_nearest'].transform(\"median\"))\n"
   ]
  },
  {
   "cell_type": "code",
   "execution_count": 10,
   "metadata": {
    "scrolled": true
   },
   "outputs": [
    {
     "name": "stdout",
     "output_type": "stream",
     "text": [
      "<class 'pandas.core.frame.DataFrame'>\n",
      "RangeIndex: 23699 entries, 0 to 23698\n",
      "Data columns (total 23 columns):\n",
      " #   Column                   Non-Null Count  Dtype         \n",
      "---  ------                   --------------  -----         \n",
      " 0   total_images             23699 non-null  int64         \n",
      " 1   last_price               23699 non-null  float64       \n",
      " 2   total_area               23699 non-null  float64       \n",
      " 3   first_day_exposition     23699 non-null  datetime64[ns]\n",
      " 4   rooms                    23699 non-null  int64         \n",
      " 5   ceiling_height           23699 non-null  float64       \n",
      " 6   floors_total             23699 non-null  float64       \n",
      " 7   living_area              23699 non-null  float64       \n",
      " 8   floor                    23699 non-null  int64         \n",
      " 9   is_apartment             23699 non-null  bool          \n",
      " 10  studio                   23699 non-null  bool          \n",
      " 11  open_plan                23699 non-null  bool          \n",
      " 12  kitchen_area             23699 non-null  float64       \n",
      " 13  balcony                  23699 non-null  float64       \n",
      " 14  locality_name            23650 non-null  object        \n",
      " 15  airports_nearest         18157 non-null  float64       \n",
      " 16  city_centers_nearest     23699 non-null  float64       \n",
      " 17  parks_around3000         23699 non-null  float64       \n",
      " 18  parks_nearest            8079 non-null   float64       \n",
      " 19  ponds_around3000         23699 non-null  float64       \n",
      " 20  ponds_nearest            9110 non-null   float64       \n",
      " 21  days_exposition          23699 non-null  float64       \n",
      " 22  days_exposition_missing  23699 non-null  bool          \n",
      "dtypes: bool(4), datetime64[ns](1), float64(14), int64(3), object(1)\n",
      "memory usage: 3.5+ MB\n"
     ]
    }
   ],
   "source": [
    "data.info()"
   ]
  },
  {
   "cell_type": "markdown",
   "metadata": {},
   "source": [
    "### Перевод данных в нужный тип"
   ]
  },
  {
   "cell_type": "code",
   "execution_count": 11,
   "metadata": {},
   "outputs": [],
   "source": [
    "# перевод столбцов в другой тип данных\n",
    "columns_float = ['last_price', 'floors_total', 'balcony', 'city_centers_nearest', \n",
    "                 'parks_around3000', 'ponds_around3000', 'days_exposition'] \n",
    "for column4 in columns_float:\n",
    "    data[column4] = data[column4].astype('int')\n"
   ]
  },
  {
   "cell_type": "code",
   "execution_count": 12,
   "metadata": {
    "scrolled": false
   },
   "outputs": [
    {
     "name": "stdout",
     "output_type": "stream",
     "text": [
      "<class 'pandas.core.frame.DataFrame'>\n",
      "RangeIndex: 23699 entries, 0 to 23698\n",
      "Data columns (total 23 columns):\n",
      " #   Column                   Non-Null Count  Dtype         \n",
      "---  ------                   --------------  -----         \n",
      " 0   total_images             23699 non-null  int64         \n",
      " 1   last_price               23699 non-null  int32         \n",
      " 2   total_area               23699 non-null  float64       \n",
      " 3   first_day_exposition     23699 non-null  datetime64[ns]\n",
      " 4   rooms                    23699 non-null  int64         \n",
      " 5   ceiling_height           23699 non-null  float64       \n",
      " 6   floors_total             23699 non-null  int32         \n",
      " 7   living_area              23699 non-null  float64       \n",
      " 8   floor                    23699 non-null  int64         \n",
      " 9   is_apartment             23699 non-null  bool          \n",
      " 10  studio                   23699 non-null  bool          \n",
      " 11  open_plan                23699 non-null  bool          \n",
      " 12  kitchen_area             23699 non-null  float64       \n",
      " 13  balcony                  23699 non-null  int32         \n",
      " 14  locality_name            23650 non-null  object        \n",
      " 15  airports_nearest         18157 non-null  float64       \n",
      " 16  city_centers_nearest     23699 non-null  int32         \n",
      " 17  parks_around3000         23699 non-null  int32         \n",
      " 18  parks_nearest            8079 non-null   float64       \n",
      " 19  ponds_around3000         23699 non-null  int32         \n",
      " 20  ponds_nearest            9110 non-null   float64       \n",
      " 21  days_exposition          23699 non-null  int32         \n",
      " 22  days_exposition_missing  23699 non-null  bool          \n",
      "dtypes: bool(4), datetime64[ns](1), float64(7), int32(7), int64(3), object(1)\n",
      "memory usage: 2.9+ MB\n"
     ]
    }
   ],
   "source": [
    "data.info()"
   ]
  },
  {
   "cell_type": "markdown",
   "metadata": {},
   "source": [
    "### Вывод\n",
    "- заполнил пропуски медианным значением, либо нулевым, в зависимости от столбца\n",
    "- заменил вещественные числа на целочисленные, т.к. в них нет необходимости "
   ]
  },
  {
   "cell_type": "markdown",
   "metadata": {},
   "source": [
    "## Расчёты и добавление результатов в таблицу"
   ]
  },
  {
   "cell_type": "code",
   "execution_count": 13,
   "metadata": {},
   "outputs": [],
   "source": [
    "data['metr_price'] = data['last_price'] / data['total_area'] #добавление столбца цены за 1 кв. метр\n",
    "\n",
    "\n",
    "data['year_exposition'] = data['first_day_exposition'].dt.year #добавление года в таблицу\n",
    "data['month_exposition'] = data['first_day_exposition'].dt.month #добавление месяца в таблицу\n",
    "data['day_exposition'] = data['first_day_exposition'].dt.weekday #добавление дня в таблицу\n",
    "\n",
    "\n",
    "def floor_type(row): #функция для добавления категории этажа\n",
    "    if row['floor'] == 1:\n",
    "        return 'первый'\n",
    "    if row['floor'] == row['floors_total']:\n",
    "        return 'последний'\n",
    "    return 'другой'\n",
    "\n",
    "data['floor_type'] = data.apply(floor_type, axis=1)\n",
    "#data\n",
    "\n",
    "data['area_living_to_total'] = data['living_area']/data['total_area'] #добавление столбца с отношениями жилой площади к общей\n",
    "data['area_kitchen_to_living'] = data['kitchen_area']/data['living_area'] #добавление столбца с отношениями площади кухни к жилой\n",
    "\n"
   ]
  },
  {
   "cell_type": "markdown",
   "metadata": {},
   "source": [
    "### Вывод\n",
    "\n",
    "- произвел расчет стоимости квадратного метра квартиры\n",
    "- добавил отдельные столбцы: год, месяц, день\n",
    "- добавил столбцы с отношением жилой площади к общей и с отношением площади кухни к жилой"
   ]
  },
  {
   "cell_type": "markdown",
   "metadata": {},
   "source": [
    "## Исследовательский анализ данных"
   ]
  },
  {
   "cell_type": "code",
   "execution_count": 14,
   "metadata": {
    "scrolled": true
   },
   "outputs": [
    {
     "data": {
      "image/png": "[encoded data removed]",
      "text/plain": [
       "<Figure size 432x288 with 1 Axes>"
      ]
     },
     "metadata": {
      "needs_background": "light"
     },
     "output_type": "display_data"
    },
    {
     "data": {
      "image/png": "[encoded data removed]",
      "text/plain": [
       "<Figure size 432x288 with 1 Axes>"
      ]
     },
     "metadata": {
      "needs_background": "light"
     },
     "output_type": "display_data"
    },
    {
     "data": {
      "image/png": "[encoded data removed]",
      "text/plain": [
       "<Figure size 432x288 with 1 Axes>"
      ]
     },
     "metadata": {
      "needs_background": "light"
     },
     "output_type": "display_data"
    },
    {
     "data": {
      "text/plain": [
       "<AxesSubplot:title={'center':'ceiling_height'}, ylabel='Frequency'>"
      ]
     },
     "execution_count": 14,
     "metadata": {},
     "output_type": "execute_result"
    },
    {
     "data": {
      "image/png": "[encoded data removed]",
      "text/plain": [
       "<Figure size 432x288 with 1 Axes>"
      ]
     },
     "metadata": {
      "needs_background": "light"
     },
     "output_type": "display_data"
    }
   ],
   "source": [
    "# строю гистограммы для ['total_area', 'last_price', 'rooms', 'ceiling_height'] \n",
    "data['total_area'].plot(kind='hist', bins=100, title='total_area', xlim=(0,400))\n",
    "plt.show()\n",
    "data['last_price'].plot(kind='hist', bins=1000, title='last_price', xlim=(0,50000000))\n",
    "plt.show()\n",
    "data['rooms'].plot(kind='hist', bins=100, title='rooms', xlim=(0,10))\n",
    "plt.show()\n",
    "data['ceiling_height'].plot(kind='hist', bins=1000, title='ceiling_height', xlim=(2,4))"
   ]
  },
  {
   "cell_type": "markdown",
   "metadata": {},
   "source": [
    "- в столбце total_area частоста квартир больше 200 м2 уменьшается. Думаю, можно будет сделать срез до 200 м2\n",
    "- в столбце last_price в основном квартиры до 30 млн рублей\n",
    "- в основном чаще встречаются квартиры до 3x комнат\n",
    "- в оcновном квартиры с потолком до 3х метров"
   ]
  },
  {
   "cell_type": "code",
   "execution_count": 15,
   "metadata": {},
   "outputs": [
    {
     "data": {
      "image/png": "[encoded data removed]",
      "text/plain": [
       "<Figure size 432x288 with 1 Axes>"
      ]
     },
     "metadata": {
      "needs_background": "light"
     },
     "output_type": "display_data"
    },
    {
     "data": {
      "image/png": "[encoded data removed]",
      "text/plain": [
       "<Figure size 432x288 with 1 Axes>"
      ]
     },
     "metadata": {
      "needs_background": "light"
     },
     "output_type": "display_data"
    },
    {
     "data": {
      "image/png": "[encoded data removed]",
      "text/plain": [
       "<Figure size 432x288 with 1 Axes>"
      ]
     },
     "metadata": {
      "needs_background": "light"
     },
     "output_type": "display_data"
    },
    {
     "data": {
      "image/png": "[encoded data removed]",
      "text/plain": [
       "<Figure size 432x288 with 1 Axes>"
      ]
     },
     "metadata": {
      "needs_background": "light"
     },
     "output_type": "display_data"
    },
    {
     "data": {
      "image/png": "[encoded data removed]",
      "text/plain": [
       "<Figure size 432x288 with 1 Axes>"
      ]
     },
     "metadata": {
      "needs_background": "light"
     },
     "output_type": "display_data"
    },
    {
     "data": {
      "image/png": "[encoded data removed]",
      "text/plain": [
       "<Figure size 432x288 with 1 Axes>"
      ]
     },
     "metadata": {
      "needs_background": "light"
     },
     "output_type": "display_data"
    },
    {
     "data": {
      "image/png": "[encoded data removed]",
      "text/plain": [
       "<Figure size 432x288 with 1 Axes>"
      ]
     },
     "metadata": {
      "needs_background": "light"
     },
     "output_type": "display_data"
    },
    {
     "data": {
      "image/png": "[encoded data removed]",
      "text/plain": [
       "<Figure size 432x288 with 1 Axes>"
      ]
     },
     "metadata": {
      "needs_background": "light"
     },
     "output_type": "display_data"
    }
   ],
   "source": [
    "columns = ['total_area', 'last_price', 'rooms', 'ceiling_height'] \n",
    "def function(df):\n",
    "    for column in columns:\n",
    "        df[column].plot(kind='hist', bins=100, title=column)\n",
    "        plt.show()\n",
    "        \n",
    "function(data)\n",
    "\n",
    "# Можно еще так\n",
    "columns = ['total_area', 'last_price', 'rooms', 'ceiling_height']\n",
    "\n",
    "def function(df, col):\n",
    "    df[col].plot(kind='hist', bins=100, title=col)\n",
    "    plt.show()\n",
    "    \n",
    "for column in columns:\n",
    "    function(data, column)\n",
    "        \n"
   ]
  },
  {
   "cell_type": "code",
   "execution_count": 16,
   "metadata": {},
   "outputs": [
    {
     "name": "stdout",
     "output_type": "stream",
     "text": [
      "Медианное значение столбца days_exposition: 95.0\n",
      "Среднее значение столбца days_exposition: 169.36022616988058\n"
     ]
    },
    {
     "data": {
      "image/png": "[encoded data removed]",
      "text/plain": [
       "<Figure size 432x288 with 1 Axes>"
      ]
     },
     "metadata": {
      "needs_background": "light"
     },
     "output_type": "display_data"
    }
   ],
   "source": [
    "data['days_exposition'].plot(kind='hist', bins=100, title='days_exposition')\n",
    "print('Медианное значение столбца days_exposition:', data['days_exposition'].median())\n",
    "print('Среднее значение столбца days_exposition:', data['days_exposition'].mean())"
   ]
  },
  {
   "cell_type": "markdown",
   "metadata": {},
   "source": [
    "- в среднем время продажи составляют 169 дней\n",
    "- после 900 дней линия сливается с осью и эти значения редки\n",
    "- считаю, что до 100 дней продажи можно считать быстрыми, а после уже долгими"
   ]
  },
  {
   "cell_type": "code",
   "execution_count": 17,
   "metadata": {
    "scrolled": true
   },
   "outputs": [
    {
     "name": "stdout",
     "output_type": "stream",
     "text": [
      "Доля отброшенных данных составляет: 0.04987552217393139\n"
     ]
    }
   ],
   "source": [
    "# по полученным гистограммам делаю срезы\n",
    "\n",
    "percent_discarding_values = (len(data) - len(data.query(\n",
    "                   '(total_area <= 200) & (last_price <= 30000000) & (rooms <= 5) & (2.5 <= ceiling_height <= 3.5) & (days_exposition <= 900)'))) / len(data)\n",
    "print('Доля отброшенных данных составляет:', percent_discarding_values)\n",
    "data = data.query(\n",
    "                   '(total_area <= 200) & (last_price <= 30000000) & (rooms <= 5) & (2.5 <= ceiling_height <= 3.5) & (days_exposition <= 900)')\n",
    "#data"
   ]
  },
  {
   "cell_type": "markdown",
   "metadata": {},
   "source": [
    "**Зависимость цены  от площади, числа комнат, удалённости от центра**"
   ]
  },
  {
   "cell_type": "code",
   "execution_count": 18,
   "metadata": {},
   "outputs": [
    {
     "name": "stdout",
     "output_type": "stream",
     "text": [
      "Коэффицент корреляции зависимости общей площади от цены: 0.7810179329068739\n",
      "Коэффицент корреляции зависимости числа комнат от цены: 0.477321889926467\n",
      "Коэффицент корреляции зависимости расстояния до центра от цены: -0.27199921853831704\n"
     ]
    },
    {
     "data": {
      "image/png": "[encoded data removed]",
      "text/plain": [
       "<Figure size 432x288 with 1 Axes>"
      ]
     },
     "metadata": {
      "needs_background": "light"
     },
     "output_type": "display_data"
    },
    {
     "data": {
      "image/png": "[encoded data removed]",
      "text/plain": [
       "<Figure size 432x288 with 1 Axes>"
      ]
     },
     "metadata": {
      "needs_background": "light"
     },
     "output_type": "display_data"
    },
    {
     "data": {
      "image/png": "[encoded data removed]",
      "text/plain": [
       "<Figure size 432x288 with 1 Axes>"
      ]
     },
     "metadata": {
      "needs_background": "light"
     },
     "output_type": "display_data"
    }
   ],
   "source": [
    "data.plot(x='total_area', y='last_price', kind='scatter', title='Зависимость общей площади от цены') #от общей площади\n",
    "data.plot(x='rooms', y='last_price', kind='scatter', title='Зависимость числа комнат от цены') #от числа комнат\n",
    "data.plot(x='city_centers_nearest', y='last_price', kind='scatter', title='Зависимость расстояния до центра от цены') #от удаленности от центра\n",
    "\n",
    "print('Коэффицент корреляции зависимости общей площади от цены:', data['total_area'].corr(data['last_price']))\n",
    "print('Коэффицент корреляции зависимости числа комнат от цены:', data['rooms'].corr(data['last_price']))\n",
    "print('Коэффицент корреляции зависимости расстояния до центра от цены:', data['city_centers_nearest'].corr(data['last_price']))"
   ]
  },
  {
   "cell_type": "markdown",
   "metadata": {},
   "source": [
    "По графикам можно сказать, что с увеличением общей площади квартиры, стоимость квартиры увеличивается (положительная корреляция). Можно заметить увеличение кол-ва дорогих квартир с ростом кол-ва комнат, но увеличение продолжается до 3х-комнатных квартир. В случае с расстоянием до центра, видим, что с уменьшением расстояния, увеличивается кол-во дорогих квартир."
   ]
  },
  {
   "cell_type": "markdown",
   "metadata": {},
   "source": [
    "**Зависимость цены  от этажа квартиры**"
   ]
  },
  {
   "cell_type": "code",
   "execution_count": 19,
   "metadata": {
    "scrolled": true
   },
   "outputs": [
    {
     "data": {
      "image/png": "[encoded data removed]",
      "text/plain": [
       "<Figure size 432x288 with 1 Axes>"
      ]
     },
     "metadata": {
      "needs_background": "light"
     },
     "output_type": "display_data"
    },
    {
     "data": {
      "image/png": "[encoded data removed]",
      "text/plain": [
       "<Figure size 432x288 with 1 Axes>"
      ]
     },
     "metadata": {
      "needs_background": "light"
     },
     "output_type": "display_data"
    },
    {
     "data": {
      "image/png": "[encoded data removed]",
      "text/plain": [
       "<Figure size 432x288 with 1 Axes>"
      ]
     },
     "metadata": {
      "needs_background": "light"
     },
     "output_type": "display_data"
    }
   ],
   "source": [
    "for name, group_data in data.groupby('floor_type'):\n",
    "    group_data.plot(kind='hist', y='last_price', title=name, bins=50)    "
   ]
  },
  {
   "cell_type": "markdown",
   "metadata": {},
   "source": [
    "Распределение цен по этажам выглядит более-менее одинаково и трудно делать категоричные выводы."
   ]
  },
  {
   "cell_type": "markdown",
   "metadata": {},
   "source": [
    "**Зависимость цены от даты размещения: дня недели, месяца и года**"
   ]
  },
  {
   "cell_type": "code",
   "execution_count": 20,
   "metadata": {
    "scrolled": true
   },
   "outputs": [
    {
     "data": {
      "text/plain": [
       "<AxesSubplot:title={'center':'Зависимость года от цены'}, xlabel='year_exposition', ylabel='last_price'>"
      ]
     },
     "execution_count": 20,
     "metadata": {},
     "output_type": "execute_result"
    },
    {
     "data": {
      "image/png": "[encoded data removed]",
      "text/plain": [
       "<Figure size 432x288 with 1 Axes>"
      ]
     },
     "metadata": {
      "needs_background": "light"
     },
     "output_type": "display_data"
    },
    {
     "data": {
      "image/png": "[encoded data removed]",
      "text/plain": [
       "<Figure size 432x288 with 1 Axes>"
      ]
     },
     "metadata": {
      "needs_background": "light"
     },
     "output_type": "display_data"
    },
    {
     "data": {
      "image/png": "[encoded data removed]",
      "text/plain": [
       "<Figure size 432x288 with 1 Axes>"
      ]
     },
     "metadata": {
      "needs_background": "light"
     },
     "output_type": "display_data"
    }
   ],
   "source": [
    "data.plot(x='day_exposition', y='last_price', kind='scatter', title='Зависимость дня недели от цены') # от дня недели\n",
    "data.plot(x='month_exposition', y='last_price', kind='scatter', title='Зависимость месяца от цены') # от месяца\n",
    "data.plot(x='year_exposition', y='last_price', kind='scatter', title='Зависимость года от цены') # от месяца"
   ]
  },
  {
   "cell_type": "markdown",
   "metadata": {},
   "source": [
    "Видно, что под конец недели цены отличаются от цен в начале недели. Скорее всего это связано с выходными днями. В зависимости от месяца, цены не стабильны. Видно, что цены в зависимости от года растут до 2017, потом идёт некий спад в цене.  "
   ]
  },
  {
   "cell_type": "markdown",
   "metadata": {},
   "source": [
    "**Какие факторы больше всего влияют на стоимость квартиры?**"
   ]
  },
  {
   "cell_type": "markdown",
   "metadata": {},
   "source": [
    "Безусловно, на ценообразование влияет площадь квартиры, расстояние до центра, а также кол-во комнат до определенного момента. По этажности, возможно, есть различие в цене, но не существенное. Активность людей под конец рабочей недели снижается и, следовательно, цены в начале недели отличаются от цен в конце недели.   "
   ]
  },
  {
   "cell_type": "markdown",
   "metadata": {},
   "source": [
    "**10 населённых пунктов с наибольшим числом объявлений**"
   ]
  },
  {
   "cell_type": "code",
   "execution_count": 21,
   "metadata": {
    "scrolled": false
   },
   "outputs": [],
   "source": [
    "#data.head()"
   ]
  },
  {
   "cell_type": "code",
   "execution_count": 22,
   "metadata": {
    "scrolled": true
   },
   "outputs": [
    {
     "data": {
      "text/html": [
       "<div>\n",
       "<style scoped>\n",
       "    .dataframe tbody tr th:only-of-type {\n",
       "        vertical-align: middle;\n",
       "    }\n",
       "\n",
       "    .dataframe tbody tr th {\n",
       "        vertical-align: top;\n",
       "    }\n",
       "\n",
       "    .dataframe thead th {\n",
       "        text-align: right;\n",
       "    }\n",
       "</style>\n",
       "<table border=\"1\" class=\"dataframe\">\n",
       "  <thead>\n",
       "    <tr style=\"text-align: right;\">\n",
       "      <th></th>\n",
       "      <th>metr_average</th>\n",
       "      <th>count</th>\n",
       "    </tr>\n",
       "    <tr>\n",
       "      <th>locality_name</th>\n",
       "      <th></th>\n",
       "      <th></th>\n",
       "    </tr>\n",
       "  </thead>\n",
       "  <tbody>\n",
       "    <tr>\n",
       "      <th>Санкт-Петербург</th>\n",
       "      <td>110364.774365</td>\n",
       "      <td>14741</td>\n",
       "    </tr>\n",
       "    <tr>\n",
       "      <th>Пушкин</th>\n",
       "      <td>102676.669150</td>\n",
       "      <td>347</td>\n",
       "    </tr>\n",
       "    <tr>\n",
       "      <th>деревня Кудрово</th>\n",
       "      <td>92524.863731</td>\n",
       "      <td>291</td>\n",
       "    </tr>\n",
       "    <tr>\n",
       "      <th>посёлок Парголово</th>\n",
       "      <td>90333.345674</td>\n",
       "      <td>321</td>\n",
       "    </tr>\n",
       "    <tr>\n",
       "      <th>посёлок Мурино</th>\n",
       "      <td>85885.906971</td>\n",
       "      <td>511</td>\n",
       "    </tr>\n",
       "    <tr>\n",
       "      <th>посёлок Шушары</th>\n",
       "      <td>78593.200186</td>\n",
       "      <td>435</td>\n",
       "    </tr>\n",
       "    <tr>\n",
       "      <th>Колпино</th>\n",
       "      <td>75282.078513</td>\n",
       "      <td>333</td>\n",
       "    </tr>\n",
       "    <tr>\n",
       "      <th>Гатчина</th>\n",
       "      <td>69021.537558</td>\n",
       "      <td>300</td>\n",
       "    </tr>\n",
       "    <tr>\n",
       "      <th>Всеволожск</th>\n",
       "      <td>68695.773206</td>\n",
       "      <td>389</td>\n",
       "    </tr>\n",
       "    <tr>\n",
       "      <th>Выборг</th>\n",
       "      <td>58356.257861</td>\n",
       "      <td>228</td>\n",
       "    </tr>\n",
       "  </tbody>\n",
       "</table>\n",
       "</div>"
      ],
      "text/plain": [
       "                    metr_average  count\n",
       "locality_name                          \n",
       "Санкт-Петербург    110364.774365  14741\n",
       "Пушкин             102676.669150    347\n",
       "деревня Кудрово     92524.863731    291\n",
       "посёлок Парголово   90333.345674    321\n",
       "посёлок Мурино      85885.906971    511\n",
       "посёлок Шушары      78593.200186    435\n",
       "Колпино             75282.078513    333\n",
       "Гатчина             69021.537558    300\n",
       "Всеволожск          68695.773206    389\n",
       "Выборг              58356.257861    228"
      ]
     },
     "execution_count": 22,
     "metadata": {},
     "output_type": "execute_result"
    }
   ],
   "source": [
    "locality_meter_count = data.pivot_table(index='locality_name', values='metr_price', aggfunc=['mean', 'count']) #создаю сводную таблицу по местности с расчетом средней цены квадртаного метра и общего кол-ва объявлений\n",
    "locality_meter_count.columns = ['metr_average', 'count'] #меняю название столбцов\n",
    "locality_top = locality_meter_count.sort_values('count', ascending=False).head(10)\n",
    "locality_top.sort_values('metr_average', ascending=False)"
   ]
  },
  {
   "cell_type": "markdown",
   "metadata": {},
   "source": [
    "В СПБ самая дорогая среднестатистическая жилая площадь из топ-10, в Выборге - самая дешевая."
   ]
  },
  {
   "cell_type": "markdown",
   "metadata": {},
   "source": [
    "**Какая область входит в центр?**"
   ]
  },
  {
   "cell_type": "code",
   "execution_count": 23,
   "metadata": {
    "scrolled": true
   },
   "outputs": [
    {
     "data": {
      "text/html": [
       "<div>\n",
       "<style scoped>\n",
       "    .dataframe tbody tr th:only-of-type {\n",
       "        vertical-align: middle;\n",
       "    }\n",
       "\n",
       "    .dataframe tbody tr th {\n",
       "        vertical-align: top;\n",
       "    }\n",
       "\n",
       "    .dataframe thead th {\n",
       "        text-align: right;\n",
       "    }\n",
       "</style>\n",
       "<table border=\"1\" class=\"dataframe\">\n",
       "  <thead>\n",
       "    <tr style=\"text-align: right;\">\n",
       "      <th></th>\n",
       "      <th>index</th>\n",
       "      <th>total_images</th>\n",
       "      <th>last_price</th>\n",
       "      <th>total_area</th>\n",
       "      <th>first_day_exposition</th>\n",
       "      <th>rooms</th>\n",
       "      <th>ceiling_height</th>\n",
       "      <th>floors_total</th>\n",
       "      <th>living_area</th>\n",
       "      <th>floor</th>\n",
       "      <th>is_apartment</th>\n",
       "      <th>studio</th>\n",
       "      <th>open_plan</th>\n",
       "      <th>kitchen_area</th>\n",
       "      <th>balcony</th>\n",
       "      <th>locality_name</th>\n",
       "      <th>airports_nearest</th>\n",
       "      <th>city_centers_nearest</th>\n",
       "      <th>parks_around3000</th>\n",
       "      <th>parks_nearest</th>\n",
       "      <th>ponds_around3000</th>\n",
       "      <th>ponds_nearest</th>\n",
       "      <th>days_exposition</th>\n",
       "      <th>days_exposition_missing</th>\n",
       "      <th>metr_price</th>\n",
       "      <th>year_exposition</th>\n",
       "      <th>month_exposition</th>\n",
       "      <th>day_exposition</th>\n",
       "      <th>floor_type</th>\n",
       "      <th>area_living_to_total</th>\n",
       "      <th>area_kitchen_to_living</th>\n",
       "      <th>city_center_km</th>\n",
       "    </tr>\n",
       "  </thead>\n",
       "  <tbody>\n",
       "    <tr>\n",
       "      <th>0</th>\n",
       "      <td>0</td>\n",
       "      <td>20</td>\n",
       "      <td>13000000</td>\n",
       "      <td>108.0</td>\n",
       "      <td>2019-03-07</td>\n",
       "      <td>3</td>\n",
       "      <td>2.70</td>\n",
       "      <td>16</td>\n",
       "      <td>51.0</td>\n",
       "      <td>8</td>\n",
       "      <td>False</td>\n",
       "      <td>False</td>\n",
       "      <td>False</td>\n",
       "      <td>25.0</td>\n",
       "      <td>0</td>\n",
       "      <td>Санкт-Петербург</td>\n",
       "      <td>18863.0</td>\n",
       "      <td>16028</td>\n",
       "      <td>1</td>\n",
       "      <td>482.0</td>\n",
       "      <td>2</td>\n",
       "      <td>755.0</td>\n",
       "      <td>95</td>\n",
       "      <td>True</td>\n",
       "      <td>120370.370370</td>\n",
       "      <td>2019</td>\n",
       "      <td>3</td>\n",
       "      <td>3</td>\n",
       "      <td>другой</td>\n",
       "      <td>0.472222</td>\n",
       "      <td>0.490196</td>\n",
       "      <td>16</td>\n",
       "    </tr>\n",
       "    <tr>\n",
       "      <th>1</th>\n",
       "      <td>2</td>\n",
       "      <td>10</td>\n",
       "      <td>5196000</td>\n",
       "      <td>56.0</td>\n",
       "      <td>2015-08-20</td>\n",
       "      <td>2</td>\n",
       "      <td>2.65</td>\n",
       "      <td>5</td>\n",
       "      <td>34.3</td>\n",
       "      <td>4</td>\n",
       "      <td>False</td>\n",
       "      <td>False</td>\n",
       "      <td>False</td>\n",
       "      <td>8.3</td>\n",
       "      <td>0</td>\n",
       "      <td>Санкт-Петербург</td>\n",
       "      <td>21741.0</td>\n",
       "      <td>13933</td>\n",
       "      <td>1</td>\n",
       "      <td>90.0</td>\n",
       "      <td>2</td>\n",
       "      <td>574.0</td>\n",
       "      <td>558</td>\n",
       "      <td>False</td>\n",
       "      <td>92785.714286</td>\n",
       "      <td>2015</td>\n",
       "      <td>8</td>\n",
       "      <td>3</td>\n",
       "      <td>другой</td>\n",
       "      <td>0.612500</td>\n",
       "      <td>0.241983</td>\n",
       "      <td>14</td>\n",
       "    </tr>\n",
       "    <tr>\n",
       "      <th>2</th>\n",
       "      <td>4</td>\n",
       "      <td>2</td>\n",
       "      <td>10000000</td>\n",
       "      <td>100.0</td>\n",
       "      <td>2018-06-19</td>\n",
       "      <td>2</td>\n",
       "      <td>3.03</td>\n",
       "      <td>14</td>\n",
       "      <td>32.0</td>\n",
       "      <td>13</td>\n",
       "      <td>False</td>\n",
       "      <td>False</td>\n",
       "      <td>False</td>\n",
       "      <td>41.0</td>\n",
       "      <td>0</td>\n",
       "      <td>Санкт-Петербург</td>\n",
       "      <td>31856.0</td>\n",
       "      <td>8098</td>\n",
       "      <td>2</td>\n",
       "      <td>112.0</td>\n",
       "      <td>1</td>\n",
       "      <td>48.0</td>\n",
       "      <td>121</td>\n",
       "      <td>False</td>\n",
       "      <td>100000.000000</td>\n",
       "      <td>2018</td>\n",
       "      <td>6</td>\n",
       "      <td>1</td>\n",
       "      <td>другой</td>\n",
       "      <td>0.320000</td>\n",
       "      <td>1.281250</td>\n",
       "      <td>8</td>\n",
       "    </tr>\n",
       "    <tr>\n",
       "      <th>3</th>\n",
       "      <td>7</td>\n",
       "      <td>5</td>\n",
       "      <td>7915000</td>\n",
       "      <td>71.6</td>\n",
       "      <td>2019-04-18</td>\n",
       "      <td>2</td>\n",
       "      <td>2.65</td>\n",
       "      <td>24</td>\n",
       "      <td>30.0</td>\n",
       "      <td>22</td>\n",
       "      <td>False</td>\n",
       "      <td>False</td>\n",
       "      <td>False</td>\n",
       "      <td>18.9</td>\n",
       "      <td>2</td>\n",
       "      <td>Санкт-Петербург</td>\n",
       "      <td>23982.0</td>\n",
       "      <td>11634</td>\n",
       "      <td>0</td>\n",
       "      <td>NaN</td>\n",
       "      <td>0</td>\n",
       "      <td>NaN</td>\n",
       "      <td>95</td>\n",
       "      <td>True</td>\n",
       "      <td>110544.692737</td>\n",
       "      <td>2019</td>\n",
       "      <td>4</td>\n",
       "      <td>3</td>\n",
       "      <td>другой</td>\n",
       "      <td>0.418994</td>\n",
       "      <td>0.630000</td>\n",
       "      <td>12</td>\n",
       "    </tr>\n",
       "    <tr>\n",
       "      <th>4</th>\n",
       "      <td>9</td>\n",
       "      <td>18</td>\n",
       "      <td>5400000</td>\n",
       "      <td>61.0</td>\n",
       "      <td>2017-02-26</td>\n",
       "      <td>3</td>\n",
       "      <td>2.50</td>\n",
       "      <td>9</td>\n",
       "      <td>43.6</td>\n",
       "      <td>7</td>\n",
       "      <td>False</td>\n",
       "      <td>False</td>\n",
       "      <td>False</td>\n",
       "      <td>6.5</td>\n",
       "      <td>2</td>\n",
       "      <td>Санкт-Петербург</td>\n",
       "      <td>50898.0</td>\n",
       "      <td>15008</td>\n",
       "      <td>0</td>\n",
       "      <td>NaN</td>\n",
       "      <td>0</td>\n",
       "      <td>NaN</td>\n",
       "      <td>289</td>\n",
       "      <td>False</td>\n",
       "      <td>88524.590164</td>\n",
       "      <td>2017</td>\n",
       "      <td>2</td>\n",
       "      <td>6</td>\n",
       "      <td>другой</td>\n",
       "      <td>0.714754</td>\n",
       "      <td>0.149083</td>\n",
       "      <td>15</td>\n",
       "    </tr>\n",
       "  </tbody>\n",
       "</table>\n",
       "</div>"
      ],
      "text/plain": [
       "   index  total_images  last_price  total_area first_day_exposition  rooms  \\\n",
       "0      0            20    13000000       108.0           2019-03-07      3   \n",
       "1      2            10     5196000        56.0           2015-08-20      2   \n",
       "2      4             2    10000000       100.0           2018-06-19      2   \n",
       "3      7             5     7915000        71.6           2019-04-18      2   \n",
       "4      9            18     5400000        61.0           2017-02-26      3   \n",
       "\n",
       "   ceiling_height  floors_total  living_area  floor  is_apartment  studio  \\\n",
       "0            2.70            16         51.0      8         False   False   \n",
       "1            2.65             5         34.3      4         False   False   \n",
       "2            3.03            14         32.0     13         False   False   \n",
       "3            2.65            24         30.0     22         False   False   \n",
       "4            2.50             9         43.6      7         False   False   \n",
       "\n",
       "   open_plan  kitchen_area  balcony    locality_name  airports_nearest  \\\n",
       "0      False          25.0        0  Санкт-Петербург           18863.0   \n",
       "1      False           8.3        0  Санкт-Петербург           21741.0   \n",
       "2      False          41.0        0  Санкт-Петербург           31856.0   \n",
       "3      False          18.9        2  Санкт-Петербург           23982.0   \n",
       "4      False           6.5        2  Санкт-Петербург           50898.0   \n",
       "\n",
       "   city_centers_nearest  parks_around3000  parks_nearest  ponds_around3000  \\\n",
       "0                 16028                 1          482.0                 2   \n",
       "1                 13933                 1           90.0                 2   \n",
       "2                  8098                 2          112.0                 1   \n",
       "3                 11634                 0            NaN                 0   \n",
       "4                 15008                 0            NaN                 0   \n",
       "\n",
       "   ponds_nearest  days_exposition  days_exposition_missing     metr_price  \\\n",
       "0          755.0               95                     True  120370.370370   \n",
       "1          574.0              558                    False   92785.714286   \n",
       "2           48.0              121                    False  100000.000000   \n",
       "3            NaN               95                     True  110544.692737   \n",
       "4            NaN              289                    False   88524.590164   \n",
       "\n",
       "   year_exposition  month_exposition  day_exposition floor_type  \\\n",
       "0             2019                 3               3     другой   \n",
       "1             2015                 8               3     другой   \n",
       "2             2018                 6               1     другой   \n",
       "3             2019                 4               3     другой   \n",
       "4             2017                 2               6     другой   \n",
       "\n",
       "   area_living_to_total  area_kitchen_to_living  city_center_km  \n",
       "0              0.472222                0.490196              16  \n",
       "1              0.612500                0.241983              14  \n",
       "2              0.320000                1.281250               8  \n",
       "3              0.418994                0.630000              12  \n",
       "4              0.714754                0.149083              15  "
      ]
     },
     "execution_count": 23,
     "metadata": {},
     "output_type": "execute_result"
    }
   ],
   "source": [
    "data3 = data.copy()\n",
    "city_center = data3.query('locality_name == \"Санкт-Петербург\"').reset_index() # делаю срез по СПБ\n",
    "\n",
    "city_center['city_center_km'] =  round(city_center['city_centers_nearest'] / 1000).astype('int') # добавляю столбец с расстоянием до центра в км\n",
    "city_center.head()"
   ]
  },
  {
   "cell_type": "code",
   "execution_count": 24,
   "metadata": {},
   "outputs": [
    {
     "data": {
      "text/html": [
       "<div>\n",
       "<style scoped>\n",
       "    .dataframe tbody tr th:only-of-type {\n",
       "        vertical-align: middle;\n",
       "    }\n",
       "\n",
       "    .dataframe tbody tr th {\n",
       "        vertical-align: top;\n",
       "    }\n",
       "\n",
       "    .dataframe thead th {\n",
       "        text-align: right;\n",
       "    }\n",
       "</style>\n",
       "<table border=\"1\" class=\"dataframe\">\n",
       "  <thead>\n",
       "    <tr style=\"text-align: right;\">\n",
       "      <th></th>\n",
       "      <th>index</th>\n",
       "      <th>total_images</th>\n",
       "      <th>last_price</th>\n",
       "      <th>total_area</th>\n",
       "      <th>first_day_exposition</th>\n",
       "      <th>rooms</th>\n",
       "      <th>ceiling_height</th>\n",
       "      <th>floors_total</th>\n",
       "      <th>living_area</th>\n",
       "      <th>floor</th>\n",
       "      <th>is_apartment</th>\n",
       "      <th>studio</th>\n",
       "      <th>open_plan</th>\n",
       "      <th>kitchen_area</th>\n",
       "      <th>balcony</th>\n",
       "      <th>locality_name</th>\n",
       "      <th>airports_nearest</th>\n",
       "      <th>city_centers_nearest</th>\n",
       "      <th>parks_around3000</th>\n",
       "      <th>parks_nearest</th>\n",
       "      <th>ponds_around3000</th>\n",
       "      <th>ponds_nearest</th>\n",
       "      <th>days_exposition</th>\n",
       "      <th>days_exposition_missing</th>\n",
       "      <th>metr_price</th>\n",
       "      <th>year_exposition</th>\n",
       "      <th>month_exposition</th>\n",
       "      <th>day_exposition</th>\n",
       "      <th>floor_type</th>\n",
       "      <th>area_living_to_total</th>\n",
       "      <th>area_kitchen_to_living</th>\n",
       "      <th>city_center_km</th>\n",
       "    </tr>\n",
       "  </thead>\n",
       "  <tbody>\n",
       "    <tr>\n",
       "      <th>0</th>\n",
       "      <td>0</td>\n",
       "      <td>20</td>\n",
       "      <td>13000000</td>\n",
       "      <td>108.0</td>\n",
       "      <td>2019-03-07</td>\n",
       "      <td>3</td>\n",
       "      <td>2.70</td>\n",
       "      <td>16</td>\n",
       "      <td>51.0</td>\n",
       "      <td>8</td>\n",
       "      <td>False</td>\n",
       "      <td>False</td>\n",
       "      <td>False</td>\n",
       "      <td>25.0</td>\n",
       "      <td>0</td>\n",
       "      <td>Санкт-Петербург</td>\n",
       "      <td>18863.0</td>\n",
       "      <td>16028</td>\n",
       "      <td>1</td>\n",
       "      <td>482.0</td>\n",
       "      <td>2</td>\n",
       "      <td>755.0</td>\n",
       "      <td>95</td>\n",
       "      <td>True</td>\n",
       "      <td>120370.370370</td>\n",
       "      <td>2019</td>\n",
       "      <td>3</td>\n",
       "      <td>3</td>\n",
       "      <td>другой</td>\n",
       "      <td>0.472222</td>\n",
       "      <td>0.490196</td>\n",
       "      <td>16</td>\n",
       "    </tr>\n",
       "    <tr>\n",
       "      <th>1</th>\n",
       "      <td>2</td>\n",
       "      <td>10</td>\n",
       "      <td>5196000</td>\n",
       "      <td>56.0</td>\n",
       "      <td>2015-08-20</td>\n",
       "      <td>2</td>\n",
       "      <td>2.65</td>\n",
       "      <td>5</td>\n",
       "      <td>34.3</td>\n",
       "      <td>4</td>\n",
       "      <td>False</td>\n",
       "      <td>False</td>\n",
       "      <td>False</td>\n",
       "      <td>8.3</td>\n",
       "      <td>0</td>\n",
       "      <td>Санкт-Петербург</td>\n",
       "      <td>21741.0</td>\n",
       "      <td>13933</td>\n",
       "      <td>1</td>\n",
       "      <td>90.0</td>\n",
       "      <td>2</td>\n",
       "      <td>574.0</td>\n",
       "      <td>558</td>\n",
       "      <td>False</td>\n",
       "      <td>92785.714286</td>\n",
       "      <td>2015</td>\n",
       "      <td>8</td>\n",
       "      <td>3</td>\n",
       "      <td>другой</td>\n",
       "      <td>0.612500</td>\n",
       "      <td>0.241983</td>\n",
       "      <td>14</td>\n",
       "    </tr>\n",
       "    <tr>\n",
       "      <th>2</th>\n",
       "      <td>4</td>\n",
       "      <td>2</td>\n",
       "      <td>10000000</td>\n",
       "      <td>100.0</td>\n",
       "      <td>2018-06-19</td>\n",
       "      <td>2</td>\n",
       "      <td>3.03</td>\n",
       "      <td>14</td>\n",
       "      <td>32.0</td>\n",
       "      <td>13</td>\n",
       "      <td>False</td>\n",
       "      <td>False</td>\n",
       "      <td>False</td>\n",
       "      <td>41.0</td>\n",
       "      <td>0</td>\n",
       "      <td>Санкт-Петербург</td>\n",
       "      <td>31856.0</td>\n",
       "      <td>8098</td>\n",
       "      <td>2</td>\n",
       "      <td>112.0</td>\n",
       "      <td>1</td>\n",
       "      <td>48.0</td>\n",
       "      <td>121</td>\n",
       "      <td>False</td>\n",
       "      <td>100000.000000</td>\n",
       "      <td>2018</td>\n",
       "      <td>6</td>\n",
       "      <td>1</td>\n",
       "      <td>другой</td>\n",
       "      <td>0.320000</td>\n",
       "      <td>1.281250</td>\n",
       "      <td>8</td>\n",
       "    </tr>\n",
       "    <tr>\n",
       "      <th>3</th>\n",
       "      <td>7</td>\n",
       "      <td>5</td>\n",
       "      <td>7915000</td>\n",
       "      <td>71.6</td>\n",
       "      <td>2019-04-18</td>\n",
       "      <td>2</td>\n",
       "      <td>2.65</td>\n",
       "      <td>24</td>\n",
       "      <td>30.0</td>\n",
       "      <td>22</td>\n",
       "      <td>False</td>\n",
       "      <td>False</td>\n",
       "      <td>False</td>\n",
       "      <td>18.9</td>\n",
       "      <td>2</td>\n",
       "      <td>Санкт-Петербург</td>\n",
       "      <td>23982.0</td>\n",
       "      <td>11634</td>\n",
       "      <td>0</td>\n",
       "      <td>NaN</td>\n",
       "      <td>0</td>\n",
       "      <td>NaN</td>\n",
       "      <td>95</td>\n",
       "      <td>True</td>\n",
       "      <td>110544.692737</td>\n",
       "      <td>2019</td>\n",
       "      <td>4</td>\n",
       "      <td>3</td>\n",
       "      <td>другой</td>\n",
       "      <td>0.418994</td>\n",
       "      <td>0.630000</td>\n",
       "      <td>12</td>\n",
       "    </tr>\n",
       "    <tr>\n",
       "      <th>4</th>\n",
       "      <td>9</td>\n",
       "      <td>18</td>\n",
       "      <td>5400000</td>\n",
       "      <td>61.0</td>\n",
       "      <td>2017-02-26</td>\n",
       "      <td>3</td>\n",
       "      <td>2.50</td>\n",
       "      <td>9</td>\n",
       "      <td>43.6</td>\n",
       "      <td>7</td>\n",
       "      <td>False</td>\n",
       "      <td>False</td>\n",
       "      <td>False</td>\n",
       "      <td>6.5</td>\n",
       "      <td>2</td>\n",
       "      <td>Санкт-Петербург</td>\n",
       "      <td>50898.0</td>\n",
       "      <td>15008</td>\n",
       "      <td>0</td>\n",
       "      <td>NaN</td>\n",
       "      <td>0</td>\n",
       "      <td>NaN</td>\n",
       "      <td>289</td>\n",
       "      <td>False</td>\n",
       "      <td>88524.590164</td>\n",
       "      <td>2017</td>\n",
       "      <td>2</td>\n",
       "      <td>6</td>\n",
       "      <td>другой</td>\n",
       "      <td>0.714754</td>\n",
       "      <td>0.149083</td>\n",
       "      <td>15</td>\n",
       "    </tr>\n",
       "  </tbody>\n",
       "</table>\n",
       "</div>"
      ],
      "text/plain": [
       "   index  total_images  last_price  total_area first_day_exposition  rooms  \\\n",
       "0      0            20    13000000       108.0           2019-03-07      3   \n",
       "1      2            10     5196000        56.0           2015-08-20      2   \n",
       "2      4             2    10000000       100.0           2018-06-19      2   \n",
       "3      7             5     7915000        71.6           2019-04-18      2   \n",
       "4      9            18     5400000        61.0           2017-02-26      3   \n",
       "\n",
       "   ceiling_height  floors_total  living_area  floor  is_apartment  studio  \\\n",
       "0            2.70            16         51.0      8         False   False   \n",
       "1            2.65             5         34.3      4         False   False   \n",
       "2            3.03            14         32.0     13         False   False   \n",
       "3            2.65            24         30.0     22         False   False   \n",
       "4            2.50             9         43.6      7         False   False   \n",
       "\n",
       "   open_plan  kitchen_area  balcony    locality_name  airports_nearest  \\\n",
       "0      False          25.0        0  Санкт-Петербург           18863.0   \n",
       "1      False           8.3        0  Санкт-Петербург           21741.0   \n",
       "2      False          41.0        0  Санкт-Петербург           31856.0   \n",
       "3      False          18.9        2  Санкт-Петербург           23982.0   \n",
       "4      False           6.5        2  Санкт-Петербург           50898.0   \n",
       "\n",
       "   city_centers_nearest  parks_around3000  parks_nearest  ponds_around3000  \\\n",
       "0                 16028                 1          482.0                 2   \n",
       "1                 13933                 1           90.0                 2   \n",
       "2                  8098                 2          112.0                 1   \n",
       "3                 11634                 0            NaN                 0   \n",
       "4                 15008                 0            NaN                 0   \n",
       "\n",
       "   ponds_nearest  days_exposition  days_exposition_missing     metr_price  \\\n",
       "0          755.0               95                     True  120370.370370   \n",
       "1          574.0              558                    False   92785.714286   \n",
       "2           48.0              121                    False  100000.000000   \n",
       "3            NaN               95                     True  110544.692737   \n",
       "4            NaN              289                    False   88524.590164   \n",
       "\n",
       "   year_exposition  month_exposition  day_exposition floor_type  \\\n",
       "0             2019                 3               3     другой   \n",
       "1             2015                 8               3     другой   \n",
       "2             2018                 6               1     другой   \n",
       "3             2019                 4               3     другой   \n",
       "4             2017                 2               6     другой   \n",
       "\n",
       "   area_living_to_total  area_kitchen_to_living  city_center_km  \n",
       "0              0.472222                0.490196              16  \n",
       "1              0.612500                0.241983              14  \n",
       "2              0.320000                1.281250               8  \n",
       "3              0.418994                0.630000              12  \n",
       "4              0.714754                0.149083              15  "
      ]
     },
     "execution_count": 24,
     "metadata": {},
     "output_type": "execute_result"
    }
   ],
   "source": [
    "data3 = data\n",
    "city_center = data3.query('locality_name == \"Санкт-Петербург\"').reset_index() # делаю срез по СПБ\n",
    "\n",
    "city_center['city_center_km'] =  round(city_center['city_centers_nearest'] / 1000).astype('int') # добавляю столбец с расстоянием до центра в км\n",
    "city_center.head()"
   ]
  },
  {
   "cell_type": "code",
   "execution_count": 25,
   "metadata": {
    "scrolled": false
   },
   "outputs": [
    {
     "data": {
      "image/png": "[encoded data removed]",
      "text/plain": [
       "<Figure size 432x288 with 1 Axes>"
      ]
     },
     "metadata": {
      "needs_background": "light"
     },
     "output_type": "display_data"
    }
   ],
   "source": [
    "price_km = city_center.pivot_table(index='city_center_km', values='last_price') #сводная таблица для каждого км\n",
    "price_km.columns=['last_price_mean'] #меняю название столбца\n",
    "\n",
    "plt.plot(price_km) #вывожу зависимость средней цены от расстояния\n",
    "plt.legend(price_km.columns)\n",
    "plt.title('Зависимость средней цены от расстояния до центра')\n",
    "plt.show()"
   ]
  },
  {
   "cell_type": "markdown",
   "metadata": {},
   "source": [
    "По графику предположу, что центральная зона - это зона, в радиусе 7 км."
   ]
  },
  {
   "cell_type": "markdown",
   "metadata": {},
   "source": [
    "**Cегмент квартир в центре**"
   ]
  },
  {
   "cell_type": "code",
   "execution_count": 26,
   "metadata": {
    "scrolled": false
   },
   "outputs": [
    {
     "data": {
      "text/html": [
       "<div>\n",
       "<style scoped>\n",
       "    .dataframe tbody tr th:only-of-type {\n",
       "        vertical-align: middle;\n",
       "    }\n",
       "\n",
       "    .dataframe tbody tr th {\n",
       "        vertical-align: top;\n",
       "    }\n",
       "\n",
       "    .dataframe thead th {\n",
       "        text-align: right;\n",
       "    }\n",
       "</style>\n",
       "<table border=\"1\" class=\"dataframe\">\n",
       "  <thead>\n",
       "    <tr style=\"text-align: right;\">\n",
       "      <th></th>\n",
       "      <th>index</th>\n",
       "      <th>total_images</th>\n",
       "      <th>last_price</th>\n",
       "      <th>total_area</th>\n",
       "      <th>first_day_exposition</th>\n",
       "      <th>rooms</th>\n",
       "      <th>ceiling_height</th>\n",
       "      <th>floors_total</th>\n",
       "      <th>living_area</th>\n",
       "      <th>floor</th>\n",
       "      <th>is_apartment</th>\n",
       "      <th>studio</th>\n",
       "      <th>open_plan</th>\n",
       "      <th>kitchen_area</th>\n",
       "      <th>balcony</th>\n",
       "      <th>locality_name</th>\n",
       "      <th>airports_nearest</th>\n",
       "      <th>city_centers_nearest</th>\n",
       "      <th>parks_around3000</th>\n",
       "      <th>parks_nearest</th>\n",
       "      <th>ponds_around3000</th>\n",
       "      <th>ponds_nearest</th>\n",
       "      <th>days_exposition</th>\n",
       "      <th>days_exposition_missing</th>\n",
       "      <th>metr_price</th>\n",
       "      <th>year_exposition</th>\n",
       "      <th>month_exposition</th>\n",
       "      <th>day_exposition</th>\n",
       "      <th>floor_type</th>\n",
       "      <th>area_living_to_total</th>\n",
       "      <th>area_kitchen_to_living</th>\n",
       "      <th>city_center_km</th>\n",
       "    </tr>\n",
       "  </thead>\n",
       "  <tbody>\n",
       "    <tr>\n",
       "      <th>13</th>\n",
       "      <td>24</td>\n",
       "      <td>8</td>\n",
       "      <td>6500000</td>\n",
       "      <td>97.2</td>\n",
       "      <td>2015-10-31</td>\n",
       "      <td>2</td>\n",
       "      <td>2.65</td>\n",
       "      <td>3</td>\n",
       "      <td>46.5</td>\n",
       "      <td>1</td>\n",
       "      <td>False</td>\n",
       "      <td>False</td>\n",
       "      <td>False</td>\n",
       "      <td>19.6</td>\n",
       "      <td>0</td>\n",
       "      <td>Санкт-Петербург</td>\n",
       "      <td>20052.0</td>\n",
       "      <td>2336</td>\n",
       "      <td>3</td>\n",
       "      <td>411.0</td>\n",
       "      <td>3</td>\n",
       "      <td>124.0</td>\n",
       "      <td>265</td>\n",
       "      <td>False</td>\n",
       "      <td>66872.427984</td>\n",
       "      <td>2015</td>\n",
       "      <td>10</td>\n",
       "      <td>5</td>\n",
       "      <td>первый</td>\n",
       "      <td>0.478395</td>\n",
       "      <td>0.421505</td>\n",
       "      <td>2</td>\n",
       "    </tr>\n",
       "    <tr>\n",
       "      <th>21</th>\n",
       "      <td>35</td>\n",
       "      <td>6</td>\n",
       "      <td>15500000</td>\n",
       "      <td>149.0</td>\n",
       "      <td>2017-06-26</td>\n",
       "      <td>5</td>\n",
       "      <td>2.65</td>\n",
       "      <td>5</td>\n",
       "      <td>104.0</td>\n",
       "      <td>4</td>\n",
       "      <td>False</td>\n",
       "      <td>False</td>\n",
       "      <td>False</td>\n",
       "      <td>17.0</td>\n",
       "      <td>0</td>\n",
       "      <td>Санкт-Петербург</td>\n",
       "      <td>23670.0</td>\n",
       "      <td>3502</td>\n",
       "      <td>0</td>\n",
       "      <td>NaN</td>\n",
       "      <td>1</td>\n",
       "      <td>779.0</td>\n",
       "      <td>644</td>\n",
       "      <td>False</td>\n",
       "      <td>104026.845638</td>\n",
       "      <td>2017</td>\n",
       "      <td>6</td>\n",
       "      <td>0</td>\n",
       "      <td>другой</td>\n",
       "      <td>0.697987</td>\n",
       "      <td>0.163462</td>\n",
       "      <td>4</td>\n",
       "    </tr>\n",
       "    <tr>\n",
       "      <th>36</th>\n",
       "      <td>61</td>\n",
       "      <td>18</td>\n",
       "      <td>7990000</td>\n",
       "      <td>74.0</td>\n",
       "      <td>2017-08-24</td>\n",
       "      <td>2</td>\n",
       "      <td>2.65</td>\n",
       "      <td>4</td>\n",
       "      <td>43.0</td>\n",
       "      <td>4</td>\n",
       "      <td>False</td>\n",
       "      <td>False</td>\n",
       "      <td>False</td>\n",
       "      <td>20.0</td>\n",
       "      <td>0</td>\n",
       "      <td>Санкт-Петербург</td>\n",
       "      <td>22568.0</td>\n",
       "      <td>4288</td>\n",
       "      <td>1</td>\n",
       "      <td>363.0</td>\n",
       "      <td>0</td>\n",
       "      <td>NaN</td>\n",
       "      <td>609</td>\n",
       "      <td>False</td>\n",
       "      <td>107972.972973</td>\n",
       "      <td>2017</td>\n",
       "      <td>8</td>\n",
       "      <td>3</td>\n",
       "      <td>последний</td>\n",
       "      <td>0.581081</td>\n",
       "      <td>0.465116</td>\n",
       "      <td>4</td>\n",
       "    </tr>\n",
       "    <tr>\n",
       "      <th>37</th>\n",
       "      <td>63</td>\n",
       "      <td>2</td>\n",
       "      <td>20000000</td>\n",
       "      <td>118.0</td>\n",
       "      <td>2018-09-11</td>\n",
       "      <td>3</td>\n",
       "      <td>3.00</td>\n",
       "      <td>9</td>\n",
       "      <td>68.0</td>\n",
       "      <td>7</td>\n",
       "      <td>False</td>\n",
       "      <td>False</td>\n",
       "      <td>False</td>\n",
       "      <td>16.0</td>\n",
       "      <td>0</td>\n",
       "      <td>Санкт-Петербург</td>\n",
       "      <td>26055.0</td>\n",
       "      <td>4800</td>\n",
       "      <td>1</td>\n",
       "      <td>648.0</td>\n",
       "      <td>1</td>\n",
       "      <td>779.0</td>\n",
       "      <td>37</td>\n",
       "      <td>False</td>\n",
       "      <td>169491.525424</td>\n",
       "      <td>2018</td>\n",
       "      <td>9</td>\n",
       "      <td>1</td>\n",
       "      <td>другой</td>\n",
       "      <td>0.576271</td>\n",
       "      <td>0.235294</td>\n",
       "      <td>5</td>\n",
       "    </tr>\n",
       "    <tr>\n",
       "      <th>49</th>\n",
       "      <td>94</td>\n",
       "      <td>3</td>\n",
       "      <td>3500000</td>\n",
       "      <td>29.5</td>\n",
       "      <td>2019-04-26</td>\n",
       "      <td>1</td>\n",
       "      <td>2.50</td>\n",
       "      <td>5</td>\n",
       "      <td>15.6</td>\n",
       "      <td>2</td>\n",
       "      <td>False</td>\n",
       "      <td>False</td>\n",
       "      <td>False</td>\n",
       "      <td>5.5</td>\n",
       "      <td>1</td>\n",
       "      <td>Санкт-Петербург</td>\n",
       "      <td>12921.0</td>\n",
       "      <td>7303</td>\n",
       "      <td>0</td>\n",
       "      <td>NaN</td>\n",
       "      <td>0</td>\n",
       "      <td>NaN</td>\n",
       "      <td>4</td>\n",
       "      <td>False</td>\n",
       "      <td>118644.067797</td>\n",
       "      <td>2019</td>\n",
       "      <td>4</td>\n",
       "      <td>4</td>\n",
       "      <td>другой</td>\n",
       "      <td>0.528814</td>\n",
       "      <td>0.352564</td>\n",
       "      <td>7</td>\n",
       "    </tr>\n",
       "  </tbody>\n",
       "</table>\n",
       "</div>"
      ],
      "text/plain": [
       "    index  total_images  last_price  total_area first_day_exposition  rooms  \\\n",
       "13     24             8     6500000        97.2           2015-10-31      2   \n",
       "21     35             6    15500000       149.0           2017-06-26      5   \n",
       "36     61            18     7990000        74.0           2017-08-24      2   \n",
       "37     63             2    20000000       118.0           2018-09-11      3   \n",
       "49     94             3     3500000        29.5           2019-04-26      1   \n",
       "\n",
       "    ceiling_height  floors_total  living_area  floor  is_apartment  studio  \\\n",
       "13            2.65             3         46.5      1         False   False   \n",
       "21            2.65             5        104.0      4         False   False   \n",
       "36            2.65             4         43.0      4         False   False   \n",
       "37            3.00             9         68.0      7         False   False   \n",
       "49            2.50             5         15.6      2         False   False   \n",
       "\n",
       "    open_plan  kitchen_area  balcony    locality_name  airports_nearest  \\\n",
       "13      False          19.6        0  Санкт-Петербург           20052.0   \n",
       "21      False          17.0        0  Санкт-Петербург           23670.0   \n",
       "36      False          20.0        0  Санкт-Петербург           22568.0   \n",
       "37      False          16.0        0  Санкт-Петербург           26055.0   \n",
       "49      False           5.5        1  Санкт-Петербург           12921.0   \n",
       "\n",
       "    city_centers_nearest  parks_around3000  parks_nearest  ponds_around3000  \\\n",
       "13                  2336                 3          411.0                 3   \n",
       "21                  3502                 0            NaN                 1   \n",
       "36                  4288                 1          363.0                 0   \n",
       "37                  4800                 1          648.0                 1   \n",
       "49                  7303                 0            NaN                 0   \n",
       "\n",
       "    ponds_nearest  days_exposition  days_exposition_missing     metr_price  \\\n",
       "13          124.0              265                    False   66872.427984   \n",
       "21          779.0              644                    False  104026.845638   \n",
       "36            NaN              609                    False  107972.972973   \n",
       "37          779.0               37                    False  169491.525424   \n",
       "49            NaN                4                    False  118644.067797   \n",
       "\n",
       "    year_exposition  month_exposition  day_exposition floor_type  \\\n",
       "13             2015                10               5     первый   \n",
       "21             2017                 6               0     другой   \n",
       "36             2017                 8               3  последний   \n",
       "37             2018                 9               1     другой   \n",
       "49             2019                 4               4     другой   \n",
       "\n",
       "    area_living_to_total  area_kitchen_to_living  city_center_km  \n",
       "13              0.478395                0.421505               2  \n",
       "21              0.697987                0.163462               4  \n",
       "36              0.581081                0.465116               4  \n",
       "37              0.576271                0.235294               5  \n",
       "49              0.528814                0.352564               7  "
      ]
     },
     "execution_count": 26,
     "metadata": {},
     "output_type": "execute_result"
    }
   ],
   "source": [
    "city_center_segment = city_center.query('city_center_km <= 7') #получаю сегмент квартир в центре\n",
    "city_center_segment.head(5)"
   ]
  },
  {
   "cell_type": "code",
   "execution_count": 27,
   "metadata": {
    "scrolled": true
   },
   "outputs": [
    {
     "data": {
      "image/png": "[encoded data removed]",
      "text/plain": [
       "<Figure size 432x288 with 1 Axes>"
      ]
     },
     "metadata": {
      "needs_background": "light"
     },
     "output_type": "display_data"
    },
    {
     "data": {
      "image/png": "[encoded data removed]",
      "text/plain": [
       "<Figure size 432x288 with 1 Axes>"
      ]
     },
     "metadata": {
      "needs_background": "light"
     },
     "output_type": "display_data"
    },
    {
     "data": {
      "image/png": "[encoded data removed]",
      "text/plain": [
       "<Figure size 432x288 with 1 Axes>"
      ]
     },
     "metadata": {
      "needs_background": "light"
     },
     "output_type": "display_data"
    },
    {
     "data": {
      "image/png": "[encoded data removed]",
      "text/plain": [
       "<Figure size 432x288 with 1 Axes>"
      ]
     },
     "metadata": {
      "needs_background": "light"
     },
     "output_type": "display_data"
    }
   ],
   "source": [
    "#гистограммы для квартир в центре\n",
    "city_center_segment['total_area'].plot(kind='hist', bins=100, title='total_area')\n",
    "plt.show()\n",
    "city_center_segment['last_price'].plot(kind='hist', bins=100, title='last_price')\n",
    "plt.show()\n",
    "city_center_segment['rooms'].plot(kind='hist', bins=10, title='rooms')\n",
    "plt.show()\n",
    "city_center_segment['ceiling_height'].plot(kind='hist', bins=10, title='ceiling_height')\n",
    "plt.show()"
   ]
  },
  {
   "cell_type": "markdown",
   "metadata": {},
   "source": [
    "- в центре большое количество квартир от 40 до 100м2, тогда как в общем ДФ - от 30 до 70м2\n",
    "- в центре преобладают цены от 5 до 10 млн, в общем ДФ - от 3 до 7 млн\n",
    "- в центре преобладают 2 и 3х комнатные квартиры, в общем ДФ - 1 и 2х комнатные квартиры\n",
    "- в центре большое кол-во квартир с потолками 2.7м, но также имеются стабильные показатели квартир с потолками до 3.5м, в общем ДФ - высота от 2.5 до 2.8м"
   ]
  },
  {
   "cell_type": "markdown",
   "metadata": {},
   "source": [
    "**Зависимость цены от даты размещения: дня недели, месяца и года для квартир в центре**"
   ]
  },
  {
   "cell_type": "code",
   "execution_count": 28,
   "metadata": {
    "scrolled": true
   },
   "outputs": [
    {
     "data": {
      "text/plain": [
       "<AxesSubplot:title={'center':'Зависимость года от цены'}, xlabel='year_exposition', ylabel='last_price'>"
      ]
     },
     "execution_count": 28,
     "metadata": {},
     "output_type": "execute_result"
    },
    {
     "data": {
      "image/png": "[encoded data removed]",
      "text/plain": [
       "<Figure size 432x288 with 1 Axes>"
      ]
     },
     "metadata": {
      "needs_background": "light"
     },
     "output_type": "display_data"
    },
    {
     "data": {
      "image/png": "[encoded data removed]",
      "text/plain": [
       "<Figure size 432x288 with 1 Axes>"
      ]
     },
     "metadata": {
      "needs_background": "light"
     },
     "output_type": "display_data"
    },
    {
     "data": {
      "image/png": "[encoded data removed]",
      "text/plain": [
       "<Figure size 432x288 with 1 Axes>"
      ]
     },
     "metadata": {
      "needs_background": "light"
     },
     "output_type": "display_data"
    }
   ],
   "source": [
    "city_center_segment.plot(x='day_exposition', y='last_price', kind='scatter', title='Зависимость дня недели от цены') # от дня недели\n",
    "city_center_segment.plot(x='month_exposition', y='last_price', kind='scatter', title='Зависимость месяца от цены') # от месяца\n",
    "city_center_segment.plot(x='year_exposition', y='last_price', kind='scatter', title='Зависимость года от цены') # от месяца"
   ]
  },
  {
   "cell_type": "markdown",
   "metadata": {},
   "source": [
    "Зависимость даты от цены такая же, как и в общем ДФ"
   ]
  },
  {
   "cell_type": "markdown",
   "metadata": {},
   "source": [
    "**Зависимость цены  от площади, числа комнат, удалённости от центра для квартир в центре**"
   ]
  },
  {
   "cell_type": "code",
   "execution_count": 29,
   "metadata": {},
   "outputs": [
    {
     "name": "stdout",
     "output_type": "stream",
     "text": [
      "Коэффицент корреляции зависимости общей площади от цены: 0.7182383256520554\n",
      "Коэффицент корреляции зависимости числа комнат от цены: 0.40813081345370184\n",
      "Коэффицент корреляции зависимости расстояния до центра от цены: -0.06355977587765266\n"
     ]
    },
    {
     "data": {
      "image/png": "[encoded data removed]",
      "text/plain": [
       "<Figure size 432x288 with 1 Axes>"
      ]
     },
     "metadata": {
      "needs_background": "light"
     },
     "output_type": "display_data"
    },
    {
     "data": {
      "image/png": "[encoded data removed]",
      "text/plain": [
       "<Figure size 432x288 with 1 Axes>"
      ]
     },
     "metadata": {
      "needs_background": "light"
     },
     "output_type": "display_data"
    },
    {
     "data": {
      "image/png": "[encoded data removed]",
      "text/plain": [
       "<Figure size 432x288 with 1 Axes>"
      ]
     },
     "metadata": {
      "needs_background": "light"
     },
     "output_type": "display_data"
    }
   ],
   "source": [
    "city_center_segment.plot(x='total_area', y='last_price', kind='scatter', title='Зависимость общей площади от цены') #от общей площади\n",
    "city_center_segment.plot(x='rooms', y='last_price', kind='scatter', title='Зависимость числа комнат от цены') #от числа комнат\n",
    "city_center_segment.plot(x='city_centers_nearest', y='last_price', kind='scatter', title='Зависимость расстояния до центра от цены') #от удаленности от центра\n",
    "\n",
    "print('Коэффицент корреляции зависимости общей площади от цены:', city_center_segment['total_area'].corr(city_center_segment['last_price']))\n",
    "print('Коэффицент корреляции зависимости числа комнат от цены:', city_center_segment['rooms'].corr(city_center_segment['last_price']))\n",
    "print('Коэффицент корреляции зависимости расстояния до центра от цены:', city_center_segment['city_centers_nearest'].corr(city_center_segment['last_price']))"
   ]
  },
  {
   "cell_type": "markdown",
   "metadata": {},
   "source": [
    "Зависимости общей площади и количества комнат для квартир в центре такие же, как и в общем ДФ. Но в зависимости расстояния до центра от цены видно, что чем дальше от центра, тем больше дорогих квартир. Возможно, это связано с тем, что на малом расстоянии от центра мало жилых помещений.  "
   ]
  },
  {
   "cell_type": "markdown",
   "metadata": {},
   "source": [
    "**Зависимость цены  от этажа для квартир в центре**"
   ]
  },
  {
   "cell_type": "code",
   "execution_count": 30,
   "metadata": {},
   "outputs": [
    {
     "data": {
      "image/png": "[encoded data removed]",
      "text/plain": [
       "<Figure size 432x288 with 1 Axes>"
      ]
     },
     "metadata": {
      "needs_background": "light"
     },
     "output_type": "display_data"
    },
    {
     "data": {
      "image/png": "[encoded data removed]",
      "text/plain": [
       "<Figure size 432x288 with 1 Axes>"
      ]
     },
     "metadata": {
      "needs_background": "light"
     },
     "output_type": "display_data"
    },
    {
     "data": {
      "image/png": "[encoded data removed]",
      "text/plain": [
       "<Figure size 432x288 with 1 Axes>"
      ]
     },
     "metadata": {
      "needs_background": "light"
     },
     "output_type": "display_data"
    }
   ],
   "source": [
    "for name, group_data in city_center_segment.groupby('floor_type'):\n",
    "    group_data.plot(kind='hist', y='last_price', title=name, bins=50)   "
   ]
  },
  {
   "cell_type": "markdown",
   "metadata": {},
   "source": [
    "Зависимости этажности от цен для квартир в центре похожи на общий ДФ."
   ]
  },
  {
   "cell_type": "markdown",
   "metadata": {},
   "source": [
    "## Общий вывод"
   ]
  },
  {
   "cell_type": "markdown",
   "metadata": {},
   "source": [
    "В заключение скажу, что на ценообразование влияет площадь квартиры, расстояние до центра, а также кол-во комнат до определенного момента. Второстепенные факторы такие, как этажность, день, месяц, год публикации мало влияют на ценообразование. \n",
    "\n",
    "Также добавлю, что:\n",
    "- в центре большое количество квартир от 40 до 100м2, тогда как в общем ДФ - от 30 до 70м2\n",
    "- в центре преобладают цены от 5 до 10 млн, в общем ДФ - от 3 до 7 млн\n",
    "- в центре преобладают 2 и 3х комнатные квартиры, в общем ДФ - 1 и 2х комнатные квартиры\n",
    "- в центре большое кол-во квартир с потолками 2.7м, но также имеются стабильные показатели квартир с потолками до 3.5м, в общем ДФ - высота от 2.5 до 2.8м "
   ]
  }
 ],
 "metadata": {
  "ExecuteTimeLog": [
   {
    "duration": 91,
    "start_time": "2022-03-13T14:55:59.924Z"
   },
   {
    "duration": 368,
    "start_time": "2022-03-13T14:56:05.346Z"
   },
   {
    "duration": 267,
    "start_time": "2022-03-13T14:56:17.138Z"
   },
   {
    "duration": 416,
    "start_time": "2022-03-13T14:56:49.515Z"
   },
   {
    "duration": 589,
    "start_time": "2022-03-13T14:57:03.044Z"
   },
   {
    "duration": 2474,
    "start_time": "2022-03-13T14:57:03.635Z"
   },
   {
    "duration": 79,
    "start_time": "2022-03-13T14:57:19.605Z"
   },
   {
    "duration": 97,
    "start_time": "2022-03-13T14:57:33.620Z"
   },
   {
    "duration": 109,
    "start_time": "2022-03-13T14:57:57.389Z"
   },
   {
    "duration": 86,
    "start_time": "2022-03-13T14:58:31.630Z"
   },
   {
    "duration": 103,
    "start_time": "2022-03-13T14:58:35.319Z"
   },
   {
    "duration": 23,
    "start_time": "2022-03-13T15:04:19.212Z"
   },
   {
    "duration": 11,
    "start_time": "2022-03-13T15:04:28.354Z"
   },
   {
    "duration": 23,
    "start_time": "2022-03-13T15:05:54.573Z"
   },
   {
    "duration": 30,
    "start_time": "2022-03-13T15:07:44.703Z"
   },
   {
    "duration": 23,
    "start_time": "2022-03-13T15:08:27.121Z"
   },
   {
    "duration": 23,
    "start_time": "2022-03-13T15:08:31.559Z"
   },
   {
    "duration": 75,
    "start_time": "2022-03-13T15:10:28.583Z"
   },
   {
    "duration": 97,
    "start_time": "2022-03-13T15:13:58.622Z"
   },
   {
    "duration": 693,
    "start_time": "2022-03-13T16:01:12.485Z"
   },
   {
    "duration": 121,
    "start_time": "2022-03-13T16:01:13.180Z"
   },
   {
    "duration": 16,
    "start_time": "2022-03-13T16:01:13.303Z"
   },
   {
    "duration": 38,
    "start_time": "2022-03-13T16:01:13.322Z"
   },
   {
    "duration": 8,
    "start_time": "2022-03-13T16:02:00.530Z"
   },
   {
    "duration": 5,
    "start_time": "2022-03-13T16:02:19.193Z"
   },
   {
    "duration": 5,
    "start_time": "2022-03-13T16:02:25.049Z"
   },
   {
    "duration": 18,
    "start_time": "2022-03-13T16:02:39.873Z"
   },
   {
    "duration": 46,
    "start_time": "2022-03-13T16:03:48.259Z"
   },
   {
    "duration": 73,
    "start_time": "2022-03-13T16:14:39.766Z"
   },
   {
    "duration": 39,
    "start_time": "2022-03-13T16:15:51.853Z"
   },
   {
    "duration": 40,
    "start_time": "2022-03-13T16:16:31.925Z"
   },
   {
    "duration": 277,
    "start_time": "2022-03-14T05:48:19.649Z"
   },
   {
    "duration": 571,
    "start_time": "2022-03-14T05:48:25.177Z"
   },
   {
    "duration": 87,
    "start_time": "2022-03-14T05:48:25.750Z"
   },
   {
    "duration": 27,
    "start_time": "2022-03-14T05:48:25.839Z"
   },
   {
    "duration": 22,
    "start_time": "2022-03-14T05:48:25.867Z"
   },
   {
    "duration": 8,
    "start_time": "2022-03-14T05:48:25.901Z"
   },
   {
    "duration": 21,
    "start_time": "2022-03-14T05:48:25.911Z"
   },
   {
    "duration": 6,
    "start_time": "2022-03-14T05:48:25.933Z"
   },
   {
    "duration": 6220,
    "start_time": "2022-03-14T05:48:25.941Z"
   },
   {
    "duration": 14,
    "start_time": "2022-03-14T05:48:40.880Z"
   },
   {
    "duration": 7,
    "start_time": "2022-03-14T05:49:18.345Z"
   },
   {
    "duration": 609,
    "start_time": "2022-03-14T05:50:17.776Z"
   },
   {
    "duration": 82,
    "start_time": "2022-03-14T05:50:18.387Z"
   },
   {
    "duration": 35,
    "start_time": "2022-03-14T05:50:18.471Z"
   },
   {
    "duration": 23,
    "start_time": "2022-03-14T05:50:18.508Z"
   },
   {
    "duration": 9,
    "start_time": "2022-03-14T05:50:18.532Z"
   },
   {
    "duration": 30,
    "start_time": "2022-03-14T05:50:18.543Z"
   },
   {
    "duration": 8,
    "start_time": "2022-03-14T05:50:18.574Z"
   },
   {
    "duration": 6241,
    "start_time": "2022-03-14T05:50:18.602Z"
   },
   {
    "duration": 6249,
    "start_time": "2022-03-14T05:50:55.283Z"
   },
   {
    "duration": 283,
    "start_time": "2022-03-14T05:53:21.436Z"
   },
   {
    "duration": 6214,
    "start_time": "2022-03-14T05:54:05.494Z"
   },
   {
    "duration": 307,
    "start_time": "2022-03-14T05:54:28.814Z"
   },
   {
    "duration": 315,
    "start_time": "2022-03-14T05:54:44.445Z"
   },
   {
    "duration": 513,
    "start_time": "2022-03-14T05:55:20.554Z"
   },
   {
    "duration": 78,
    "start_time": "2022-03-14T05:55:21.069Z"
   },
   {
    "duration": 27,
    "start_time": "2022-03-14T05:55:21.149Z"
   },
   {
    "duration": 34,
    "start_time": "2022-03-14T05:55:21.178Z"
   },
   {
    "duration": 9,
    "start_time": "2022-03-14T05:55:21.213Z"
   },
   {
    "duration": 22,
    "start_time": "2022-03-14T05:55:21.223Z"
   },
   {
    "duration": 5,
    "start_time": "2022-03-14T05:55:21.247Z"
   },
   {
    "duration": 301,
    "start_time": "2022-03-14T05:55:21.254Z"
   },
   {
    "duration": 262,
    "start_time": "2022-03-14T05:57:05.004Z"
   },
   {
    "duration": 309,
    "start_time": "2022-03-14T05:57:27.092Z"
   },
   {
    "duration": 3,
    "start_time": "2022-03-14T05:58:33.806Z"
   },
   {
    "duration": 254,
    "start_time": "2022-03-14T06:00:23.552Z"
   },
   {
    "duration": 4,
    "start_time": "2022-03-14T06:01:07.545Z"
   },
   {
    "duration": 11,
    "start_time": "2022-03-14T06:01:21.968Z"
   },
   {
    "duration": 15,
    "start_time": "2022-03-14T06:04:07.859Z"
   },
   {
    "duration": 5,
    "start_time": "2022-03-14T06:05:25.677Z"
   },
   {
    "duration": 6245,
    "start_time": "2022-03-14T06:06:03.742Z"
   },
   {
    "duration": 6425,
    "start_time": "2022-03-14T06:06:25.430Z"
   },
   {
    "duration": 6617,
    "start_time": "2022-03-14T06:06:45.726Z"
   },
   {
    "duration": 6107,
    "start_time": "2022-03-14T06:08:22.441Z"
   },
   {
    "duration": 8,
    "start_time": "2022-03-14T06:08:34.409Z"
   },
   {
    "duration": 277,
    "start_time": "2022-03-14T06:09:02.800Z"
   },
   {
    "duration": 576,
    "start_time": "2022-03-14T06:09:14.826Z"
   },
   {
    "duration": 109,
    "start_time": "2022-03-14T06:09:15.403Z"
   },
   {
    "duration": 28,
    "start_time": "2022-03-14T06:09:15.517Z"
   },
   {
    "duration": 23,
    "start_time": "2022-03-14T06:09:15.546Z"
   },
   {
    "duration": 31,
    "start_time": "2022-03-14T06:09:15.571Z"
   },
   {
    "duration": 23,
    "start_time": "2022-03-14T06:09:15.603Z"
   },
   {
    "duration": 14,
    "start_time": "2022-03-14T06:09:15.628Z"
   },
   {
    "duration": 58,
    "start_time": "2022-03-14T06:09:15.644Z"
   },
   {
    "duration": 12,
    "start_time": "2022-03-14T06:09:15.704Z"
   },
   {
    "duration": 322,
    "start_time": "2022-03-14T06:09:33.734Z"
   },
   {
    "duration": 518,
    "start_time": "2022-03-14T06:09:46.235Z"
   },
   {
    "duration": 80,
    "start_time": "2022-03-14T06:09:46.755Z"
   },
   {
    "duration": 27,
    "start_time": "2022-03-14T06:09:46.838Z"
   },
   {
    "duration": 36,
    "start_time": "2022-03-14T06:09:46.866Z"
   },
   {
    "duration": 9,
    "start_time": "2022-03-14T06:09:46.903Z"
   },
   {
    "duration": 22,
    "start_time": "2022-03-14T06:09:46.913Z"
   },
   {
    "duration": 15,
    "start_time": "2022-03-14T06:09:46.937Z"
   },
   {
    "duration": 60,
    "start_time": "2022-03-14T06:09:46.953Z"
   },
   {
    "duration": 11,
    "start_time": "2022-03-14T06:09:47.015Z"
   },
   {
    "duration": 534,
    "start_time": "2022-03-14T06:11:51.636Z"
   },
   {
    "duration": 80,
    "start_time": "2022-03-14T06:11:52.174Z"
   },
   {
    "duration": 27,
    "start_time": "2022-03-14T06:11:52.256Z"
   },
   {
    "duration": 31,
    "start_time": "2022-03-14T06:11:52.284Z"
   },
   {
    "duration": 14,
    "start_time": "2022-03-14T06:11:52.316Z"
   },
   {
    "duration": 22,
    "start_time": "2022-03-14T06:11:52.332Z"
   },
   {
    "duration": 13,
    "start_time": "2022-03-14T06:11:52.356Z"
   },
   {
    "duration": 59,
    "start_time": "2022-03-14T06:11:52.371Z"
   },
   {
    "duration": 11,
    "start_time": "2022-03-14T06:11:52.432Z"
   },
   {
    "duration": 561,
    "start_time": "2022-03-14T06:21:07.506Z"
   },
   {
    "duration": 94,
    "start_time": "2022-03-14T06:21:08.069Z"
   },
   {
    "duration": 36,
    "start_time": "2022-03-14T06:21:08.165Z"
   },
   {
    "duration": 26,
    "start_time": "2022-03-14T06:21:08.203Z"
   },
   {
    "duration": 10,
    "start_time": "2022-03-14T06:21:08.231Z"
   },
   {
    "duration": 25,
    "start_time": "2022-03-14T06:21:08.242Z"
   },
   {
    "duration": 38,
    "start_time": "2022-03-14T06:21:08.269Z"
   },
   {
    "duration": 33,
    "start_time": "2022-03-14T06:21:08.309Z"
   },
   {
    "duration": 11,
    "start_time": "2022-03-14T06:21:08.343Z"
   },
   {
    "duration": 6,
    "start_time": "2022-03-14T06:22:43.206Z"
   },
   {
    "duration": 7,
    "start_time": "2022-03-14T06:22:49.509Z"
   },
   {
    "duration": 7,
    "start_time": "2022-03-14T06:22:55.893Z"
   },
   {
    "duration": 8,
    "start_time": "2022-03-14T06:24:00.701Z"
   },
   {
    "duration": 400,
    "start_time": "2022-03-14T06:25:16.511Z"
   },
   {
    "duration": 7,
    "start_time": "2022-03-14T06:28:10.762Z"
   },
   {
    "duration": 39,
    "start_time": "2022-03-14T06:28:22.737Z"
   },
   {
    "duration": 24,
    "start_time": "2022-03-14T06:29:00.958Z"
   },
   {
    "duration": 44,
    "start_time": "2022-03-14T06:29:07.707Z"
   },
   {
    "duration": 14,
    "start_time": "2022-03-14T06:31:52.954Z"
   },
   {
    "duration": 16,
    "start_time": "2022-03-14T06:32:28.815Z"
   },
   {
    "duration": 535,
    "start_time": "2022-03-14T06:45:22.020Z"
   },
   {
    "duration": 92,
    "start_time": "2022-03-14T06:45:22.557Z"
   },
   {
    "duration": 27,
    "start_time": "2022-03-14T06:45:22.650Z"
   },
   {
    "duration": 40,
    "start_time": "2022-03-14T06:45:22.678Z"
   },
   {
    "duration": 9,
    "start_time": "2022-03-14T06:45:22.719Z"
   },
   {
    "duration": 22,
    "start_time": "2022-03-14T06:45:22.729Z"
   },
   {
    "duration": 14,
    "start_time": "2022-03-14T06:45:22.753Z"
   },
   {
    "duration": 37,
    "start_time": "2022-03-14T06:45:22.769Z"
   },
   {
    "duration": 11,
    "start_time": "2022-03-14T06:45:22.807Z"
   },
   {
    "duration": 18,
    "start_time": "2022-03-14T06:45:48.911Z"
   },
   {
    "duration": 16,
    "start_time": "2022-03-14T06:46:46.369Z"
   },
   {
    "duration": 43,
    "start_time": "2022-03-14T06:48:09.483Z"
   },
   {
    "duration": 13,
    "start_time": "2022-03-14T06:56:00.974Z"
   },
   {
    "duration": 43,
    "start_time": "2022-03-14T06:56:06.449Z"
   },
   {
    "duration": 34,
    "start_time": "2022-03-14T06:58:11.758Z"
   },
   {
    "duration": 503,
    "start_time": "2022-03-14T07:04:51.052Z"
   },
   {
    "duration": 97,
    "start_time": "2022-03-14T07:04:51.557Z"
   },
   {
    "duration": 26,
    "start_time": "2022-03-14T07:04:51.657Z"
   },
   {
    "duration": 31,
    "start_time": "2022-03-14T07:04:51.685Z"
   },
   {
    "duration": 13,
    "start_time": "2022-03-14T07:04:51.718Z"
   },
   {
    "duration": 27,
    "start_time": "2022-03-14T07:04:51.733Z"
   },
   {
    "duration": 13,
    "start_time": "2022-03-14T07:04:51.762Z"
   },
   {
    "duration": 55,
    "start_time": "2022-03-14T07:04:51.777Z"
   },
   {
    "duration": 4,
    "start_time": "2022-03-14T07:04:51.834Z"
   },
   {
    "duration": 47,
    "start_time": "2022-03-14T07:06:49.164Z"
   },
   {
    "duration": 52,
    "start_time": "2022-03-14T07:07:15.852Z"
   },
   {
    "duration": 13,
    "start_time": "2022-03-14T07:07:58.433Z"
   },
   {
    "duration": 10,
    "start_time": "2022-03-14T07:08:06.832Z"
   },
   {
    "duration": 571,
    "start_time": "2022-03-14T07:15:57.857Z"
   },
   {
    "duration": 113,
    "start_time": "2022-03-14T07:15:58.430Z"
   },
   {
    "duration": 28,
    "start_time": "2022-03-14T07:15:58.546Z"
   },
   {
    "duration": 37,
    "start_time": "2022-03-14T07:15:58.575Z"
   },
   {
    "duration": 9,
    "start_time": "2022-03-14T07:15:58.613Z"
   },
   {
    "duration": 24,
    "start_time": "2022-03-14T07:15:58.624Z"
   },
   {
    "duration": 13,
    "start_time": "2022-03-14T07:15:58.651Z"
   },
   {
    "duration": 47,
    "start_time": "2022-03-14T07:15:58.666Z"
   },
   {
    "duration": 8,
    "start_time": "2022-03-14T07:15:58.715Z"
   },
   {
    "duration": 11,
    "start_time": "2022-03-14T07:15:58.724Z"
   },
   {
    "duration": 12,
    "start_time": "2022-03-14T07:16:15.454Z"
   },
   {
    "duration": 613,
    "start_time": "2022-03-14T07:19:45.729Z"
   },
   {
    "duration": 79,
    "start_time": "2022-03-14T07:19:46.344Z"
   },
   {
    "duration": 27,
    "start_time": "2022-03-14T07:19:46.427Z"
   },
   {
    "duration": 22,
    "start_time": "2022-03-14T07:19:46.456Z"
   },
   {
    "duration": 30,
    "start_time": "2022-03-14T07:19:46.479Z"
   },
   {
    "duration": 22,
    "start_time": "2022-03-14T07:19:46.510Z"
   },
   {
    "duration": 1783,
    "start_time": "2022-03-14T07:19:46.534Z"
   },
   {
    "duration": 1120,
    "start_time": "2022-03-14T07:19:47.199Z"
   },
   {
    "duration": 1119,
    "start_time": "2022-03-14T07:19:47.201Z"
   },
   {
    "duration": 1118,
    "start_time": "2022-03-14T07:19:47.203Z"
   },
   {
    "duration": 1114,
    "start_time": "2022-03-14T07:19:47.208Z"
   },
   {
    "duration": 572,
    "start_time": "2022-03-14T07:20:28.243Z"
   },
   {
    "duration": 84,
    "start_time": "2022-03-14T07:20:28.817Z"
   },
   {
    "duration": 27,
    "start_time": "2022-03-14T07:20:28.905Z"
   },
   {
    "duration": 24,
    "start_time": "2022-03-14T07:20:28.934Z"
   },
   {
    "duration": 10,
    "start_time": "2022-03-14T07:20:28.960Z"
   },
   {
    "duration": 49,
    "start_time": "2022-03-14T07:20:28.972Z"
   },
   {
    "duration": 2138,
    "start_time": "2022-03-14T07:20:29.023Z"
   },
   {
    "duration": 1121,
    "start_time": "2022-03-14T07:20:30.042Z"
   },
   {
    "duration": 1120,
    "start_time": "2022-03-14T07:20:30.044Z"
   },
   {
    "duration": 1118,
    "start_time": "2022-03-14T07:20:30.048Z"
   },
   {
    "duration": 1116,
    "start_time": "2022-03-14T07:20:30.051Z"
   },
   {
    "duration": 1706,
    "start_time": "2022-03-14T07:21:05.973Z"
   },
   {
    "duration": 2540,
    "start_time": "2022-03-14T07:21:25.917Z"
   },
   {
    "duration": 2891,
    "start_time": "2022-03-14T07:21:42.933Z"
   },
   {
    "duration": 2656,
    "start_time": "2022-03-14T07:21:51.461Z"
   },
   {
    "duration": 2029,
    "start_time": "2022-03-14T07:22:01.383Z"
   },
   {
    "duration": 1857,
    "start_time": "2022-03-14T07:22:33.222Z"
   },
   {
    "duration": 2196,
    "start_time": "2022-03-14T07:22:48.568Z"
   },
   {
    "duration": 1771,
    "start_time": "2022-03-14T07:22:56.783Z"
   },
   {
    "duration": 1708,
    "start_time": "2022-03-14T07:23:09.439Z"
   },
   {
    "duration": 18,
    "start_time": "2022-03-14T07:26:47.468Z"
   },
   {
    "duration": 495,
    "start_time": "2022-03-14T07:26:56.157Z"
   },
   {
    "duration": 80,
    "start_time": "2022-03-14T07:26:56.654Z"
   },
   {
    "duration": 27,
    "start_time": "2022-03-14T07:26:56.736Z"
   },
   {
    "duration": 40,
    "start_time": "2022-03-14T07:26:56.765Z"
   },
   {
    "duration": 10,
    "start_time": "2022-03-14T07:26:56.806Z"
   },
   {
    "duration": 23,
    "start_time": "2022-03-14T07:26:56.817Z"
   },
   {
    "duration": 17,
    "start_time": "2022-03-14T07:26:56.842Z"
   },
   {
    "duration": 45,
    "start_time": "2022-03-14T07:26:56.861Z"
   },
   {
    "duration": 10,
    "start_time": "2022-03-14T07:26:56.907Z"
   },
   {
    "duration": 11,
    "start_time": "2022-03-14T07:26:56.919Z"
   },
   {
    "duration": 11,
    "start_time": "2022-03-14T07:26:56.932Z"
   },
   {
    "duration": 36,
    "start_time": "2022-03-14T07:27:24.621Z"
   },
   {
    "duration": 531,
    "start_time": "2022-03-14T07:28:45.149Z"
   },
   {
    "duration": 91,
    "start_time": "2022-03-14T07:28:45.682Z"
   },
   {
    "duration": 32,
    "start_time": "2022-03-14T07:28:45.775Z"
   },
   {
    "duration": 23,
    "start_time": "2022-03-14T07:28:45.809Z"
   },
   {
    "duration": 10,
    "start_time": "2022-03-14T07:28:45.834Z"
   },
   {
    "duration": 23,
    "start_time": "2022-03-14T07:28:45.845Z"
   },
   {
    "duration": 43,
    "start_time": "2022-03-14T07:28:45.870Z"
   },
   {
    "duration": 16,
    "start_time": "2022-03-14T07:28:45.915Z"
   },
   {
    "duration": 9,
    "start_time": "2022-03-14T07:28:45.933Z"
   },
   {
    "duration": 9,
    "start_time": "2022-03-14T07:28:45.944Z"
   },
   {
    "duration": 65,
    "start_time": "2022-03-14T07:28:45.955Z"
   },
   {
    "duration": 245,
    "start_time": "2022-03-14T12:36:02.014Z"
   },
   {
    "duration": 640,
    "start_time": "2022-03-14T12:36:07.434Z"
   },
   {
    "duration": 82,
    "start_time": "2022-03-14T12:36:08.077Z"
   },
   {
    "duration": 28,
    "start_time": "2022-03-14T12:36:08.161Z"
   },
   {
    "duration": 25,
    "start_time": "2022-03-14T12:36:08.191Z"
   },
   {
    "duration": 9,
    "start_time": "2022-03-14T12:36:08.218Z"
   },
   {
    "duration": 59,
    "start_time": "2022-03-14T12:36:08.229Z"
   },
   {
    "duration": 19,
    "start_time": "2022-03-14T12:36:08.289Z"
   },
   {
    "duration": 16,
    "start_time": "2022-03-14T12:36:08.310Z"
   },
   {
    "duration": 9,
    "start_time": "2022-03-14T12:36:08.328Z"
   },
   {
    "duration": 34,
    "start_time": "2022-03-14T12:36:08.338Z"
   },
   {
    "duration": 41,
    "start_time": "2022-03-14T12:36:08.373Z"
   },
   {
    "duration": 18,
    "start_time": "2022-03-14T12:36:42.304Z"
   },
   {
    "duration": 599,
    "start_time": "2022-03-14T12:37:38.064Z"
   },
   {
    "duration": 90,
    "start_time": "2022-03-14T12:37:38.665Z"
   },
   {
    "duration": 34,
    "start_time": "2022-03-14T12:37:38.758Z"
   },
   {
    "duration": 25,
    "start_time": "2022-03-14T12:37:38.794Z"
   },
   {
    "duration": 11,
    "start_time": "2022-03-14T12:37:38.821Z"
   },
   {
    "duration": 50,
    "start_time": "2022-03-14T12:37:38.833Z"
   },
   {
    "duration": 19,
    "start_time": "2022-03-14T12:37:38.884Z"
   },
   {
    "duration": 20,
    "start_time": "2022-03-14T12:37:38.905Z"
   },
   {
    "duration": 9,
    "start_time": "2022-03-14T12:37:38.927Z"
   },
   {
    "duration": 12,
    "start_time": "2022-03-14T12:37:38.963Z"
   },
   {
    "duration": 11,
    "start_time": "2022-03-14T12:37:38.977Z"
   },
   {
    "duration": 23,
    "start_time": "2022-03-14T12:39:18.060Z"
   },
   {
    "duration": 37,
    "start_time": "2022-03-14T12:46:29.861Z"
   },
   {
    "duration": 254,
    "start_time": "2022-03-14T12:47:01.623Z"
   },
   {
    "duration": 199,
    "start_time": "2022-03-14T12:47:10.694Z"
   },
   {
    "duration": 35,
    "start_time": "2022-03-14T12:47:49.251Z"
   },
   {
    "duration": 34,
    "start_time": "2022-03-14T12:48:13.371Z"
   },
   {
    "duration": 4,
    "start_time": "2022-03-14T12:48:57.098Z"
   },
   {
    "duration": 8,
    "start_time": "2022-03-14T13:05:28.612Z"
   },
   {
    "duration": 38,
    "start_time": "2022-03-14T13:05:33.619Z"
   },
   {
    "duration": 11,
    "start_time": "2022-03-14T13:07:15.033Z"
   },
   {
    "duration": 49,
    "start_time": "2022-03-14T13:12:10.928Z"
   },
   {
    "duration": 14,
    "start_time": "2022-03-14T13:13:28.775Z"
   },
   {
    "duration": 46,
    "start_time": "2022-03-14T13:14:07.187Z"
   },
   {
    "duration": 191,
    "start_time": "2022-03-14T18:20:54.237Z"
   },
   {
    "duration": 557,
    "start_time": "2022-03-14T18:21:00.481Z"
   },
   {
    "duration": 92,
    "start_time": "2022-03-14T18:21:01.040Z"
   },
   {
    "duration": 32,
    "start_time": "2022-03-14T18:21:01.137Z"
   },
   {
    "duration": 34,
    "start_time": "2022-03-14T18:21:01.170Z"
   },
   {
    "duration": 10,
    "start_time": "2022-03-14T18:21:01.206Z"
   },
   {
    "duration": 44,
    "start_time": "2022-03-14T18:21:01.218Z"
   },
   {
    "duration": 21,
    "start_time": "2022-03-14T18:21:01.264Z"
   },
   {
    "duration": 20,
    "start_time": "2022-03-14T18:21:01.289Z"
   },
   {
    "duration": 35,
    "start_time": "2022-03-14T18:21:01.312Z"
   },
   {
    "duration": 14,
    "start_time": "2022-03-14T18:21:01.349Z"
   },
   {
    "duration": 18,
    "start_time": "2022-03-14T18:21:01.364Z"
   },
   {
    "duration": 55,
    "start_time": "2022-03-14T18:21:01.384Z"
   },
   {
    "duration": 230,
    "start_time": "2022-03-14T18:21:01.441Z"
   },
   {
    "duration": 664,
    "start_time": "2022-03-14T18:23:27.567Z"
   },
   {
    "duration": 716,
    "start_time": "2022-03-14T18:23:37.869Z"
   },
   {
    "duration": 5243,
    "start_time": "2022-03-14T18:24:24.472Z"
   },
   {
    "duration": 546,
    "start_time": "2022-03-14T18:24:39.349Z"
   },
   {
    "duration": 88,
    "start_time": "2022-03-14T18:24:39.897Z"
   },
   {
    "duration": 33,
    "start_time": "2022-03-14T18:24:39.987Z"
   },
   {
    "duration": 37,
    "start_time": "2022-03-14T18:24:40.022Z"
   },
   {
    "duration": 12,
    "start_time": "2022-03-14T18:24:40.061Z"
   },
   {
    "duration": 26,
    "start_time": "2022-03-14T18:24:40.075Z"
   },
   {
    "duration": 44,
    "start_time": "2022-03-14T18:24:40.103Z"
   },
   {
    "duration": 16,
    "start_time": "2022-03-14T18:24:40.150Z"
   },
   {
    "duration": 15,
    "start_time": "2022-03-14T18:24:40.168Z"
   },
   {
    "duration": 12,
    "start_time": "2022-03-14T18:24:40.184Z"
   },
   {
    "duration": 11,
    "start_time": "2022-03-14T18:24:40.197Z"
   },
   {
    "duration": 48,
    "start_time": "2022-03-14T18:24:40.210Z"
   },
   {
    "duration": 5348,
    "start_time": "2022-03-14T18:24:40.260Z"
   },
   {
    "duration": 728,
    "start_time": "2022-03-14T18:25:44.857Z"
   },
   {
    "duration": 289,
    "start_time": "2022-03-14T18:26:20.900Z"
   },
   {
    "duration": 295,
    "start_time": "2022-03-14T18:26:51.915Z"
   },
   {
    "duration": 201,
    "start_time": "2022-03-14T18:27:36.692Z"
   },
   {
    "duration": 153,
    "start_time": "2022-03-14T18:28:08.339Z"
   },
   {
    "duration": 144,
    "start_time": "2022-03-14T18:33:11.738Z"
   },
   {
    "duration": 140,
    "start_time": "2022-03-14T18:34:22.362Z"
   },
   {
    "duration": 137,
    "start_time": "2022-03-14T18:34:45.114Z"
   },
   {
    "duration": 136,
    "start_time": "2022-03-14T18:35:21.362Z"
   },
   {
    "duration": 142,
    "start_time": "2022-03-14T18:35:24.498Z"
   },
   {
    "duration": 524,
    "start_time": "2022-03-14T18:35:28.669Z"
   },
   {
    "duration": 91,
    "start_time": "2022-03-14T18:35:29.195Z"
   },
   {
    "duration": 32,
    "start_time": "2022-03-14T18:35:29.288Z"
   },
   {
    "duration": 32,
    "start_time": "2022-03-14T18:35:29.321Z"
   },
   {
    "duration": 9,
    "start_time": "2022-03-14T18:35:29.355Z"
   },
   {
    "duration": 26,
    "start_time": "2022-03-14T18:35:29.366Z"
   },
   {
    "duration": 45,
    "start_time": "2022-03-14T18:35:29.393Z"
   },
   {
    "duration": 18,
    "start_time": "2022-03-14T18:35:29.441Z"
   },
   {
    "duration": 9,
    "start_time": "2022-03-14T18:35:29.461Z"
   },
   {
    "duration": 13,
    "start_time": "2022-03-14T18:35:29.472Z"
   },
   {
    "duration": 14,
    "start_time": "2022-03-14T18:35:29.486Z"
   },
   {
    "duration": 56,
    "start_time": "2022-03-14T18:35:29.501Z"
   },
   {
    "duration": 205,
    "start_time": "2022-03-14T18:35:29.559Z"
   },
   {
    "duration": 444,
    "start_time": "2022-03-14T18:37:16.605Z"
   },
   {
    "duration": 5631,
    "start_time": "2022-03-14T18:38:00.984Z"
   },
   {
    "duration": 4016,
    "start_time": "2022-03-14T18:39:14.464Z"
   },
   {
    "duration": 5488,
    "start_time": "2022-03-14T18:39:53.866Z"
   },
   {
    "duration": 5562,
    "start_time": "2022-03-14T18:40:23.818Z"
   },
   {
    "duration": 210,
    "start_time": "2022-03-14T18:46:14.248Z"
   },
   {
    "duration": 397,
    "start_time": "2022-03-14T18:47:27.992Z"
   },
   {
    "duration": 594,
    "start_time": "2022-03-14T18:47:34.955Z"
   },
   {
    "duration": 88,
    "start_time": "2022-03-14T18:47:35.551Z"
   },
   {
    "duration": 34,
    "start_time": "2022-03-14T18:47:35.641Z"
   },
   {
    "duration": 32,
    "start_time": "2022-03-14T18:47:35.677Z"
   },
   {
    "duration": 37,
    "start_time": "2022-03-14T18:47:35.711Z"
   },
   {
    "duration": 28,
    "start_time": "2022-03-14T18:47:35.751Z"
   },
   {
    "duration": 21,
    "start_time": "2022-03-14T18:47:35.780Z"
   },
   {
    "duration": 48,
    "start_time": "2022-03-14T18:47:35.803Z"
   },
   {
    "duration": 14,
    "start_time": "2022-03-14T18:47:35.854Z"
   },
   {
    "duration": 16,
    "start_time": "2022-03-14T18:47:35.871Z"
   },
   {
    "duration": 11,
    "start_time": "2022-03-14T18:47:35.889Z"
   },
   {
    "duration": 54,
    "start_time": "2022-03-14T18:47:35.901Z"
   },
   {
    "duration": 505,
    "start_time": "2022-03-14T18:47:35.957Z"
   },
   {
    "duration": 519,
    "start_time": "2022-03-14T18:48:09.251Z"
   },
   {
    "duration": 286,
    "start_time": "2022-03-14T18:48:25.947Z"
   },
   {
    "duration": 610,
    "start_time": "2022-03-14T18:49:04.876Z"
   },
   {
    "duration": 95,
    "start_time": "2022-03-14T18:49:05.489Z"
   },
   {
    "duration": 33,
    "start_time": "2022-03-14T18:49:05.587Z"
   },
   {
    "duration": 54,
    "start_time": "2022-03-14T18:49:05.623Z"
   },
   {
    "duration": 10,
    "start_time": "2022-03-14T18:49:05.678Z"
   },
   {
    "duration": 47,
    "start_time": "2022-03-14T18:49:05.690Z"
   },
   {
    "duration": 22,
    "start_time": "2022-03-14T18:49:05.739Z"
   },
   {
    "duration": 17,
    "start_time": "2022-03-14T18:49:05.763Z"
   },
   {
    "duration": 10,
    "start_time": "2022-03-14T18:49:05.781Z"
   },
   {
    "duration": 11,
    "start_time": "2022-03-14T18:49:05.793Z"
   },
   {
    "duration": 48,
    "start_time": "2022-03-14T18:49:05.806Z"
   },
   {
    "duration": 31,
    "start_time": "2022-03-14T18:49:05.856Z"
   },
   {
    "duration": 348,
    "start_time": "2022-03-14T18:49:05.888Z"
   },
   {
    "duration": 218,
    "start_time": "2022-03-14T18:49:19.287Z"
   },
   {
    "duration": 11744,
    "start_time": "2022-03-14T18:49:31.553Z"
   },
   {
    "duration": 5398,
    "start_time": "2022-03-14T18:50:03.618Z"
   },
   {
    "duration": 5203,
    "start_time": "2022-03-14T18:50:16.536Z"
   },
   {
    "duration": 5207,
    "start_time": "2022-03-14T18:50:55.579Z"
   },
   {
    "duration": 5187,
    "start_time": "2022-03-14T18:54:36.822Z"
   },
   {
    "duration": 3052,
    "start_time": "2022-03-14T18:55:58.696Z"
   },
   {
    "duration": 605,
    "start_time": "2022-03-14T19:01:44.392Z"
   },
   {
    "duration": 551,
    "start_time": "2022-03-14T19:02:47.743Z"
   },
   {
    "duration": 572,
    "start_time": "2022-03-14T19:04:44.153Z"
   },
   {
    "duration": 591,
    "start_time": "2022-03-14T19:12:51.091Z"
   },
   {
    "duration": 577,
    "start_time": "2022-03-14T19:12:56.714Z"
   },
   {
    "duration": 589,
    "start_time": "2022-03-14T19:16:22.400Z"
   },
   {
    "duration": 725,
    "start_time": "2022-03-14T19:17:14.639Z"
   },
   {
    "duration": 87,
    "start_time": "2022-03-14T19:17:15.366Z"
   },
   {
    "duration": 34,
    "start_time": "2022-03-14T19:17:15.456Z"
   },
   {
    "duration": 49,
    "start_time": "2022-03-14T19:17:15.493Z"
   },
   {
    "duration": 13,
    "start_time": "2022-03-14T19:17:15.544Z"
   },
   {
    "duration": 27,
    "start_time": "2022-03-14T19:17:15.559Z"
   },
   {
    "duration": 50,
    "start_time": "2022-03-14T19:17:15.588Z"
   },
   {
    "duration": 18,
    "start_time": "2022-03-14T19:17:15.641Z"
   },
   {
    "duration": 12,
    "start_time": "2022-03-14T19:17:15.660Z"
   },
   {
    "duration": 13,
    "start_time": "2022-03-14T19:17:15.674Z"
   },
   {
    "duration": 12,
    "start_time": "2022-03-14T19:17:15.688Z"
   },
   {
    "duration": 55,
    "start_time": "2022-03-14T19:17:15.702Z"
   },
   {
    "duration": 622,
    "start_time": "2022-03-14T19:17:15.759Z"
   },
   {
    "duration": 406,
    "start_time": "2022-03-15T04:48:50.802Z"
   },
   {
    "duration": 573,
    "start_time": "2022-03-15T04:48:56.226Z"
   },
   {
    "duration": 94,
    "start_time": "2022-03-15T04:48:56.801Z"
   },
   {
    "duration": 31,
    "start_time": "2022-03-15T04:48:56.897Z"
   },
   {
    "duration": 36,
    "start_time": "2022-03-15T04:48:56.930Z"
   },
   {
    "duration": 10,
    "start_time": "2022-03-15T04:48:56.967Z"
   },
   {
    "duration": 27,
    "start_time": "2022-03-15T04:48:56.979Z"
   },
   {
    "duration": 22,
    "start_time": "2022-03-15T04:48:57.007Z"
   },
   {
    "duration": 43,
    "start_time": "2022-03-15T04:48:57.031Z"
   },
   {
    "duration": 9,
    "start_time": "2022-03-15T04:48:57.076Z"
   },
   {
    "duration": 11,
    "start_time": "2022-03-15T04:48:57.087Z"
   },
   {
    "duration": 12,
    "start_time": "2022-03-15T04:48:57.100Z"
   },
   {
    "duration": 56,
    "start_time": "2022-03-15T04:48:57.113Z"
   },
   {
    "duration": 621,
    "start_time": "2022-03-15T04:48:57.171Z"
   },
   {
    "duration": 606,
    "start_time": "2022-03-15T04:53:25.100Z"
   },
   {
    "duration": 275,
    "start_time": "2022-03-15T04:57:34.900Z"
   },
   {
    "duration": 280,
    "start_time": "2022-03-15T04:57:53.437Z"
   },
   {
    "duration": 174,
    "start_time": "2022-03-15T04:58:07.246Z"
   },
   {
    "duration": 216,
    "start_time": "2022-03-15T04:58:11.637Z"
   },
   {
    "duration": 366,
    "start_time": "2022-03-15T04:58:15.325Z"
   },
   {
    "duration": 984,
    "start_time": "2022-03-15T05:01:22.753Z"
   },
   {
    "duration": 622,
    "start_time": "2022-03-15T05:01:41.330Z"
   },
   {
    "duration": 893,
    "start_time": "2022-03-15T05:03:12.987Z"
   },
   {
    "duration": 639,
    "start_time": "2022-03-15T05:03:20.531Z"
   },
   {
    "duration": 885,
    "start_time": "2022-03-15T05:03:47.483Z"
   },
   {
    "duration": 336,
    "start_time": "2022-03-15T05:06:08.495Z"
   },
   {
    "duration": 544,
    "start_time": "2022-03-15T05:06:19.926Z"
   },
   {
    "duration": 655,
    "start_time": "2022-03-15T05:07:54.841Z"
   },
   {
    "duration": 697,
    "start_time": "2022-03-15T05:08:00.755Z"
   },
   {
    "duration": 89,
    "start_time": "2022-03-15T05:08:01.454Z"
   },
   {
    "duration": 30,
    "start_time": "2022-03-15T05:08:01.544Z"
   },
   {
    "duration": 37,
    "start_time": "2022-03-15T05:08:01.576Z"
   },
   {
    "duration": 10,
    "start_time": "2022-03-15T05:08:01.615Z"
   },
   {
    "duration": 48,
    "start_time": "2022-03-15T05:08:01.626Z"
   },
   {
    "duration": 22,
    "start_time": "2022-03-15T05:08:01.675Z"
   },
   {
    "duration": 18,
    "start_time": "2022-03-15T05:08:01.700Z"
   },
   {
    "duration": 12,
    "start_time": "2022-03-15T05:08:01.719Z"
   },
   {
    "duration": 51,
    "start_time": "2022-03-15T05:08:01.733Z"
   },
   {
    "duration": 38,
    "start_time": "2022-03-15T05:08:01.786Z"
   },
   {
    "duration": 43,
    "start_time": "2022-03-15T05:08:01.826Z"
   },
   {
    "duration": 659,
    "start_time": "2022-03-15T05:08:01.872Z"
   },
   {
    "duration": 1471,
    "start_time": "2022-03-15T05:08:02.532Z"
   },
   {
    "duration": 5,
    "start_time": "2022-03-15T05:14:09.647Z"
   },
   {
    "duration": 5652,
    "start_time": "2022-03-15T05:14:24.407Z"
   },
   {
    "duration": 5254,
    "start_time": "2022-03-15T05:14:51.969Z"
   },
   {
    "duration": 669,
    "start_time": "2022-03-15T05:15:03.447Z"
   },
   {
    "duration": 86,
    "start_time": "2022-03-15T05:15:04.118Z"
   },
   {
    "duration": 30,
    "start_time": "2022-03-15T05:15:04.208Z"
   },
   {
    "duration": 45,
    "start_time": "2022-03-15T05:15:04.240Z"
   },
   {
    "duration": 11,
    "start_time": "2022-03-15T05:15:04.287Z"
   },
   {
    "duration": 26,
    "start_time": "2022-03-15T05:15:04.299Z"
   },
   {
    "duration": 49,
    "start_time": "2022-03-15T05:15:04.329Z"
   },
   {
    "duration": 18,
    "start_time": "2022-03-15T05:15:04.380Z"
   },
   {
    "duration": 10,
    "start_time": "2022-03-15T05:15:04.399Z"
   },
   {
    "duration": 13,
    "start_time": "2022-03-15T05:15:04.411Z"
   },
   {
    "duration": 40,
    "start_time": "2022-03-15T05:15:04.426Z"
   },
   {
    "duration": 23,
    "start_time": "2022-03-15T05:15:04.468Z"
   },
   {
    "duration": 642,
    "start_time": "2022-03-15T05:15:04.493Z"
   },
   {
    "duration": 1501,
    "start_time": "2022-03-15T05:15:05.137Z"
   },
   {
    "duration": 5723,
    "start_time": "2022-03-15T05:15:06.640Z"
   },
   {
    "duration": 36,
    "start_time": "2022-03-15T05:19:51.441Z"
   },
   {
    "duration": 225,
    "start_time": "2022-03-15T05:21:41.253Z"
   },
   {
    "duration": 18,
    "start_time": "2022-03-15T05:21:45.211Z"
   },
   {
    "duration": 17,
    "start_time": "2022-03-15T05:21:52.922Z"
   },
   {
    "duration": 22,
    "start_time": "2022-03-15T05:21:56.739Z"
   },
   {
    "duration": 22,
    "start_time": "2022-03-15T05:22:01.563Z"
   },
   {
    "duration": 15,
    "start_time": "2022-03-15T05:22:05.675Z"
   },
   {
    "duration": 21,
    "start_time": "2022-03-15T05:22:10.667Z"
   },
   {
    "duration": 36,
    "start_time": "2022-03-15T05:22:16.115Z"
   },
   {
    "duration": 41,
    "start_time": "2022-03-15T05:23:29.079Z"
   },
   {
    "duration": 39,
    "start_time": "2022-03-15T05:23:32.677Z"
   },
   {
    "duration": 36,
    "start_time": "2022-03-15T05:23:39.638Z"
   },
   {
    "duration": 663,
    "start_time": "2022-03-15T05:24:30.883Z"
   },
   {
    "duration": 93,
    "start_time": "2022-03-15T05:24:31.548Z"
   },
   {
    "duration": 34,
    "start_time": "2022-03-15T05:24:31.644Z"
   },
   {
    "duration": 28,
    "start_time": "2022-03-15T05:24:31.680Z"
   },
   {
    "duration": 12,
    "start_time": "2022-03-15T05:24:31.710Z"
   },
   {
    "duration": 51,
    "start_time": "2022-03-15T05:24:31.724Z"
   },
   {
    "duration": 20,
    "start_time": "2022-03-15T05:24:31.777Z"
   },
   {
    "duration": 20,
    "start_time": "2022-03-15T05:24:31.799Z"
   },
   {
    "duration": 12,
    "start_time": "2022-03-15T05:24:31.821Z"
   },
   {
    "duration": 13,
    "start_time": "2022-03-15T05:24:31.859Z"
   },
   {
    "duration": 13,
    "start_time": "2022-03-15T05:24:31.874Z"
   },
   {
    "duration": 23,
    "start_time": "2022-03-15T05:24:31.888Z"
   },
   {
    "duration": 663,
    "start_time": "2022-03-15T05:24:31.913Z"
   },
   {
    "duration": 1476,
    "start_time": "2022-03-15T05:24:32.578Z"
   },
   {
    "duration": 52,
    "start_time": "2022-03-15T05:32:06.245Z"
   },
   {
    "duration": 40,
    "start_time": "2022-03-15T05:32:35.662Z"
   },
   {
    "duration": 50,
    "start_time": "2022-03-15T05:34:34.168Z"
   },
   {
    "duration": 40,
    "start_time": "2022-03-15T05:36:39.115Z"
   },
   {
    "duration": 46,
    "start_time": "2022-03-15T05:38:46.181Z"
   },
   {
    "duration": 46,
    "start_time": "2022-03-15T05:39:21.958Z"
   },
   {
    "duration": 294,
    "start_time": "2022-03-15T05:39:59.750Z"
   },
   {
    "duration": 362,
    "start_time": "2022-03-15T05:40:08.477Z"
   },
   {
    "duration": 438,
    "start_time": "2022-03-15T05:40:34.862Z"
   },
   {
    "duration": 415,
    "start_time": "2022-03-15T05:40:52.902Z"
   },
   {
    "duration": 374,
    "start_time": "2022-03-15T05:41:32.703Z"
   },
   {
    "duration": 368,
    "start_time": "2022-03-15T05:41:49.775Z"
   },
   {
    "duration": 352,
    "start_time": "2022-03-15T05:41:59.543Z"
   },
   {
    "duration": 567,
    "start_time": "2022-03-15T05:42:21.201Z"
   },
   {
    "duration": 816,
    "start_time": "2022-03-15T05:42:26.048Z"
   },
   {
    "duration": 707,
    "start_time": "2022-03-15T05:42:39.945Z"
   },
   {
    "duration": 783,
    "start_time": "2022-03-15T05:42:58.865Z"
   },
   {
    "duration": 722,
    "start_time": "2022-03-15T05:43:18.498Z"
   },
   {
    "duration": 731,
    "start_time": "2022-03-15T05:43:27.730Z"
   },
   {
    "duration": 867,
    "start_time": "2022-03-15T05:43:32.809Z"
   },
   {
    "duration": 674,
    "start_time": "2022-03-15T05:43:40.698Z"
   },
   {
    "duration": 701,
    "start_time": "2022-03-15T05:44:00.970Z"
   },
   {
    "duration": 806,
    "start_time": "2022-03-15T05:44:11.050Z"
   },
   {
    "duration": 669,
    "start_time": "2022-03-15T05:44:51.946Z"
   },
   {
    "duration": 1232,
    "start_time": "2022-03-15T05:45:22.668Z"
   },
   {
    "duration": 1431,
    "start_time": "2022-03-15T05:46:28.628Z"
   },
   {
    "duration": 1496,
    "start_time": "2022-03-15T05:46:47.141Z"
   },
   {
    "duration": 48,
    "start_time": "2022-03-15T05:48:16.528Z"
   },
   {
    "duration": 642,
    "start_time": "2022-03-15T05:49:09.408Z"
   },
   {
    "duration": 97,
    "start_time": "2022-03-15T05:49:10.052Z"
   },
   {
    "duration": 29,
    "start_time": "2022-03-15T05:49:10.151Z"
   },
   {
    "duration": 27,
    "start_time": "2022-03-15T05:49:10.182Z"
   },
   {
    "duration": 10,
    "start_time": "2022-03-15T05:49:10.211Z"
   },
   {
    "duration": 47,
    "start_time": "2022-03-15T05:49:10.222Z"
   },
   {
    "duration": 20,
    "start_time": "2022-03-15T05:49:10.272Z"
   },
   {
    "duration": 18,
    "start_time": "2022-03-15T05:49:10.294Z"
   },
   {
    "duration": 12,
    "start_time": "2022-03-15T05:49:10.314Z"
   },
   {
    "duration": 39,
    "start_time": "2022-03-15T05:49:10.328Z"
   },
   {
    "duration": 16,
    "start_time": "2022-03-15T05:49:10.368Z"
   },
   {
    "duration": 24,
    "start_time": "2022-03-15T05:49:10.386Z"
   },
   {
    "duration": 628,
    "start_time": "2022-03-15T05:49:10.412Z"
   },
   {
    "duration": 1475,
    "start_time": "2022-03-15T05:49:11.042Z"
   },
   {
    "duration": 68,
    "start_time": "2022-03-15T05:49:12.520Z"
   },
   {
    "duration": 1506,
    "start_time": "2022-03-15T05:50:51.986Z"
   },
   {
    "duration": 677,
    "start_time": "2022-03-15T05:51:01.131Z"
   },
   {
    "duration": 88,
    "start_time": "2022-03-15T05:51:01.809Z"
   },
   {
    "duration": 30,
    "start_time": "2022-03-15T05:51:01.899Z"
   },
   {
    "duration": 43,
    "start_time": "2022-03-15T05:51:01.931Z"
   },
   {
    "duration": 11,
    "start_time": "2022-03-15T05:51:01.976Z"
   },
   {
    "duration": 26,
    "start_time": "2022-03-15T05:51:01.988Z"
   },
   {
    "duration": 55,
    "start_time": "2022-03-15T05:51:02.016Z"
   },
   {
    "duration": 17,
    "start_time": "2022-03-15T05:51:02.073Z"
   },
   {
    "duration": 10,
    "start_time": "2022-03-15T05:51:02.092Z"
   },
   {
    "duration": 12,
    "start_time": "2022-03-15T05:51:02.103Z"
   },
   {
    "duration": 15,
    "start_time": "2022-03-15T05:51:02.117Z"
   },
   {
    "duration": 46,
    "start_time": "2022-03-15T05:51:02.134Z"
   },
   {
    "duration": 635,
    "start_time": "2022-03-15T05:51:02.181Z"
   },
   {
    "duration": 1421,
    "start_time": "2022-03-15T05:51:02.818Z"
   },
   {
    "duration": 56,
    "start_time": "2022-03-15T05:51:04.241Z"
   },
   {
    "duration": 185,
    "start_time": "2022-03-15T05:53:03.119Z"
   },
   {
    "duration": 662,
    "start_time": "2022-03-15T05:53:30.382Z"
   },
   {
    "duration": 86,
    "start_time": "2022-03-15T05:53:31.046Z"
   },
   {
    "duration": 36,
    "start_time": "2022-03-15T05:53:31.134Z"
   },
   {
    "duration": 30,
    "start_time": "2022-03-15T05:53:31.172Z"
   },
   {
    "duration": 10,
    "start_time": "2022-03-15T05:53:31.204Z"
   },
   {
    "duration": 56,
    "start_time": "2022-03-15T05:53:31.216Z"
   },
   {
    "duration": 21,
    "start_time": "2022-03-15T05:53:31.274Z"
   },
   {
    "duration": 17,
    "start_time": "2022-03-15T05:53:31.298Z"
   },
   {
    "duration": 12,
    "start_time": "2022-03-15T05:53:31.316Z"
   },
   {
    "duration": 35,
    "start_time": "2022-03-15T05:53:31.330Z"
   },
   {
    "duration": 12,
    "start_time": "2022-03-15T05:53:31.367Z"
   },
   {
    "duration": 24,
    "start_time": "2022-03-15T05:53:31.381Z"
   },
   {
    "duration": 657,
    "start_time": "2022-03-15T05:53:31.407Z"
   },
   {
    "duration": 1411,
    "start_time": "2022-03-15T05:53:32.066Z"
   },
   {
    "duration": 207,
    "start_time": "2022-03-15T05:53:33.479Z"
   },
   {
    "duration": 53,
    "start_time": "2022-03-15T05:53:33.688Z"
   },
   {
    "duration": 218,
    "start_time": "2022-03-15T05:54:33.010Z"
   },
   {
    "duration": 636,
    "start_time": "2022-03-15T05:54:43.178Z"
   },
   {
    "duration": 83,
    "start_time": "2022-03-15T05:54:43.816Z"
   },
   {
    "duration": 29,
    "start_time": "2022-03-15T05:54:43.903Z"
   },
   {
    "duration": 39,
    "start_time": "2022-03-15T05:54:43.934Z"
   },
   {
    "duration": 12,
    "start_time": "2022-03-15T05:54:43.975Z"
   },
   {
    "duration": 26,
    "start_time": "2022-03-15T05:54:43.988Z"
   },
   {
    "duration": 20,
    "start_time": "2022-03-15T05:54:44.016Z"
   },
   {
    "duration": 18,
    "start_time": "2022-03-15T05:54:44.060Z"
   },
   {
    "duration": 10,
    "start_time": "2022-03-15T05:54:44.079Z"
   },
   {
    "duration": 12,
    "start_time": "2022-03-15T05:54:44.090Z"
   },
   {
    "duration": 11,
    "start_time": "2022-03-15T05:54:44.104Z"
   },
   {
    "duration": 51,
    "start_time": "2022-03-15T05:54:44.116Z"
   },
   {
    "duration": 631,
    "start_time": "2022-03-15T05:54:44.169Z"
   },
   {
    "duration": 1416,
    "start_time": "2022-03-15T05:54:44.802Z"
   },
   {
    "duration": 226,
    "start_time": "2022-03-15T05:54:46.220Z"
   },
   {
    "duration": 57,
    "start_time": "2022-03-15T05:54:46.447Z"
   },
   {
    "duration": 215,
    "start_time": "2022-03-15T05:57:48.610Z"
   },
   {
    "duration": 236,
    "start_time": "2022-03-15T05:58:38.516Z"
   },
   {
    "duration": 219,
    "start_time": "2022-03-15T05:59:05.076Z"
   },
   {
    "duration": 2956,
    "start_time": "2022-03-15T06:02:54.832Z"
   },
   {
    "duration": 2006,
    "start_time": "2022-03-15T06:04:09.474Z"
   },
   {
    "duration": 381,
    "start_time": "2022-03-15T06:04:17.146Z"
   },
   {
    "duration": 277,
    "start_time": "2022-03-15T06:05:07.740Z"
   },
   {
    "duration": 361,
    "start_time": "2022-03-15T06:05:38.781Z"
   },
   {
    "duration": 70,
    "start_time": "2022-03-15T06:09:21.274Z"
   },
   {
    "duration": 85,
    "start_time": "2022-03-15T06:09:50.081Z"
   },
   {
    "duration": 144,
    "start_time": "2022-03-15T06:09:57.488Z"
   },
   {
    "duration": 52,
    "start_time": "2022-03-15T06:10:34.217Z"
   },
   {
    "duration": 48,
    "start_time": "2022-03-15T06:11:45.684Z"
   },
   {
    "duration": 2972,
    "start_time": "2022-03-15T06:12:47.012Z"
   },
   {
    "duration": 5193,
    "start_time": "2022-03-15T06:12:52.676Z"
   },
   {
    "duration": 49,
    "start_time": "2022-03-15T06:13:28.390Z"
   },
   {
    "duration": 703,
    "start_time": "2022-03-15T06:23:16.875Z"
   },
   {
    "duration": 93,
    "start_time": "2022-03-15T06:23:17.580Z"
   },
   {
    "duration": 32,
    "start_time": "2022-03-15T06:23:17.675Z"
   },
   {
    "duration": 51,
    "start_time": "2022-03-15T06:23:17.709Z"
   },
   {
    "duration": 12,
    "start_time": "2022-03-15T06:23:17.762Z"
   },
   {
    "duration": 28,
    "start_time": "2022-03-15T06:23:17.775Z"
   },
   {
    "duration": 23,
    "start_time": "2022-03-15T06:23:17.804Z"
   },
   {
    "duration": 48,
    "start_time": "2022-03-15T06:23:17.829Z"
   },
   {
    "duration": 11,
    "start_time": "2022-03-15T06:23:17.879Z"
   },
   {
    "duration": 11,
    "start_time": "2022-03-15T06:23:17.892Z"
   },
   {
    "duration": 12,
    "start_time": "2022-03-15T06:23:17.905Z"
   },
   {
    "duration": 57,
    "start_time": "2022-03-15T06:23:17.919Z"
   },
   {
    "duration": 653,
    "start_time": "2022-03-15T06:23:17.978Z"
   },
   {
    "duration": 4815,
    "start_time": "2022-03-15T06:23:18.632Z"
   },
   {
    "duration": 426,
    "start_time": "2022-03-15T06:23:23.449Z"
   },
   {
    "duration": 54,
    "start_time": "2022-03-15T06:23:23.877Z"
   },
   {
    "duration": 48,
    "start_time": "2022-03-15T06:31:19.811Z"
   },
   {
    "duration": 618,
    "start_time": "2022-03-15T06:31:31.612Z"
   },
   {
    "duration": 78,
    "start_time": "2022-03-15T06:31:32.232Z"
   },
   {
    "duration": 28,
    "start_time": "2022-03-15T06:31:32.313Z"
   },
   {
    "duration": 39,
    "start_time": "2022-03-15T06:31:32.343Z"
   },
   {
    "duration": 10,
    "start_time": "2022-03-15T06:31:32.384Z"
   },
   {
    "duration": 26,
    "start_time": "2022-03-15T06:31:32.395Z"
   },
   {
    "duration": 46,
    "start_time": "2022-03-15T06:31:32.422Z"
   },
   {
    "duration": 17,
    "start_time": "2022-03-15T06:31:32.471Z"
   },
   {
    "duration": 10,
    "start_time": "2022-03-15T06:31:32.490Z"
   },
   {
    "duration": 11,
    "start_time": "2022-03-15T06:31:32.501Z"
   },
   {
    "duration": 12,
    "start_time": "2022-03-15T06:31:32.513Z"
   },
   {
    "duration": 52,
    "start_time": "2022-03-15T06:31:32.527Z"
   },
   {
    "duration": 651,
    "start_time": "2022-03-15T06:31:32.580Z"
   },
   {
    "duration": 4706,
    "start_time": "2022-03-15T06:31:33.232Z"
   },
   {
    "duration": 383,
    "start_time": "2022-03-15T06:31:37.941Z"
   },
   {
    "duration": 71,
    "start_time": "2022-03-15T06:31:38.327Z"
   },
   {
    "duration": 555,
    "start_time": "2022-03-15T06:46:37.390Z"
   },
   {
    "duration": 1047,
    "start_time": "2022-03-15T06:49:06.225Z"
   },
   {
    "duration": 1015,
    "start_time": "2022-03-15T06:49:53.778Z"
   },
   {
    "duration": 1039,
    "start_time": "2022-03-15T06:50:36.323Z"
   },
   {
    "duration": 719,
    "start_time": "2022-03-15T06:51:06.049Z"
   },
   {
    "duration": 85,
    "start_time": "2022-03-15T06:51:06.770Z"
   },
   {
    "duration": 33,
    "start_time": "2022-03-15T06:51:06.857Z"
   },
   {
    "duration": 31,
    "start_time": "2022-03-15T06:51:06.892Z"
   },
   {
    "duration": 43,
    "start_time": "2022-03-15T06:51:06.925Z"
   },
   {
    "duration": 30,
    "start_time": "2022-03-15T06:51:06.970Z"
   },
   {
    "duration": 22,
    "start_time": "2022-03-15T06:51:07.001Z"
   },
   {
    "duration": 47,
    "start_time": "2022-03-15T06:51:07.026Z"
   },
   {
    "duration": 16,
    "start_time": "2022-03-15T06:51:07.075Z"
   },
   {
    "duration": 19,
    "start_time": "2022-03-15T06:51:07.093Z"
   },
   {
    "duration": 16,
    "start_time": "2022-03-15T06:51:07.114Z"
   },
   {
    "duration": 45,
    "start_time": "2022-03-15T06:51:07.132Z"
   },
   {
    "duration": 672,
    "start_time": "2022-03-15T06:51:07.180Z"
   },
   {
    "duration": 5060,
    "start_time": "2022-03-15T06:51:07.854Z"
   },
   {
    "duration": 376,
    "start_time": "2022-03-15T06:51:12.916Z"
   },
   {
    "duration": 53,
    "start_time": "2022-03-15T06:51:13.293Z"
   },
   {
    "duration": 1048,
    "start_time": "2022-03-15T06:51:13.347Z"
   },
   {
    "duration": 1032,
    "start_time": "2022-03-15T07:29:30.828Z"
   },
   {
    "duration": 1059,
    "start_time": "2022-03-15T07:33:58.298Z"
   },
   {
    "duration": 1052,
    "start_time": "2022-03-15T07:34:08.282Z"
   },
   {
    "duration": 1153,
    "start_time": "2022-03-15T07:34:22.386Z"
   },
   {
    "duration": 68,
    "start_time": "2022-03-15T07:34:37.003Z"
   },
   {
    "duration": 1070,
    "start_time": "2022-03-15T07:34:40.298Z"
   },
   {
    "duration": 3,
    "start_time": "2022-03-15T10:41:57.401Z"
   },
   {
    "duration": 655,
    "start_time": "2022-03-15T10:42:10.290Z"
   },
   {
    "duration": 3,
    "start_time": "2022-03-15T10:42:10.946Z"
   },
   {
    "duration": 90,
    "start_time": "2022-03-15T10:42:10.959Z"
   },
   {
    "duration": 30,
    "start_time": "2022-03-15T10:42:11.052Z"
   },
   {
    "duration": 27,
    "start_time": "2022-03-15T10:42:11.085Z"
   },
   {
    "duration": 52,
    "start_time": "2022-03-15T10:42:11.114Z"
   },
   {
    "duration": 28,
    "start_time": "2022-03-15T10:42:11.168Z"
   },
   {
    "duration": 23,
    "start_time": "2022-03-15T10:42:11.200Z"
   },
   {
    "duration": 49,
    "start_time": "2022-03-15T10:42:11.225Z"
   },
   {
    "duration": 12,
    "start_time": "2022-03-15T10:42:11.276Z"
   },
   {
    "duration": 14,
    "start_time": "2022-03-15T10:42:11.290Z"
   },
   {
    "duration": 10,
    "start_time": "2022-03-15T10:42:11.306Z"
   },
   {
    "duration": 59,
    "start_time": "2022-03-15T10:42:11.318Z"
   },
   {
    "duration": 649,
    "start_time": "2022-03-15T10:42:11.378Z"
   },
   {
    "duration": 4923,
    "start_time": "2022-03-15T10:42:12.029Z"
   },
   {
    "duration": 385,
    "start_time": "2022-03-15T10:42:16.954Z"
   },
   {
    "duration": 56,
    "start_time": "2022-03-15T10:42:17.341Z"
   },
   {
    "duration": 1107,
    "start_time": "2022-03-15T10:42:17.398Z"
   },
   {
    "duration": 7,
    "start_time": "2022-03-15T10:48:25.695Z"
   },
   {
    "duration": 655,
    "start_time": "2022-03-15T10:48:30.589Z"
   },
   {
    "duration": 4,
    "start_time": "2022-03-15T10:48:31.246Z"
   },
   {
    "duration": 101,
    "start_time": "2022-03-15T10:48:31.259Z"
   },
   {
    "duration": 25,
    "start_time": "2022-03-15T10:48:31.363Z"
   },
   {
    "duration": 26,
    "start_time": "2022-03-15T10:48:31.390Z"
   },
   {
    "duration": 48,
    "start_time": "2022-03-15T10:48:31.419Z"
   },
   {
    "duration": 29,
    "start_time": "2022-03-15T10:48:31.469Z"
   },
   {
    "duration": 22,
    "start_time": "2022-03-15T10:48:31.502Z"
   },
   {
    "duration": 50,
    "start_time": "2022-03-15T10:48:31.527Z"
   },
   {
    "duration": 20,
    "start_time": "2022-03-15T10:48:31.579Z"
   },
   {
    "duration": 53,
    "start_time": "2022-03-15T10:48:31.601Z"
   },
   {
    "duration": 14,
    "start_time": "2022-03-15T10:48:31.656Z"
   },
   {
    "duration": 21,
    "start_time": "2022-03-15T10:48:31.672Z"
   },
   {
    "duration": 661,
    "start_time": "2022-03-15T10:48:31.695Z"
   },
   {
    "duration": 4633,
    "start_time": "2022-03-15T10:48:32.359Z"
   },
   {
    "duration": 385,
    "start_time": "2022-03-15T10:48:36.994Z"
   },
   {
    "duration": 45,
    "start_time": "2022-03-15T10:48:37.381Z"
   },
   {
    "duration": 1277,
    "start_time": "2022-03-15T10:48:37.428Z"
   },
   {
    "duration": 1607,
    "start_time": "2022-03-15T10:52:15.233Z"
   },
   {
    "duration": 1592,
    "start_time": "2022-03-15T10:53:23.063Z"
   },
   {
    "duration": 638,
    "start_time": "2022-03-15T11:25:21.680Z"
   },
   {
    "duration": 3,
    "start_time": "2022-03-15T11:25:22.320Z"
   },
   {
    "duration": 96,
    "start_time": "2022-03-15T11:25:22.327Z"
   },
   {
    "duration": 36,
    "start_time": "2022-03-15T11:25:22.424Z"
   },
   {
    "duration": 24,
    "start_time": "2022-03-15T11:25:22.462Z"
   },
   {
    "duration": 12,
    "start_time": "2022-03-15T11:25:22.488Z"
   },
   {
    "duration": 56,
    "start_time": "2022-03-15T11:25:22.503Z"
   },
   {
    "duration": 22,
    "start_time": "2022-03-15T11:25:22.561Z"
   },
   {
    "duration": 18,
    "start_time": "2022-03-15T11:25:22.585Z"
   },
   {
    "duration": 10,
    "start_time": "2022-03-15T11:25:22.605Z"
   },
   {
    "duration": 51,
    "start_time": "2022-03-15T11:25:22.616Z"
   },
   {
    "duration": 12,
    "start_time": "2022-03-15T11:25:22.668Z"
   },
   {
    "duration": 19,
    "start_time": "2022-03-15T11:25:22.682Z"
   },
   {
    "duration": 663,
    "start_time": "2022-03-15T11:25:22.703Z"
   },
   {
    "duration": 4706,
    "start_time": "2022-03-15T11:25:23.367Z"
   },
   {
    "duration": 374,
    "start_time": "2022-03-15T11:25:28.075Z"
   },
   {
    "duration": 43,
    "start_time": "2022-03-15T11:25:28.459Z"
   },
   {
    "duration": 1622,
    "start_time": "2022-03-15T11:25:28.504Z"
   },
   {
    "duration": 43,
    "start_time": "2022-03-15T11:26:27.509Z"
   },
   {
    "duration": 1629,
    "start_time": "2022-03-15T11:26:28.495Z"
   },
   {
    "duration": 667,
    "start_time": "2022-03-15T11:32:11.590Z"
   },
   {
    "duration": 2,
    "start_time": "2022-03-15T11:32:12.259Z"
   },
   {
    "duration": 97,
    "start_time": "2022-03-15T11:32:12.263Z"
   },
   {
    "duration": 23,
    "start_time": "2022-03-15T11:32:12.361Z"
   },
   {
    "duration": 25,
    "start_time": "2022-03-15T11:32:12.386Z"
   },
   {
    "duration": 10,
    "start_time": "2022-03-15T11:32:12.413Z"
   },
   {
    "duration": 55,
    "start_time": "2022-03-15T11:32:12.424Z"
   },
   {
    "duration": 21,
    "start_time": "2022-03-15T11:32:12.482Z"
   },
   {
    "duration": 19,
    "start_time": "2022-03-15T11:32:12.505Z"
   },
   {
    "duration": 34,
    "start_time": "2022-03-15T11:32:12.526Z"
   },
   {
    "duration": 13,
    "start_time": "2022-03-15T11:32:12.562Z"
   },
   {
    "duration": 11,
    "start_time": "2022-03-15T11:32:12.576Z"
   },
   {
    "duration": 18,
    "start_time": "2022-03-15T11:32:12.589Z"
   },
   {
    "duration": 652,
    "start_time": "2022-03-15T11:32:12.609Z"
   },
   {
    "duration": 4783,
    "start_time": "2022-03-15T11:32:13.263Z"
   },
   {
    "duration": 385,
    "start_time": "2022-03-15T11:32:18.048Z"
   },
   {
    "duration": 54,
    "start_time": "2022-03-15T11:32:18.435Z"
   },
   {
    "duration": 1635,
    "start_time": "2022-03-15T11:32:18.491Z"
   },
   {
    "duration": 7322,
    "start_time": "2022-03-15T12:27:03.203Z"
   },
   {
    "duration": 164,
    "start_time": "2022-03-15T12:28:39.185Z"
   },
   {
    "duration": 684,
    "start_time": "2022-03-15T12:29:48.717Z"
   },
   {
    "duration": 936,
    "start_time": "2022-03-15T12:30:35.635Z"
   },
   {
    "duration": 42,
    "start_time": "2022-03-15T12:49:20.279Z"
   },
   {
    "duration": 530,
    "start_time": "2022-03-15T12:51:49.020Z"
   },
   {
    "duration": 1659,
    "start_time": "2022-03-15T12:53:42.662Z"
   },
   {
    "duration": 1045,
    "start_time": "2022-03-15T12:54:47.123Z"
   },
   {
    "duration": 334,
    "start_time": "2022-03-15T12:55:13.480Z"
   },
   {
    "duration": 1025,
    "start_time": "2022-03-15T12:55:40.833Z"
   },
   {
    "duration": 1556,
    "start_time": "2022-03-15T12:57:33.557Z"
   },
   {
    "duration": 1520,
    "start_time": "2022-03-15T12:58:38.842Z"
   },
   {
    "duration": 1642,
    "start_time": "2022-03-15T13:14:53.274Z"
   },
   {
    "duration": 1666,
    "start_time": "2022-03-15T13:15:12.470Z"
   },
   {
    "duration": 32,
    "start_time": "2022-03-15T13:26:49.445Z"
   },
   {
    "duration": 20,
    "start_time": "2022-03-15T13:31:12.462Z"
   },
   {
    "duration": 12,
    "start_time": "2022-03-15T13:31:48.771Z"
   },
   {
    "duration": 20,
    "start_time": "2022-03-15T13:31:54.018Z"
   },
   {
    "duration": 12,
    "start_time": "2022-03-15T13:34:40.579Z"
   },
   {
    "duration": 26,
    "start_time": "2022-03-15T13:34:46.523Z"
   },
   {
    "duration": 28,
    "start_time": "2022-03-15T13:36:23.331Z"
   },
   {
    "duration": 29,
    "start_time": "2022-03-15T13:36:46.128Z"
   },
   {
    "duration": 137,
    "start_time": "2022-03-15T13:37:35.222Z"
   },
   {
    "duration": 201,
    "start_time": "2022-03-15T13:39:21.113Z"
   },
   {
    "duration": 18,
    "start_time": "2022-03-15T13:39:29.801Z"
   },
   {
    "duration": 17,
    "start_time": "2022-03-15T13:40:19.944Z"
   },
   {
    "duration": 16,
    "start_time": "2022-03-15T13:40:33.615Z"
   },
   {
    "duration": 37,
    "start_time": "2022-03-15T13:41:32.237Z"
   },
   {
    "duration": 41,
    "start_time": "2022-03-15T13:45:30.782Z"
   },
   {
    "duration": 37,
    "start_time": "2022-03-15T13:47:04.516Z"
   },
   {
    "duration": 194,
    "start_time": "2022-03-15T13:49:02.431Z"
   },
   {
    "duration": 27,
    "start_time": "2022-03-15T13:49:12.254Z"
   },
   {
    "duration": 32,
    "start_time": "2022-03-15T13:49:18.836Z"
   },
   {
    "duration": 700,
    "start_time": "2022-03-15T13:50:18.011Z"
   },
   {
    "duration": 21,
    "start_time": "2022-03-15T13:50:24.314Z"
   },
   {
    "duration": 26,
    "start_time": "2022-03-15T13:50:29.458Z"
   },
   {
    "duration": 185,
    "start_time": "2022-03-15T13:52:02.495Z"
   },
   {
    "duration": 192,
    "start_time": "2022-03-15T13:52:30.694Z"
   },
   {
    "duration": 28,
    "start_time": "2022-03-15T13:52:46.841Z"
   },
   {
    "duration": 37,
    "start_time": "2022-03-15T13:53:04.549Z"
   },
   {
    "duration": 36,
    "start_time": "2022-03-15T13:53:12.237Z"
   },
   {
    "duration": 26,
    "start_time": "2022-03-15T13:53:18.597Z"
   },
   {
    "duration": 27,
    "start_time": "2022-03-15T13:53:26.869Z"
   },
   {
    "duration": 32,
    "start_time": "2022-03-15T13:56:04.807Z"
   },
   {
    "duration": 25,
    "start_time": "2022-03-15T13:57:31.533Z"
   },
   {
    "duration": 6,
    "start_time": "2022-03-15T14:01:14.788Z"
   },
   {
    "duration": 13,
    "start_time": "2022-03-15T14:01:19.908Z"
   },
   {
    "duration": 39,
    "start_time": "2022-03-15T14:01:27.572Z"
   },
   {
    "duration": 311,
    "start_time": "2022-03-15T14:03:37.321Z"
   },
   {
    "duration": 9,
    "start_time": "2022-03-15T14:03:50.311Z"
   },
   {
    "duration": 11,
    "start_time": "2022-03-15T14:04:00.831Z"
   },
   {
    "duration": 52,
    "start_time": "2022-03-15T14:06:59.865Z"
   },
   {
    "duration": 171,
    "start_time": "2022-03-15T14:07:07.369Z"
   },
   {
    "duration": 14,
    "start_time": "2022-03-15T14:07:18.864Z"
   },
   {
    "duration": 40,
    "start_time": "2022-03-15T14:07:33.970Z"
   },
   {
    "duration": 44,
    "start_time": "2022-03-15T14:10:18.131Z"
   },
   {
    "duration": 12,
    "start_time": "2022-03-15T14:10:27.115Z"
   },
   {
    "duration": 40,
    "start_time": "2022-03-15T14:11:33.911Z"
   },
   {
    "duration": 15,
    "start_time": "2022-03-15T14:12:39.758Z"
   },
   {
    "duration": 11,
    "start_time": "2022-03-15T14:12:49.805Z"
   },
   {
    "duration": 12,
    "start_time": "2022-03-15T14:13:18.507Z"
   },
   {
    "duration": 167,
    "start_time": "2022-03-15T14:14:09.069Z"
   },
   {
    "duration": 15,
    "start_time": "2022-03-15T14:16:27.598Z"
   },
   {
    "duration": 12,
    "start_time": "2022-03-15T14:18:06.690Z"
   },
   {
    "duration": 12,
    "start_time": "2022-03-15T14:18:41.067Z"
   },
   {
    "duration": 11,
    "start_time": "2022-03-15T14:18:49.056Z"
   },
   {
    "duration": 11,
    "start_time": "2022-03-15T14:19:03.144Z"
   },
   {
    "duration": 8,
    "start_time": "2022-03-15T14:19:13.248Z"
   },
   {
    "duration": 12,
    "start_time": "2022-03-15T14:19:16.583Z"
   },
   {
    "duration": 12,
    "start_time": "2022-03-15T14:19:35.287Z"
   },
   {
    "duration": 38,
    "start_time": "2022-03-15T14:19:51.318Z"
   },
   {
    "duration": 10,
    "start_time": "2022-03-15T14:20:26.591Z"
   },
   {
    "duration": 152,
    "start_time": "2022-03-15T14:23:25.191Z"
   },
   {
    "duration": 146,
    "start_time": "2022-03-15T14:24:48.965Z"
   },
   {
    "duration": 13,
    "start_time": "2022-03-15T14:24:51.596Z"
   },
   {
    "duration": 165,
    "start_time": "2022-03-15T14:27:09.056Z"
   },
   {
    "duration": 42,
    "start_time": "2022-03-15T14:27:54.711Z"
   },
   {
    "duration": 11,
    "start_time": "2022-03-15T14:28:34.438Z"
   },
   {
    "duration": 58,
    "start_time": "2022-03-15T14:30:51.929Z"
   },
   {
    "duration": 191,
    "start_time": "2022-03-15T14:31:57.223Z"
   },
   {
    "duration": 27,
    "start_time": "2022-03-15T14:33:06.174Z"
   },
   {
    "duration": 138,
    "start_time": "2022-03-15T14:33:13.254Z"
   },
   {
    "duration": 195,
    "start_time": "2022-03-15T14:33:20.366Z"
   },
   {
    "duration": 147,
    "start_time": "2022-03-15T14:33:33.598Z"
   },
   {
    "duration": 11,
    "start_time": "2022-03-15T14:33:36.654Z"
   },
   {
    "duration": 13,
    "start_time": "2022-03-15T14:36:42.854Z"
   },
   {
    "duration": 16,
    "start_time": "2022-03-15T14:36:49.957Z"
   },
   {
    "duration": 21,
    "start_time": "2022-03-15T14:37:13.596Z"
   },
   {
    "duration": 44,
    "start_time": "2022-03-15T14:37:20.471Z"
   },
   {
    "duration": 171,
    "start_time": "2022-03-15T14:37:44.414Z"
   },
   {
    "duration": 39,
    "start_time": "2022-03-15T14:41:27.866Z"
   },
   {
    "duration": 658,
    "start_time": "2022-03-15T14:47:08.431Z"
   },
   {
    "duration": 3,
    "start_time": "2022-03-15T14:47:09.090Z"
   },
   {
    "duration": 94,
    "start_time": "2022-03-15T14:47:09.095Z"
   },
   {
    "duration": 23,
    "start_time": "2022-03-15T14:47:09.191Z"
   },
   {
    "duration": 24,
    "start_time": "2022-03-15T14:47:09.215Z"
   },
   {
    "duration": 11,
    "start_time": "2022-03-15T14:47:09.259Z"
   },
   {
    "duration": 26,
    "start_time": "2022-03-15T14:47:09.271Z"
   },
   {
    "duration": 21,
    "start_time": "2022-03-15T14:47:09.300Z"
   },
   {
    "duration": 49,
    "start_time": "2022-03-15T14:47:09.323Z"
   },
   {
    "duration": 9,
    "start_time": "2022-03-15T14:47:09.374Z"
   },
   {
    "duration": 12,
    "start_time": "2022-03-15T14:47:09.384Z"
   },
   {
    "duration": 11,
    "start_time": "2022-03-15T14:47:09.397Z"
   },
   {
    "duration": 51,
    "start_time": "2022-03-15T14:47:09.410Z"
   },
   {
    "duration": 638,
    "start_time": "2022-03-15T14:47:09.463Z"
   },
   {
    "duration": 4857,
    "start_time": "2022-03-15T14:47:10.103Z"
   },
   {
    "duration": 383,
    "start_time": "2022-03-15T14:47:14.961Z"
   },
   {
    "duration": 60,
    "start_time": "2022-03-15T14:47:15.346Z"
   },
   {
    "duration": 1630,
    "start_time": "2022-03-15T14:47:15.408Z"
   },
   {
    "duration": 965,
    "start_time": "2022-03-15T14:47:17.040Z"
   },
   {
    "duration": 1597,
    "start_time": "2022-03-15T14:47:18.007Z"
   },
   {
    "duration": 22,
    "start_time": "2022-03-15T14:47:19.606Z"
   },
   {
    "duration": 43,
    "start_time": "2022-03-15T14:47:19.630Z"
   },
   {
    "duration": 39,
    "start_time": "2022-03-15T14:47:19.676Z"
   },
   {
    "duration": 24,
    "start_time": "2022-03-15T14:49:04.229Z"
   },
   {
    "duration": 24,
    "start_time": "2022-03-15T14:49:15.134Z"
   },
   {
    "duration": 24,
    "start_time": "2022-03-15T14:50:05.171Z"
   },
   {
    "duration": 24,
    "start_time": "2022-03-15T14:50:51.986Z"
   },
   {
    "duration": 24,
    "start_time": "2022-03-15T14:51:22.193Z"
   },
   {
    "duration": 24,
    "start_time": "2022-03-15T14:51:47.000Z"
   },
   {
    "duration": 27,
    "start_time": "2022-03-15T14:52:27.279Z"
   },
   {
    "duration": 628,
    "start_time": "2022-03-15T14:53:12.379Z"
   },
   {
    "duration": 3,
    "start_time": "2022-03-15T14:53:13.009Z"
   },
   {
    "duration": 95,
    "start_time": "2022-03-15T14:53:13.014Z"
   },
   {
    "duration": 24,
    "start_time": "2022-03-15T14:53:13.110Z"
   },
   {
    "duration": 45,
    "start_time": "2022-03-15T14:53:13.136Z"
   },
   {
    "duration": 12,
    "start_time": "2022-03-15T14:53:13.183Z"
   },
   {
    "duration": 26,
    "start_time": "2022-03-15T14:53:13.196Z"
   },
   {
    "duration": 49,
    "start_time": "2022-03-15T14:53:13.224Z"
   },
   {
    "duration": 17,
    "start_time": "2022-03-15T14:53:13.276Z"
   },
   {
    "duration": 9,
    "start_time": "2022-03-15T14:53:13.295Z"
   },
   {
    "duration": 12,
    "start_time": "2022-03-15T14:53:13.306Z"
   },
   {
    "duration": 45,
    "start_time": "2022-03-15T14:53:13.319Z"
   },
   {
    "duration": 19,
    "start_time": "2022-03-15T14:53:13.366Z"
   },
   {
    "duration": 649,
    "start_time": "2022-03-15T14:53:13.387Z"
   },
   {
    "duration": 5285,
    "start_time": "2022-03-15T14:53:14.037Z"
   },
   {
    "duration": 495,
    "start_time": "2022-03-15T14:53:19.324Z"
   },
   {
    "duration": 59,
    "start_time": "2022-03-15T14:53:19.821Z"
   },
   {
    "duration": 1655,
    "start_time": "2022-03-15T14:53:19.882Z"
   },
   {
    "duration": 982,
    "start_time": "2022-03-15T14:53:21.538Z"
   },
   {
    "duration": 1601,
    "start_time": "2022-03-15T14:53:22.522Z"
   },
   {
    "duration": 22,
    "start_time": "2022-03-15T14:53:24.125Z"
   },
   {
    "duration": 23,
    "start_time": "2022-03-15T14:53:24.160Z"
   },
   {
    "duration": 39,
    "start_time": "2022-03-15T14:53:24.186Z"
   },
   {
    "duration": 25,
    "start_time": "2022-03-15T14:54:35.391Z"
   },
   {
    "duration": 39,
    "start_time": "2022-03-15T14:54:55.519Z"
   },
   {
    "duration": 12,
    "start_time": "2022-03-15T14:55:44.486Z"
   },
   {
    "duration": 12,
    "start_time": "2022-03-15T14:59:18.118Z"
   },
   {
    "duration": 3751,
    "start_time": "2022-03-15T15:01:41.171Z"
   },
   {
    "duration": 8,
    "start_time": "2022-03-15T15:07:43.617Z"
   },
   {
    "duration": 11,
    "start_time": "2022-03-15T15:07:47.294Z"
   },
   {
    "duration": 10,
    "start_time": "2022-03-15T15:08:43.950Z"
   },
   {
    "duration": 382,
    "start_time": "2022-03-15T15:16:49.807Z"
   },
   {
    "duration": 228,
    "start_time": "2022-03-15T15:17:03.862Z"
   },
   {
    "duration": 227,
    "start_time": "2022-03-15T15:18:24.523Z"
   },
   {
    "duration": 683,
    "start_time": "2022-03-15T15:18:44.811Z"
   },
   {
    "duration": 634,
    "start_time": "2022-03-15T15:18:52.387Z"
   },
   {
    "duration": 622,
    "start_time": "2022-03-15T15:19:01.207Z"
   },
   {
    "duration": 585,
    "start_time": "2022-03-15T15:19:11.717Z"
   },
   {
    "duration": 3,
    "start_time": "2022-03-15T15:19:12.304Z"
   },
   {
    "duration": 90,
    "start_time": "2022-03-15T15:19:12.309Z"
   },
   {
    "duration": 24,
    "start_time": "2022-03-15T15:19:12.401Z"
   },
   {
    "duration": 46,
    "start_time": "2022-03-15T15:19:12.427Z"
   },
   {
    "duration": 11,
    "start_time": "2022-03-15T15:19:12.475Z"
   },
   {
    "duration": 27,
    "start_time": "2022-03-15T15:19:12.488Z"
   },
   {
    "duration": 55,
    "start_time": "2022-03-15T15:19:12.517Z"
   },
   {
    "duration": 22,
    "start_time": "2022-03-15T15:19:12.574Z"
   },
   {
    "duration": 16,
    "start_time": "2022-03-15T15:19:12.599Z"
   },
   {
    "duration": 43,
    "start_time": "2022-03-15T15:19:12.617Z"
   },
   {
    "duration": 12,
    "start_time": "2022-03-15T15:19:12.662Z"
   },
   {
    "duration": 19,
    "start_time": "2022-03-15T15:19:12.676Z"
   },
   {
    "duration": 673,
    "start_time": "2022-03-15T15:19:12.696Z"
   },
   {
    "duration": 4963,
    "start_time": "2022-03-15T15:19:13.370Z"
   },
   {
    "duration": 392,
    "start_time": "2022-03-15T15:19:18.335Z"
   },
   {
    "duration": 62,
    "start_time": "2022-03-15T15:19:18.728Z"
   },
   {
    "duration": 1633,
    "start_time": "2022-03-15T15:19:18.792Z"
   },
   {
    "duration": 984,
    "start_time": "2022-03-15T15:19:20.426Z"
   },
   {
    "duration": 1589,
    "start_time": "2022-03-15T15:19:21.412Z"
   },
   {
    "duration": 20,
    "start_time": "2022-03-15T15:19:23.003Z"
   },
   {
    "duration": 46,
    "start_time": "2022-03-15T15:19:23.025Z"
   },
   {
    "duration": 685,
    "start_time": "2022-03-15T15:19:23.074Z"
   },
   {
    "duration": 604,
    "start_time": "2022-03-15T15:20:55.424Z"
   },
   {
    "duration": 2,
    "start_time": "2022-03-15T15:20:56.030Z"
   },
   {
    "duration": 88,
    "start_time": "2022-03-15T15:20:56.034Z"
   },
   {
    "duration": 35,
    "start_time": "2022-03-15T15:20:56.124Z"
   },
   {
    "duration": 23,
    "start_time": "2022-03-15T15:20:56.161Z"
   },
   {
    "duration": 11,
    "start_time": "2022-03-15T15:20:56.186Z"
   },
   {
    "duration": 25,
    "start_time": "2022-03-15T15:20:56.198Z"
   },
   {
    "duration": 49,
    "start_time": "2022-03-15T15:20:56.225Z"
   },
   {
    "duration": 17,
    "start_time": "2022-03-15T15:20:56.276Z"
   },
   {
    "duration": 8,
    "start_time": "2022-03-15T15:20:56.295Z"
   },
   {
    "duration": 12,
    "start_time": "2022-03-15T15:20:56.304Z"
   },
   {
    "duration": 46,
    "start_time": "2022-03-15T15:20:56.318Z"
   },
   {
    "duration": 17,
    "start_time": "2022-03-15T15:20:56.366Z"
   },
   {
    "duration": 635,
    "start_time": "2022-03-15T15:20:56.385Z"
   },
   {
    "duration": 4774,
    "start_time": "2022-03-15T15:20:57.022Z"
   },
   {
    "duration": 392,
    "start_time": "2022-03-15T15:21:01.798Z"
   },
   {
    "duration": 44,
    "start_time": "2022-03-15T15:21:02.192Z"
   },
   {
    "duration": 1567,
    "start_time": "2022-03-15T15:21:02.238Z"
   },
   {
    "duration": 952,
    "start_time": "2022-03-15T15:21:03.807Z"
   },
   {
    "duration": 1529,
    "start_time": "2022-03-15T15:21:04.761Z"
   },
   {
    "duration": 21,
    "start_time": "2022-03-15T15:21:06.292Z"
   },
   {
    "duration": 24,
    "start_time": "2022-03-15T15:21:06.314Z"
   },
   {
    "duration": 833,
    "start_time": "2022-03-15T15:21:06.361Z"
   },
   {
    "duration": 18,
    "start_time": "2022-03-15T15:21:41.266Z"
   },
   {
    "duration": 594,
    "start_time": "2022-03-15T15:22:08.903Z"
   },
   {
    "duration": 2,
    "start_time": "2022-03-15T15:22:09.499Z"
   },
   {
    "duration": 95,
    "start_time": "2022-03-15T15:22:09.503Z"
   },
   {
    "duration": 24,
    "start_time": "2022-03-15T15:22:09.599Z"
   },
   {
    "duration": 41,
    "start_time": "2022-03-15T15:22:09.624Z"
   },
   {
    "duration": 11,
    "start_time": "2022-03-15T15:22:09.667Z"
   },
   {
    "duration": 28,
    "start_time": "2022-03-15T15:22:09.680Z"
   },
   {
    "duration": 60,
    "start_time": "2022-03-15T15:22:09.711Z"
   },
   {
    "duration": 18,
    "start_time": "2022-03-15T15:22:09.774Z"
   },
   {
    "duration": 10,
    "start_time": "2022-03-15T15:22:09.793Z"
   },
   {
    "duration": 14,
    "start_time": "2022-03-15T15:22:09.805Z"
   },
   {
    "duration": 43,
    "start_time": "2022-03-15T15:22:09.820Z"
   },
   {
    "duration": 22,
    "start_time": "2022-03-15T15:22:09.865Z"
   },
   {
    "duration": 655,
    "start_time": "2022-03-15T15:22:09.889Z"
   },
   {
    "duration": 4913,
    "start_time": "2022-03-15T15:22:10.546Z"
   },
   {
    "duration": 398,
    "start_time": "2022-03-15T15:22:15.461Z"
   },
   {
    "duration": 47,
    "start_time": "2022-03-15T15:22:15.861Z"
   },
   {
    "duration": 1620,
    "start_time": "2022-03-15T15:22:15.909Z"
   },
   {
    "duration": 963,
    "start_time": "2022-03-15T15:22:17.531Z"
   },
   {
    "duration": 1617,
    "start_time": "2022-03-15T15:22:18.496Z"
   },
   {
    "duration": 21,
    "start_time": "2022-03-15T15:22:20.115Z"
   },
   {
    "duration": 43,
    "start_time": "2022-03-15T15:22:20.138Z"
   },
   {
    "duration": 20,
    "start_time": "2022-03-15T15:22:20.184Z"
   },
   {
    "duration": 3,
    "start_time": "2022-03-15T15:24:08.088Z"
   },
   {
    "duration": 3,
    "start_time": "2022-03-15T15:24:10.791Z"
   },
   {
    "duration": 3,
    "start_time": "2022-03-15T15:24:11.864Z"
   },
   {
    "duration": 87,
    "start_time": "2022-03-15T15:24:12.610Z"
   },
   {
    "duration": 26,
    "start_time": "2022-03-15T15:24:13.119Z"
   },
   {
    "duration": 26,
    "start_time": "2022-03-15T15:24:13.605Z"
   },
   {
    "duration": 11,
    "start_time": "2022-03-15T15:24:14.048Z"
   },
   {
    "duration": 27,
    "start_time": "2022-03-15T15:24:14.472Z"
   },
   {
    "duration": 33,
    "start_time": "2022-03-15T15:24:16.160Z"
   },
   {
    "duration": 20,
    "start_time": "2022-03-15T15:24:17.033Z"
   },
   {
    "duration": 12,
    "start_time": "2022-03-15T15:24:17.440Z"
   },
   {
    "duration": 12,
    "start_time": "2022-03-15T15:24:18.367Z"
   },
   {
    "duration": 18,
    "start_time": "2022-03-15T15:24:18.800Z"
   },
   {
    "duration": 31,
    "start_time": "2022-03-15T15:24:20.232Z"
   },
   {
    "duration": 735,
    "start_time": "2022-03-15T15:24:20.776Z"
   },
   {
    "duration": 4853,
    "start_time": "2022-03-15T15:24:22.704Z"
   },
   {
    "duration": 396,
    "start_time": "2022-03-15T15:24:30.951Z"
   },
   {
    "duration": 46,
    "start_time": "2022-03-15T15:24:33.144Z"
   },
   {
    "duration": 1596,
    "start_time": "2022-03-15T15:24:35.743Z"
   },
   {
    "duration": 938,
    "start_time": "2022-03-15T15:24:40.806Z"
   },
   {
    "duration": 1677,
    "start_time": "2022-03-15T15:24:45.639Z"
   },
   {
    "duration": 22,
    "start_time": "2022-03-15T15:24:52.176Z"
   },
   {
    "duration": 27,
    "start_time": "2022-03-15T15:24:53.216Z"
   },
   {
    "duration": 18,
    "start_time": "2022-03-15T15:24:55.750Z"
   },
   {
    "duration": 4061,
    "start_time": "2022-03-15T15:29:30.879Z"
   },
   {
    "duration": 5004,
    "start_time": "2022-03-15T15:29:42.270Z"
   },
   {
    "duration": 670,
    "start_time": "2022-03-15T15:32:23.976Z"
   },
   {
    "duration": 3,
    "start_time": "2022-03-15T15:32:24.648Z"
   },
   {
    "duration": 112,
    "start_time": "2022-03-15T15:32:24.654Z"
   },
   {
    "duration": 18,
    "start_time": "2022-03-15T15:32:24.768Z"
   },
   {
    "duration": 29,
    "start_time": "2022-03-15T15:32:24.789Z"
   },
   {
    "duration": 56,
    "start_time": "2022-03-15T15:32:24.820Z"
   },
   {
    "duration": 17,
    "start_time": "2022-03-15T15:32:24.879Z"
   },
   {
    "duration": 10,
    "start_time": "2022-03-15T15:32:24.898Z"
   },
   {
    "duration": 13,
    "start_time": "2022-03-15T15:32:24.910Z"
   },
   {
    "duration": 14,
    "start_time": "2022-03-15T15:32:24.960Z"
   },
   {
    "duration": 655,
    "start_time": "2022-03-15T15:32:24.976Z"
   },
   {
    "duration": 5226,
    "start_time": "2022-03-15T15:32:25.633Z"
   },
   {
    "duration": 407,
    "start_time": "2022-03-15T15:32:30.862Z"
   },
   {
    "duration": 52,
    "start_time": "2022-03-15T15:32:31.271Z"
   },
   {
    "duration": 1608,
    "start_time": "2022-03-15T15:32:31.324Z"
   },
   {
    "duration": 964,
    "start_time": "2022-03-15T15:32:32.934Z"
   },
   {
    "duration": 1610,
    "start_time": "2022-03-15T15:32:33.899Z"
   },
   {
    "duration": 19,
    "start_time": "2022-03-15T15:32:35.511Z"
   },
   {
    "duration": 38,
    "start_time": "2022-03-15T15:32:35.532Z"
   },
   {
    "duration": 19,
    "start_time": "2022-03-15T15:32:35.572Z"
   },
   {
    "duration": 10,
    "start_time": "2022-03-15T15:33:34.866Z"
   },
   {
    "duration": 24,
    "start_time": "2022-03-15T15:35:16.862Z"
   },
   {
    "duration": 23,
    "start_time": "2022-03-15T15:35:32.718Z"
   },
   {
    "duration": 17,
    "start_time": "2022-03-15T15:36:52.924Z"
   },
   {
    "duration": 671,
    "start_time": "2022-03-15T15:42:40.579Z"
   },
   {
    "duration": 2,
    "start_time": "2022-03-15T15:42:41.252Z"
   },
   {
    "duration": 85,
    "start_time": "2022-03-15T15:42:41.256Z"
   },
   {
    "duration": 21,
    "start_time": "2022-03-15T15:42:41.343Z"
   },
   {
    "duration": 24,
    "start_time": "2022-03-15T15:42:41.366Z"
   },
   {
    "duration": 20,
    "start_time": "2022-03-15T15:42:41.392Z"
   },
   {
    "duration": 17,
    "start_time": "2022-03-15T15:42:41.413Z"
   },
   {
    "duration": 35,
    "start_time": "2022-03-15T15:42:41.432Z"
   },
   {
    "duration": 13,
    "start_time": "2022-03-15T15:42:41.469Z"
   },
   {
    "duration": 10,
    "start_time": "2022-03-15T15:42:41.484Z"
   },
   {
    "duration": 646,
    "start_time": "2022-03-15T15:42:41.496Z"
   },
   {
    "duration": 4556,
    "start_time": "2022-03-15T15:42:42.144Z"
   },
   {
    "duration": 386,
    "start_time": "2022-03-15T15:42:46.702Z"
   },
   {
    "duration": 48,
    "start_time": "2022-03-15T15:42:47.090Z"
   },
   {
    "duration": 1585,
    "start_time": "2022-03-15T15:42:47.139Z"
   },
   {
    "duration": 938,
    "start_time": "2022-03-15T15:42:48.727Z"
   },
   {
    "duration": 1525,
    "start_time": "2022-03-15T15:42:49.667Z"
   },
   {
    "duration": 22,
    "start_time": "2022-03-15T15:42:51.194Z"
   },
   {
    "duration": 47,
    "start_time": "2022-03-15T15:42:51.218Z"
   },
   {
    "duration": 17,
    "start_time": "2022-03-15T15:42:51.266Z"
   },
   {
    "duration": 3,
    "start_time": "2022-03-15T15:43:12.350Z"
   },
   {
    "duration": 2,
    "start_time": "2022-03-15T15:43:12.799Z"
   },
   {
    "duration": 90,
    "start_time": "2022-03-15T15:43:13.463Z"
   },
   {
    "duration": 11,
    "start_time": "2022-03-15T15:43:15.926Z"
   },
   {
    "duration": 25,
    "start_time": "2022-03-15T15:43:16.695Z"
   },
   {
    "duration": 19,
    "start_time": "2022-03-15T15:43:19.810Z"
   },
   {
    "duration": 21,
    "start_time": "2022-03-15T15:43:21.223Z"
   },
   {
    "duration": 12,
    "start_time": "2022-03-15T15:43:21.974Z"
   },
   {
    "duration": 14,
    "start_time": "2022-03-15T15:43:23.637Z"
   },
   {
    "duration": 13,
    "start_time": "2022-03-15T15:43:24.142Z"
   },
   {
    "duration": 700,
    "start_time": "2022-03-15T15:43:31.134Z"
   },
   {
    "duration": 45,
    "start_time": "2022-03-15T15:43:52.126Z"
   },
   {
    "duration": 25,
    "start_time": "2022-03-15T15:44:12.318Z"
   },
   {
    "duration": 18,
    "start_time": "2022-03-15T15:44:43.780Z"
   },
   {
    "duration": 798,
    "start_time": "2022-03-15T17:38:53.809Z"
   },
   {
    "duration": 4,
    "start_time": "2022-03-15T17:38:54.610Z"
   },
   {
    "duration": 124,
    "start_time": "2022-03-15T17:38:54.616Z"
   },
   {
    "duration": 15,
    "start_time": "2022-03-15T17:38:54.743Z"
   },
   {
    "duration": 51,
    "start_time": "2022-03-15T17:38:54.760Z"
   },
   {
    "duration": 27,
    "start_time": "2022-03-15T17:38:54.813Z"
   },
   {
    "duration": 49,
    "start_time": "2022-03-15T17:38:54.843Z"
   },
   {
    "duration": 12,
    "start_time": "2022-03-15T17:38:54.896Z"
   },
   {
    "duration": 16,
    "start_time": "2022-03-15T17:38:54.911Z"
   },
   {
    "duration": 16,
    "start_time": "2022-03-15T17:38:54.929Z"
   },
   {
    "duration": 963,
    "start_time": "2022-03-15T17:38:54.947Z"
   },
   {
    "duration": 7019,
    "start_time": "2022-03-15T17:38:55.913Z"
   },
   {
    "duration": 578,
    "start_time": "2022-03-15T17:39:02.934Z"
   },
   {
    "duration": 87,
    "start_time": "2022-03-15T17:39:03.515Z"
   },
   {
    "duration": 2154,
    "start_time": "2022-03-15T17:39:03.605Z"
   },
   {
    "duration": 1428,
    "start_time": "2022-03-15T17:39:05.762Z"
   },
   {
    "duration": 2080,
    "start_time": "2022-03-15T17:39:07.192Z"
   },
   {
    "duration": 34,
    "start_time": "2022-03-15T17:39:09.275Z"
   },
   {
    "duration": 36,
    "start_time": "2022-03-15T17:39:09.311Z"
   },
   {
    "duration": 57,
    "start_time": "2022-03-15T17:39:09.349Z"
   },
   {
    "duration": 70,
    "start_time": "2022-03-15T17:39:29.206Z"
   },
   {
    "duration": 62,
    "start_time": "2022-03-15T17:45:29.959Z"
   },
   {
    "duration": 61,
    "start_time": "2022-03-15T17:54:55.960Z"
   },
   {
    "duration": 54,
    "start_time": "2022-03-15T18:20:29.012Z"
   },
   {
    "duration": 26,
    "start_time": "2022-03-15T18:24:54.895Z"
   },
   {
    "duration": 23,
    "start_time": "2022-03-15T18:25:19.351Z"
   },
   {
    "duration": 22,
    "start_time": "2022-03-15T18:25:25.911Z"
   },
   {
    "duration": 531,
    "start_time": "2022-03-15T18:27:10.258Z"
   },
   {
    "duration": 5682,
    "start_time": "2022-03-15T18:27:34.435Z"
   },
   {
    "duration": 6539,
    "start_time": "2022-03-15T18:29:06.310Z"
   },
   {
    "duration": 24,
    "start_time": "2022-03-15T18:29:25.813Z"
   },
   {
    "duration": 19,
    "start_time": "2022-03-15T18:29:45.980Z"
   },
   {
    "duration": 6592,
    "start_time": "2022-03-15T18:29:49.947Z"
   },
   {
    "duration": 6743,
    "start_time": "2022-03-15T18:30:18.229Z"
   },
   {
    "duration": 6084,
    "start_time": "2022-03-15T18:30:36.910Z"
   },
   {
    "duration": 362,
    "start_time": "2022-03-15T18:33:26.569Z"
   },
   {
    "duration": 1594,
    "start_time": "2022-03-15T18:34:47.321Z"
   },
   {
    "duration": 15,
    "start_time": "2022-03-15T18:34:59.402Z"
   },
   {
    "duration": 23,
    "start_time": "2022-03-15T18:35:05.050Z"
   },
   {
    "duration": 5750,
    "start_time": "2022-03-15T18:35:37.932Z"
   },
   {
    "duration": 756,
    "start_time": "2022-03-15T18:36:50.029Z"
   },
   {
    "duration": 30,
    "start_time": "2022-03-15T18:40:58.472Z"
   },
   {
    "duration": 305,
    "start_time": "2022-03-15T18:46:26.351Z"
   },
   {
    "duration": 359,
    "start_time": "2022-03-15T18:47:02.387Z"
   },
   {
    "duration": 309,
    "start_time": "2022-03-15T18:48:05.195Z"
   },
   {
    "duration": 430,
    "start_time": "2022-03-15T18:50:24.259Z"
   },
   {
    "duration": 315,
    "start_time": "2022-03-15T18:50:41.026Z"
   },
   {
    "duration": 313,
    "start_time": "2022-03-15T18:50:46.395Z"
   },
   {
    "duration": 294,
    "start_time": "2022-03-15T18:51:14.996Z"
   },
   {
    "duration": 821,
    "start_time": "2022-03-15T18:53:01.195Z"
   },
   {
    "duration": 4,
    "start_time": "2022-03-15T18:53:02.019Z"
   },
   {
    "duration": 130,
    "start_time": "2022-03-15T18:53:02.026Z"
   },
   {
    "duration": 24,
    "start_time": "2022-03-15T18:53:02.159Z"
   },
   {
    "duration": 39,
    "start_time": "2022-03-15T18:53:02.185Z"
   },
   {
    "duration": 27,
    "start_time": "2022-03-15T18:53:02.227Z"
   },
   {
    "duration": 49,
    "start_time": "2022-03-15T18:53:02.256Z"
   },
   {
    "duration": 13,
    "start_time": "2022-03-15T18:53:02.309Z"
   },
   {
    "duration": 15,
    "start_time": "2022-03-15T18:53:02.324Z"
   },
   {
    "duration": 52,
    "start_time": "2022-03-15T18:53:02.342Z"
   },
   {
    "duration": 1022,
    "start_time": "2022-03-15T18:53:02.398Z"
   },
   {
    "duration": 7003,
    "start_time": "2022-03-15T18:53:03.423Z"
   },
   {
    "duration": 558,
    "start_time": "2022-03-15T18:53:10.428Z"
   },
   {
    "duration": 73,
    "start_time": "2022-03-15T18:53:10.988Z"
   },
   {
    "duration": 2150,
    "start_time": "2022-03-15T18:53:11.063Z"
   },
   {
    "duration": 1582,
    "start_time": "2022-03-15T18:53:13.215Z"
   },
   {
    "duration": 2287,
    "start_time": "2022-03-15T18:53:14.800Z"
   },
   {
    "duration": 30,
    "start_time": "2022-03-15T18:53:17.090Z"
   },
   {
    "duration": 59,
    "start_time": "2022-03-15T18:53:17.122Z"
   },
   {
    "duration": 44,
    "start_time": "2022-03-15T18:53:17.184Z"
   },
   {
    "duration": 348,
    "start_time": "2022-03-15T18:53:17.230Z"
   },
   {
    "duration": 318,
    "start_time": "2022-03-15T18:58:34.924Z"
   },
   {
    "duration": 247,
    "start_time": "2022-03-15T18:58:56.147Z"
   },
   {
    "duration": 793,
    "start_time": "2022-03-15T18:59:39.094Z"
   },
   {
    "duration": 3,
    "start_time": "2022-03-15T18:59:39.890Z"
   },
   {
    "duration": 122,
    "start_time": "2022-03-15T18:59:39.896Z"
   },
   {
    "duration": 15,
    "start_time": "2022-03-15T18:59:40.021Z"
   },
   {
    "duration": 59,
    "start_time": "2022-03-15T18:59:40.039Z"
   },
   {
    "duration": 29,
    "start_time": "2022-03-15T18:59:40.101Z"
   },
   {
    "duration": 24,
    "start_time": "2022-03-15T18:59:40.132Z"
   },
   {
    "duration": 34,
    "start_time": "2022-03-15T18:59:40.159Z"
   },
   {
    "duration": 15,
    "start_time": "2022-03-15T18:59:40.196Z"
   },
   {
    "duration": 14,
    "start_time": "2022-03-15T18:59:40.214Z"
   },
   {
    "duration": 963,
    "start_time": "2022-03-15T18:59:40.230Z"
   },
   {
    "duration": 7237,
    "start_time": "2022-03-15T18:59:41.195Z"
   },
   {
    "duration": 561,
    "start_time": "2022-03-15T18:59:48.434Z"
   },
   {
    "duration": 91,
    "start_time": "2022-03-15T18:59:48.998Z"
   },
   {
    "duration": 2061,
    "start_time": "2022-03-15T18:59:49.091Z"
   },
   {
    "duration": 1502,
    "start_time": "2022-03-15T18:59:51.155Z"
   },
   {
    "duration": 2171,
    "start_time": "2022-03-15T18:59:52.660Z"
   },
   {
    "duration": 30,
    "start_time": "2022-03-15T18:59:54.834Z"
   },
   {
    "duration": 57,
    "start_time": "2022-03-15T18:59:54.867Z"
   },
   {
    "duration": 72,
    "start_time": "2022-03-15T18:59:54.926Z"
   },
   {
    "duration": 320,
    "start_time": "2022-03-15T18:59:55.001Z"
   },
   {
    "duration": 569,
    "start_time": "2022-03-15T18:59:55.323Z"
   },
   {
    "duration": 58,
    "start_time": "2022-03-15T19:00:15.859Z"
   },
   {
    "duration": 675,
    "start_time": "2022-03-15T19:03:44.811Z"
   },
   {
    "duration": 7939,
    "start_time": "2022-03-15T19:07:10.516Z"
   },
   {
    "duration": 61,
    "start_time": "2022-03-15T19:08:37.930Z"
   },
   {
    "duration": 553,
    "start_time": "2022-03-15T19:08:41.203Z"
   },
   {
    "duration": 1169,
    "start_time": "2022-03-15T19:09:00.843Z"
   },
   {
    "duration": 1296,
    "start_time": "2022-03-15T19:09:24.422Z"
   },
   {
    "duration": 5144,
    "start_time": "2022-03-15T19:10:16.933Z"
   },
   {
    "duration": 2482,
    "start_time": "2022-03-15T19:10:40.610Z"
   },
   {
    "duration": 2101,
    "start_time": "2022-03-15T19:10:47.638Z"
   },
   {
    "duration": 1798,
    "start_time": "2022-03-15T19:10:56.950Z"
   },
   {
    "duration": 2003,
    "start_time": "2022-03-15T19:11:11.957Z"
   },
   {
    "duration": 1601,
    "start_time": "2022-03-15T19:11:38.350Z"
   },
   {
    "duration": 1652,
    "start_time": "2022-03-15T19:11:46.192Z"
   },
   {
    "duration": 1786,
    "start_time": "2022-03-15T19:11:54.742Z"
   },
   {
    "duration": 1603,
    "start_time": "2022-03-15T19:12:05.802Z"
   },
   {
    "duration": 2058,
    "start_time": "2022-03-15T19:12:10.679Z"
   },
   {
    "duration": 1129,
    "start_time": "2022-03-15T19:13:26.129Z"
   },
   {
    "duration": 1637,
    "start_time": "2022-03-15T19:14:48.674Z"
   },
   {
    "duration": 1766,
    "start_time": "2022-03-15T19:14:57.220Z"
   },
   {
    "duration": 2588,
    "start_time": "2022-03-15T19:16:41.244Z"
   },
   {
    "duration": 1795,
    "start_time": "2022-03-15T19:17:19.421Z"
   },
   {
    "duration": 445,
    "start_time": "2022-03-15T19:25:49.728Z"
   },
   {
    "duration": 1440,
    "start_time": "2022-03-15T19:26:17.167Z"
   },
   {
    "duration": 82,
    "start_time": "2022-03-15T19:29:30.610Z"
   },
   {
    "duration": 1306,
    "start_time": "2022-03-15T19:30:09.890Z"
   },
   {
    "duration": 1407,
    "start_time": "2022-03-15T19:36:43.147Z"
   },
   {
    "duration": 863,
    "start_time": "2022-03-15T20:01:21.037Z"
   },
   {
    "duration": 3,
    "start_time": "2022-03-15T20:01:21.903Z"
   },
   {
    "duration": 133,
    "start_time": "2022-03-15T20:01:21.910Z"
   },
   {
    "duration": 19,
    "start_time": "2022-03-15T20:01:22.046Z"
   },
   {
    "duration": 43,
    "start_time": "2022-03-15T20:01:22.084Z"
   },
   {
    "duration": 56,
    "start_time": "2022-03-15T20:01:22.130Z"
   },
   {
    "duration": 27,
    "start_time": "2022-03-15T20:01:22.188Z"
   },
   {
    "duration": 15,
    "start_time": "2022-03-15T20:01:22.219Z"
   },
   {
    "duration": 52,
    "start_time": "2022-03-15T20:01:22.238Z"
   },
   {
    "duration": 17,
    "start_time": "2022-03-15T20:01:22.293Z"
   },
   {
    "duration": 1022,
    "start_time": "2022-03-15T20:01:22.314Z"
   },
   {
    "duration": 1681,
    "start_time": "2022-03-15T20:01:23.339Z"
   },
   {
    "duration": 559,
    "start_time": "2022-03-15T20:01:25.023Z"
   },
   {
    "duration": 73,
    "start_time": "2022-03-15T20:01:25.585Z"
   },
   {
    "duration": 2576,
    "start_time": "2022-03-15T20:01:25.660Z"
   },
   {
    "duration": 1453,
    "start_time": "2022-03-15T20:01:28.239Z"
   },
   {
    "duration": 2087,
    "start_time": "2022-03-15T20:01:29.695Z"
   },
   {
    "duration": 32,
    "start_time": "2022-03-15T20:01:31.786Z"
   },
   {
    "duration": 37,
    "start_time": "2022-03-15T20:01:31.820Z"
   },
   {
    "duration": 67,
    "start_time": "2022-03-15T20:01:31.859Z"
   },
   {
    "duration": 320,
    "start_time": "2022-03-15T20:01:31.929Z"
   },
   {
    "duration": 78,
    "start_time": "2022-03-15T20:01:32.252Z"
   },
   {
    "duration": 1704,
    "start_time": "2022-03-15T20:01:32.334Z"
   },
   {
    "duration": 1387,
    "start_time": "2022-03-15T20:01:34.040Z"
   },
   {
    "duration": 1330,
    "start_time": "2022-03-15T20:01:35.430Z"
   },
   {
    "duration": 1349,
    "start_time": "2022-03-15T20:01:36.763Z"
   },
   {
    "duration": 411,
    "start_time": "2022-03-15T20:02:26.605Z"
   },
   {
    "duration": 313,
    "start_time": "2022-03-15T20:02:42.380Z"
   },
   {
    "duration": 281,
    "start_time": "2022-03-15T20:02:47.812Z"
   },
   {
    "duration": 291,
    "start_time": "2022-03-15T20:03:29.476Z"
   },
   {
    "duration": 440,
    "start_time": "2022-03-15T20:03:35.092Z"
   },
   {
    "duration": 438,
    "start_time": "2022-03-15T20:03:40.556Z"
   },
   {
    "duration": 225,
    "start_time": "2022-03-15T20:03:45.260Z"
   },
   {
    "duration": 515,
    "start_time": "2022-03-15T20:03:51.820Z"
   },
   {
    "duration": 296,
    "start_time": "2022-03-15T20:04:08.045Z"
   },
   {
    "duration": 806,
    "start_time": "2022-03-15T20:04:25.706Z"
   },
   {
    "duration": 4,
    "start_time": "2022-03-15T20:04:26.515Z"
   },
   {
    "duration": 126,
    "start_time": "2022-03-15T20:04:26.522Z"
   },
   {
    "duration": 14,
    "start_time": "2022-03-15T20:04:26.651Z"
   },
   {
    "duration": 53,
    "start_time": "2022-03-15T20:04:26.668Z"
   },
   {
    "duration": 28,
    "start_time": "2022-03-15T20:04:26.723Z"
   },
   {
    "duration": 47,
    "start_time": "2022-03-15T20:04:26.755Z"
   },
   {
    "duration": 15,
    "start_time": "2022-03-15T20:04:26.807Z"
   },
   {
    "duration": 18,
    "start_time": "2022-03-15T20:04:26.826Z"
   },
   {
    "duration": 59,
    "start_time": "2022-03-15T20:04:26.848Z"
   },
   {
    "duration": 955,
    "start_time": "2022-03-15T20:04:26.909Z"
   },
   {
    "duration": 1697,
    "start_time": "2022-03-15T20:04:27.867Z"
   },
   {
    "duration": 571,
    "start_time": "2022-03-15T20:04:29.567Z"
   },
   {
    "duration": 86,
    "start_time": "2022-03-15T20:04:30.140Z"
   },
   {
    "duration": 2123,
    "start_time": "2022-03-15T20:04:30.228Z"
   },
   {
    "duration": 1463,
    "start_time": "2022-03-15T20:04:32.354Z"
   },
   {
    "duration": 2010,
    "start_time": "2022-03-15T20:04:33.820Z"
   },
   {
    "duration": 31,
    "start_time": "2022-03-15T20:04:35.832Z"
   },
   {
    "duration": 48,
    "start_time": "2022-03-15T20:04:35.866Z"
   },
   {
    "duration": 69,
    "start_time": "2022-03-15T20:04:35.917Z"
   },
   {
    "duration": 330,
    "start_time": "2022-03-15T20:04:35.989Z"
   },
   {
    "duration": 68,
    "start_time": "2022-03-15T20:04:36.321Z"
   },
   {
    "duration": 1632,
    "start_time": "2022-03-15T20:04:36.393Z"
   },
   {
    "duration": 1511,
    "start_time": "2022-03-15T20:04:38.028Z"
   },
   {
    "duration": 1339,
    "start_time": "2022-03-15T20:04:39.541Z"
   },
   {
    "duration": 1409,
    "start_time": "2022-03-15T20:04:40.883Z"
   },
   {
    "duration": 820,
    "start_time": "2022-03-15T21:42:33.071Z"
   },
   {
    "duration": 4,
    "start_time": "2022-03-15T21:42:33.894Z"
   },
   {
    "duration": 124,
    "start_time": "2022-03-15T21:42:33.901Z"
   },
   {
    "duration": 14,
    "start_time": "2022-03-15T21:42:34.028Z"
   },
   {
    "duration": 62,
    "start_time": "2022-03-15T21:42:34.045Z"
   },
   {
    "duration": 36,
    "start_time": "2022-03-15T21:42:34.112Z"
   },
   {
    "duration": 46,
    "start_time": "2022-03-15T21:42:34.151Z"
   },
   {
    "duration": 14,
    "start_time": "2022-03-15T21:42:34.199Z"
   },
   {
    "duration": 16,
    "start_time": "2022-03-15T21:42:34.215Z"
   },
   {
    "duration": 50,
    "start_time": "2022-03-15T21:42:34.233Z"
   },
   {
    "duration": 982,
    "start_time": "2022-03-15T21:42:34.286Z"
   },
   {
    "duration": 1746,
    "start_time": "2022-03-15T21:42:35.271Z"
   },
   {
    "duration": 802,
    "start_time": "2022-03-15T21:42:37.020Z"
   },
   {
    "duration": 86,
    "start_time": "2022-03-15T21:42:37.825Z"
   },
   {
    "duration": 2132,
    "start_time": "2022-03-15T21:42:37.913Z"
   },
   {
    "duration": 1588,
    "start_time": "2022-03-15T21:42:40.047Z"
   },
   {
    "duration": 2131,
    "start_time": "2022-03-15T21:42:41.638Z"
   },
   {
    "duration": 30,
    "start_time": "2022-03-15T21:42:43.781Z"
   },
   {
    "duration": 35,
    "start_time": "2022-03-15T21:42:43.814Z"
   },
   {
    "duration": 68,
    "start_time": "2022-03-15T21:42:43.852Z"
   },
   {
    "duration": 333,
    "start_time": "2022-03-15T21:42:43.923Z"
   },
   {
    "duration": 69,
    "start_time": "2022-03-15T21:42:44.258Z"
   },
   {
    "duration": 1626,
    "start_time": "2022-03-15T21:42:44.329Z"
   },
   {
    "duration": 1837,
    "start_time": "2022-03-15T21:42:45.957Z"
   },
   {
    "duration": 1710,
    "start_time": "2022-03-15T21:42:47.797Z"
   },
   {
    "duration": 2302,
    "start_time": "2022-03-15T21:42:49.510Z"
   },
   {
    "duration": 4,
    "start_time": "2022-03-15T21:45:13.214Z"
   },
   {
    "duration": 26,
    "start_time": "2022-03-15T21:46:21.859Z"
   },
   {
    "duration": 2484,
    "start_time": "2022-03-15T21:49:13.631Z"
   },
   {
    "duration": 1744,
    "start_time": "2022-03-15T21:49:24.071Z"
   },
   {
    "duration": 1066,
    "start_time": "2022-03-15T21:49:32.611Z"
   },
   {
    "duration": 5,
    "start_time": "2022-03-15T21:49:33.683Z"
   },
   {
    "duration": 124,
    "start_time": "2022-03-15T21:49:33.691Z"
   },
   {
    "duration": 17,
    "start_time": "2022-03-15T21:49:33.818Z"
   },
   {
    "duration": 61,
    "start_time": "2022-03-15T21:49:33.838Z"
   },
   {
    "duration": 28,
    "start_time": "2022-03-15T21:49:33.902Z"
   },
   {
    "duration": 25,
    "start_time": "2022-03-15T21:49:33.933Z"
   },
   {
    "duration": 15,
    "start_time": "2022-03-15T21:49:33.982Z"
   },
   {
    "duration": 16,
    "start_time": "2022-03-15T21:49:34.000Z"
   },
   {
    "duration": 15,
    "start_time": "2022-03-15T21:49:34.018Z"
   },
   {
    "duration": 995,
    "start_time": "2022-03-15T21:49:34.036Z"
   },
   {
    "duration": 1992,
    "start_time": "2022-03-15T21:49:35.083Z"
   },
   {
    "duration": 568,
    "start_time": "2022-03-15T21:49:37.078Z"
   },
   {
    "duration": 80,
    "start_time": "2022-03-15T21:49:37.649Z"
   },
   {
    "duration": 2150,
    "start_time": "2022-03-15T21:49:37.732Z"
   },
   {
    "duration": 1479,
    "start_time": "2022-03-15T21:49:39.884Z"
   },
   {
    "duration": 2166,
    "start_time": "2022-03-15T21:49:41.366Z"
   },
   {
    "duration": 48,
    "start_time": "2022-03-15T21:49:43.534Z"
   },
   {
    "duration": 40,
    "start_time": "2022-03-15T21:49:43.585Z"
   },
   {
    "duration": 76,
    "start_time": "2022-03-15T21:49:43.628Z"
   },
   {
    "duration": 465,
    "start_time": "2022-03-15T21:49:43.707Z"
   },
   {
    "duration": 91,
    "start_time": "2022-03-15T21:49:44.175Z"
   },
   {
    "duration": 2428,
    "start_time": "2022-03-15T21:49:44.286Z"
   },
   {
    "duration": 1865,
    "start_time": "2022-03-15T21:49:46.717Z"
   },
   {
    "duration": 1775,
    "start_time": "2022-03-15T21:49:48.585Z"
   },
   {
    "duration": 1758,
    "start_time": "2022-03-15T21:49:50.363Z"
   },
   {
    "duration": 1791,
    "start_time": "2022-03-15T21:49:52.125Z"
   },
   {
    "duration": 1682,
    "start_time": "2022-03-15T21:49:59.803Z"
   },
   {
    "duration": 1736,
    "start_time": "2022-03-15T21:50:13.555Z"
   },
   {
    "duration": 776,
    "start_time": "2022-03-15T21:50:54.513Z"
   },
   {
    "duration": 4,
    "start_time": "2022-03-15T21:50:55.292Z"
   },
   {
    "duration": 170,
    "start_time": "2022-03-15T21:50:55.300Z"
   },
   {
    "duration": 19,
    "start_time": "2022-03-15T21:50:55.473Z"
   },
   {
    "duration": 40,
    "start_time": "2022-03-15T21:50:55.495Z"
   },
   {
    "duration": 61,
    "start_time": "2022-03-15T21:50:55.537Z"
   },
   {
    "duration": 25,
    "start_time": "2022-03-15T21:50:55.600Z"
   },
   {
    "duration": 13,
    "start_time": "2022-03-15T21:50:55.629Z"
   },
   {
    "duration": 40,
    "start_time": "2022-03-15T21:50:55.645Z"
   },
   {
    "duration": 17,
    "start_time": "2022-03-15T21:50:55.688Z"
   },
   {
    "duration": 974,
    "start_time": "2022-03-15T21:50:55.707Z"
   },
   {
    "duration": 2144,
    "start_time": "2022-03-15T21:50:56.684Z"
   },
   {
    "duration": 655,
    "start_time": "2022-03-15T21:50:58.883Z"
   },
   {
    "duration": 89,
    "start_time": "2022-03-15T21:50:59.541Z"
   },
   {
    "duration": 2204,
    "start_time": "2022-03-15T21:50:59.633Z"
   },
   {
    "duration": 1450,
    "start_time": "2022-03-15T21:51:01.839Z"
   },
   {
    "duration": 2157,
    "start_time": "2022-03-15T21:51:03.292Z"
   },
   {
    "duration": 41,
    "start_time": "2022-03-15T21:51:05.451Z"
   },
   {
    "duration": 50,
    "start_time": "2022-03-15T21:51:05.495Z"
   },
   {
    "duration": 50,
    "start_time": "2022-03-15T21:51:05.547Z"
   },
   {
    "duration": 311,
    "start_time": "2022-03-15T21:51:05.600Z"
   },
   {
    "duration": 70,
    "start_time": "2022-03-15T21:51:05.914Z"
   },
   {
    "duration": 1590,
    "start_time": "2022-03-15T21:51:05.988Z"
   },
   {
    "duration": 1747,
    "start_time": "2022-03-15T21:51:07.583Z"
   },
   {
    "duration": 1762,
    "start_time": "2022-03-15T21:51:09.333Z"
   },
   {
    "duration": 1843,
    "start_time": "2022-03-15T21:51:11.098Z"
   },
   {
    "duration": 2612,
    "start_time": "2022-03-15T21:51:25.436Z"
   },
   {
    "duration": 2301,
    "start_time": "2022-03-15T21:51:34.084Z"
   },
   {
    "duration": 833,
    "start_time": "2022-03-15T22:01:21.877Z"
   },
   {
    "duration": 4,
    "start_time": "2022-03-15T22:01:22.714Z"
   },
   {
    "duration": 127,
    "start_time": "2022-03-15T22:01:22.723Z"
   },
   {
    "duration": 16,
    "start_time": "2022-03-15T22:01:22.853Z"
   },
   {
    "duration": 36,
    "start_time": "2022-03-15T22:01:22.884Z"
   },
   {
    "duration": 30,
    "start_time": "2022-03-15T22:01:22.923Z"
   },
   {
    "duration": 25,
    "start_time": "2022-03-15T22:01:22.983Z"
   },
   {
    "duration": 14,
    "start_time": "2022-03-15T22:01:23.011Z"
   },
   {
    "duration": 16,
    "start_time": "2022-03-15T22:01:23.028Z"
   },
   {
    "duration": 45,
    "start_time": "2022-03-15T22:01:23.046Z"
   },
   {
    "duration": 963,
    "start_time": "2022-03-15T22:01:23.093Z"
   },
   {
    "duration": 2148,
    "start_time": "2022-03-15T22:01:24.059Z"
   },
   {
    "duration": 789,
    "start_time": "2022-03-15T22:01:26.210Z"
   },
   {
    "duration": 107,
    "start_time": "2022-03-15T22:01:27.002Z"
   },
   {
    "duration": 3063,
    "start_time": "2022-03-15T22:01:27.111Z"
   },
   {
    "duration": 2061,
    "start_time": "2022-03-15T22:01:30.182Z"
   },
   {
    "duration": 3006,
    "start_time": "2022-03-15T22:01:32.246Z"
   },
   {
    "duration": 51,
    "start_time": "2022-03-15T22:01:35.255Z"
   },
   {
    "duration": 47,
    "start_time": "2022-03-15T22:01:35.309Z"
   },
   {
    "duration": 58,
    "start_time": "2022-03-15T22:01:35.384Z"
   },
   {
    "duration": 328,
    "start_time": "2022-03-15T22:01:35.444Z"
   },
   {
    "duration": 66,
    "start_time": "2022-03-15T22:01:35.774Z"
   },
   {
    "duration": 1618,
    "start_time": "2022-03-15T22:01:35.845Z"
   },
   {
    "duration": 1478,
    "start_time": "2022-03-15T22:01:37.466Z"
   },
   {
    "duration": 1448,
    "start_time": "2022-03-15T22:01:38.946Z"
   },
   {
    "duration": 1335,
    "start_time": "2022-03-15T22:01:40.397Z"
   },
   {
    "duration": 4234,
    "start_time": "2022-03-15T22:02:22.057Z"
   },
   {
    "duration": 2956,
    "start_time": "2022-03-15T22:02:36.531Z"
   },
   {
    "duration": 1788,
    "start_time": "2022-03-15T22:02:51.002Z"
   },
   {
    "duration": 927,
    "start_time": "2022-03-15T22:03:05.519Z"
   },
   {
    "duration": 4,
    "start_time": "2022-03-15T22:03:06.448Z"
   },
   {
    "duration": 145,
    "start_time": "2022-03-15T22:03:06.455Z"
   },
   {
    "duration": 17,
    "start_time": "2022-03-15T22:03:06.603Z"
   },
   {
    "duration": 67,
    "start_time": "2022-03-15T22:03:06.623Z"
   },
   {
    "duration": 30,
    "start_time": "2022-03-15T22:03:06.693Z"
   },
   {
    "duration": 26,
    "start_time": "2022-03-15T22:03:06.726Z"
   },
   {
    "duration": 46,
    "start_time": "2022-03-15T22:03:06.755Z"
   },
   {
    "duration": 41,
    "start_time": "2022-03-15T22:03:06.804Z"
   },
   {
    "duration": 98,
    "start_time": "2022-03-15T22:03:06.847Z"
   },
   {
    "duration": 1097,
    "start_time": "2022-03-15T22:03:06.947Z"
   },
   {
    "duration": 2744,
    "start_time": "2022-03-15T22:03:08.047Z"
   },
   {
    "duration": 678,
    "start_time": "2022-03-15T22:03:10.794Z"
   },
   {
    "duration": 76,
    "start_time": "2022-03-15T22:03:11.474Z"
   },
   {
    "duration": 2117,
    "start_time": "2022-03-15T22:03:11.552Z"
   },
   {
    "duration": 1567,
    "start_time": "2022-03-15T22:03:13.671Z"
   },
   {
    "duration": 2233,
    "start_time": "2022-03-15T22:03:15.240Z"
   },
   {
    "duration": 33,
    "start_time": "2022-03-15T22:03:17.483Z"
   },
   {
    "duration": 40,
    "start_time": "2022-03-15T22:03:17.519Z"
   },
   {
    "duration": 61,
    "start_time": "2022-03-15T22:03:17.562Z"
   },
   {
    "duration": 337,
    "start_time": "2022-03-15T22:03:17.626Z"
   },
   {
    "duration": 65,
    "start_time": "2022-03-15T22:03:17.965Z"
   },
   {
    "duration": 1635,
    "start_time": "2022-03-15T22:03:18.034Z"
   },
   {
    "duration": 1520,
    "start_time": "2022-03-15T22:03:19.672Z"
   },
   {
    "duration": 1394,
    "start_time": "2022-03-15T22:03:21.195Z"
   },
   {
    "duration": 1372,
    "start_time": "2022-03-15T22:03:22.591Z"
   },
   {
    "duration": 1815,
    "start_time": "2022-03-15T22:03:38.246Z"
   },
   {
    "duration": 1876,
    "start_time": "2022-03-15T22:03:44.406Z"
   },
   {
    "duration": 1748,
    "start_time": "2022-03-15T22:03:49.974Z"
   },
   {
    "duration": 1636,
    "start_time": "2022-03-15T22:04:09.895Z"
   },
   {
    "duration": 1806,
    "start_time": "2022-03-15T22:04:21.448Z"
   },
   {
    "duration": 846,
    "start_time": "2022-03-15T22:04:37.140Z"
   },
   {
    "duration": 5,
    "start_time": "2022-03-15T22:04:37.988Z"
   },
   {
    "duration": 132,
    "start_time": "2022-03-15T22:04:37.998Z"
   },
   {
    "duration": 17,
    "start_time": "2022-03-15T22:04:38.134Z"
   },
   {
    "duration": 64,
    "start_time": "2022-03-15T22:04:38.154Z"
   },
   {
    "duration": 31,
    "start_time": "2022-03-15T22:04:38.221Z"
   },
   {
    "duration": 51,
    "start_time": "2022-03-15T22:04:38.255Z"
   },
   {
    "duration": 14,
    "start_time": "2022-03-15T22:04:38.311Z"
   },
   {
    "duration": 14,
    "start_time": "2022-03-15T22:04:38.328Z"
   },
   {
    "duration": 49,
    "start_time": "2022-03-15T22:04:38.344Z"
   },
   {
    "duration": 1042,
    "start_time": "2022-03-15T22:04:38.396Z"
   },
   {
    "duration": 1660,
    "start_time": "2022-03-15T22:04:39.441Z"
   },
   {
    "duration": 660,
    "start_time": "2022-03-15T22:04:41.104Z"
   },
   {
    "duration": 80,
    "start_time": "2022-03-15T22:04:41.766Z"
   },
   {
    "duration": 2122,
    "start_time": "2022-03-15T22:04:41.849Z"
   },
   {
    "duration": 1437,
    "start_time": "2022-03-15T22:04:43.974Z"
   },
   {
    "duration": 2146,
    "start_time": "2022-03-15T22:04:45.414Z"
   },
   {
    "duration": 38,
    "start_time": "2022-03-15T22:04:47.563Z"
   },
   {
    "duration": 35,
    "start_time": "2022-03-15T22:04:47.603Z"
   },
   {
    "duration": 69,
    "start_time": "2022-03-15T22:04:47.640Z"
   },
   {
    "duration": 392,
    "start_time": "2022-03-15T22:04:47.712Z"
   },
   {
    "duration": 109,
    "start_time": "2022-03-15T22:04:48.106Z"
   },
   {
    "duration": 1830,
    "start_time": "2022-03-15T22:04:48.219Z"
   },
   {
    "duration": 1417,
    "start_time": "2022-03-15T22:04:50.051Z"
   },
   {
    "duration": 1313,
    "start_time": "2022-03-15T22:04:51.470Z"
   },
   {
    "duration": 1302,
    "start_time": "2022-03-15T22:04:52.785Z"
   },
   {
    "duration": 4,
    "start_time": "2022-03-15T22:05:11.183Z"
   },
   {
    "duration": 4,
    "start_time": "2022-03-15T22:05:11.687Z"
   },
   {
    "duration": 111,
    "start_time": "2022-03-15T22:05:13.000Z"
   },
   {
    "duration": 108,
    "start_time": "2022-03-15T22:05:15.258Z"
   },
   {
    "duration": 107,
    "start_time": "2022-03-15T22:05:16.143Z"
   },
   {
    "duration": 16,
    "start_time": "2022-03-15T22:05:16.494Z"
   },
   {
    "duration": 38,
    "start_time": "2022-03-15T22:05:17.223Z"
   },
   {
    "duration": 25,
    "start_time": "2022-03-15T22:05:19.230Z"
   },
   {
    "duration": 25,
    "start_time": "2022-03-15T22:05:20.199Z"
   },
   {
    "duration": 15,
    "start_time": "2022-03-15T22:05:20.815Z"
   },
   {
    "duration": 15,
    "start_time": "2022-03-15T22:05:21.839Z"
   },
   {
    "duration": 17,
    "start_time": "2022-03-15T22:05:22.639Z"
   },
   {
    "duration": 906,
    "start_time": "2022-03-15T22:05:24.495Z"
   },
   {
    "duration": 1632,
    "start_time": "2022-03-15T22:05:26.799Z"
   },
   {
    "duration": 3830,
    "start_time": "2022-03-15T22:05:35.704Z"
   },
   {
    "duration": 4297,
    "start_time": "2022-03-15T22:05:45.839Z"
   },
   {
    "duration": 4648,
    "start_time": "2022-03-15T22:06:01.000Z"
   },
   {
    "duration": 6838,
    "start_time": "2022-03-15T22:06:11.991Z"
   },
   {
    "duration": 6746,
    "start_time": "2022-03-15T22:06:34.216Z"
   },
   {
    "duration": 7675,
    "start_time": "2022-03-15T22:07:08.683Z"
   },
   {
    "duration": 751,
    "start_time": "2022-03-15T22:07:18.537Z"
   },
   {
    "duration": 67,
    "start_time": "2022-03-15T22:07:23.683Z"
   },
   {
    "duration": 2350,
    "start_time": "2022-03-15T22:07:25.969Z"
   },
   {
    "duration": 1319,
    "start_time": "2022-03-15T22:07:38.386Z"
   },
   {
    "duration": 2152,
    "start_time": "2022-03-15T22:07:45.675Z"
   },
   {
    "duration": 2054,
    "start_time": "2022-03-15T22:07:55.067Z"
   },
   {
    "duration": 29,
    "start_time": "2022-03-15T22:07:59.372Z"
   },
   {
    "duration": 35,
    "start_time": "2022-03-15T22:08:00.107Z"
   },
   {
    "duration": 41,
    "start_time": "2022-03-15T22:08:39.172Z"
   },
   {
    "duration": 301,
    "start_time": "2022-03-15T22:08:44.972Z"
   },
   {
    "duration": 57,
    "start_time": "2022-03-15T22:08:53.013Z"
   },
   {
    "duration": 1724,
    "start_time": "2022-03-15T22:08:53.867Z"
   },
   {
    "duration": 1328,
    "start_time": "2022-03-15T22:09:10.252Z"
   },
   {
    "duration": 1304,
    "start_time": "2022-03-15T22:09:17.348Z"
   },
   {
    "duration": 1309,
    "start_time": "2022-03-15T22:09:24.523Z"
   },
   {
    "duration": 754,
    "start_time": "2022-03-15T22:09:47.324Z"
   },
   {
    "duration": 4,
    "start_time": "2022-03-15T22:09:48.082Z"
   },
   {
    "duration": 139,
    "start_time": "2022-03-15T22:09:48.088Z"
   },
   {
    "duration": 15,
    "start_time": "2022-03-15T22:09:48.230Z"
   },
   {
    "duration": 53,
    "start_time": "2022-03-15T22:09:48.247Z"
   },
   {
    "duration": 26,
    "start_time": "2022-03-15T22:09:48.303Z"
   },
   {
    "duration": 23,
    "start_time": "2022-03-15T22:09:48.332Z"
   },
   {
    "duration": 39,
    "start_time": "2022-03-15T22:09:48.359Z"
   },
   {
    "duration": 39,
    "start_time": "2022-03-15T22:09:48.401Z"
   },
   {
    "duration": 21,
    "start_time": "2022-03-15T22:09:48.443Z"
   },
   {
    "duration": 966,
    "start_time": "2022-03-15T22:09:48.466Z"
   },
   {
    "duration": 7243,
    "start_time": "2022-03-15T22:09:49.434Z"
   },
   {
    "duration": 529,
    "start_time": "2022-03-15T22:09:56.683Z"
   },
   {
    "duration": 79,
    "start_time": "2022-03-15T22:09:57.215Z"
   },
   {
    "duration": 2048,
    "start_time": "2022-03-15T22:09:57.297Z"
   },
   {
    "duration": 1373,
    "start_time": "2022-03-15T22:09:59.349Z"
   },
   {
    "duration": 2045,
    "start_time": "2022-03-15T22:10:00.725Z"
   },
   {
    "duration": 36,
    "start_time": "2022-03-15T22:10:02.773Z"
   },
   {
    "duration": 39,
    "start_time": "2022-03-15T22:10:02.811Z"
   },
   {
    "duration": 63,
    "start_time": "2022-03-15T22:10:02.853Z"
   },
   {
    "duration": 323,
    "start_time": "2022-03-15T22:10:02.919Z"
   },
   {
    "duration": 174,
    "start_time": "2022-03-15T22:10:03.244Z"
   },
   {
    "duration": 1549,
    "start_time": "2022-03-15T22:10:03.423Z"
   },
   {
    "duration": 1346,
    "start_time": "2022-03-15T22:10:04.983Z"
   },
   {
    "duration": 1442,
    "start_time": "2022-03-15T22:10:06.331Z"
   },
   {
    "duration": 1396,
    "start_time": "2022-03-15T22:10:07.776Z"
   },
   {
    "duration": 673,
    "start_time": "2022-03-26T14:07:23.008Z"
   },
   {
    "duration": 2,
    "start_time": "2022-03-26T14:07:23.683Z"
   },
   {
    "duration": 108,
    "start_time": "2022-03-26T14:07:23.687Z"
   },
   {
    "duration": 14,
    "start_time": "2022-03-26T14:07:23.797Z"
   },
   {
    "duration": 36,
    "start_time": "2022-03-26T14:07:23.812Z"
   },
   {
    "duration": 20,
    "start_time": "2022-03-26T14:07:23.850Z"
   },
   {
    "duration": 16,
    "start_time": "2022-03-26T14:07:23.871Z"
   },
   {
    "duration": 12,
    "start_time": "2022-03-26T14:07:23.889Z"
   },
   {
    "duration": 40,
    "start_time": "2022-03-26T14:07:23.903Z"
   },
   {
    "duration": 14,
    "start_time": "2022-03-26T14:07:23.946Z"
   },
   {
    "duration": 337,
    "start_time": "2022-03-26T14:07:23.963Z"
   },
   {
    "duration": 2798,
    "start_time": "2022-03-26T14:07:24.302Z"
   },
   {
    "duration": 217,
    "start_time": "2022-03-26T14:07:27.102Z"
   },
   {
    "duration": 48,
    "start_time": "2022-03-26T14:07:27.321Z"
   },
   {
    "duration": 536,
    "start_time": "2022-03-26T14:07:27.371Z"
   },
   {
    "duration": 574,
    "start_time": "2022-03-26T14:07:27.909Z"
   },
   {
    "duration": 590,
    "start_time": "2022-03-26T14:07:28.485Z"
   },
   {
    "duration": 19,
    "start_time": "2022-03-26T14:07:29.077Z"
   },
   {
    "duration": 35,
    "start_time": "2022-03-26T14:07:29.098Z"
   },
   {
    "duration": 26,
    "start_time": "2022-03-26T14:07:29.135Z"
   },
   {
    "duration": 163,
    "start_time": "2022-03-26T14:07:29.163Z"
   },
   {
    "duration": 36,
    "start_time": "2022-03-26T14:07:29.328Z"
   },
   {
    "duration": 634,
    "start_time": "2022-03-26T14:07:29.366Z"
   },
   {
    "duration": 398,
    "start_time": "2022-03-26T14:07:30.002Z"
   },
   {
    "duration": 535,
    "start_time": "2022-03-26T14:07:30.402Z"
   },
   {
    "duration": 878,
    "start_time": "2022-03-26T14:07:30.940Z"
   },
   {
    "duration": 913,
    "start_time": "2022-03-26T14:33:24.311Z"
   },
   {
    "duration": 5,
    "start_time": "2022-03-26T14:33:25.227Z"
   },
   {
    "duration": 156,
    "start_time": "2022-03-26T14:33:25.235Z"
   },
   {
    "duration": 22,
    "start_time": "2022-03-26T14:33:25.394Z"
   },
   {
    "duration": 44,
    "start_time": "2022-03-26T14:33:25.418Z"
   },
   {
    "duration": 20,
    "start_time": "2022-03-26T14:33:25.465Z"
   },
   {
    "duration": 16,
    "start_time": "2022-03-26T14:33:25.486Z"
   },
   {
    "duration": 33,
    "start_time": "2022-03-26T14:33:25.504Z"
   },
   {
    "duration": 12,
    "start_time": "2022-03-26T14:33:25.539Z"
   },
   {
    "duration": 14,
    "start_time": "2022-03-26T14:33:25.554Z"
   },
   {
    "duration": 546,
    "start_time": "2022-03-26T14:33:25.570Z"
   },
   {
    "duration": 4315,
    "start_time": "2022-03-26T14:33:26.118Z"
   },
   {
    "duration": 226,
    "start_time": "2022-03-26T14:33:30.435Z"
   },
   {
    "duration": 40,
    "start_time": "2022-03-26T14:33:30.663Z"
   },
   {
    "duration": 535,
    "start_time": "2022-03-26T14:33:30.705Z"
   },
   {
    "duration": 586,
    "start_time": "2022-03-26T14:33:31.242Z"
   },
   {
    "duration": 596,
    "start_time": "2022-03-26T14:33:31.832Z"
   },
   {
    "duration": 18,
    "start_time": "2022-03-26T14:33:32.432Z"
   },
   {
    "duration": 23,
    "start_time": "2022-03-26T14:33:32.452Z"
   },
   {
    "duration": 26,
    "start_time": "2022-03-26T14:33:32.477Z"
   },
   {
    "duration": 31,
    "start_time": "2022-03-26T14:33:32.505Z"
   },
   {
    "duration": 154,
    "start_time": "2022-03-26T14:33:32.537Z"
   },
   {
    "duration": 48,
    "start_time": "2022-03-26T14:33:32.692Z"
   },
   {
    "duration": 646,
    "start_time": "2022-03-26T14:33:32.742Z"
   },
   {
    "duration": 396,
    "start_time": "2022-03-26T14:33:33.390Z"
   },
   {
    "duration": 524,
    "start_time": "2022-03-26T14:33:33.788Z"
   },
   {
    "duration": 567,
    "start_time": "2022-03-26T14:33:34.313Z"
   },
   {
    "duration": 46,
    "start_time": "2022-03-26T19:35:47.718Z"
   },
   {
    "duration": 6,
    "start_time": "2022-03-26T19:35:58.798Z"
   },
   {
    "duration": 962,
    "start_time": "2022-03-28T09:40:15.867Z"
   },
   {
    "duration": 4,
    "start_time": "2022-03-28T09:40:16.832Z"
   },
   {
    "duration": 128,
    "start_time": "2022-03-28T09:40:16.838Z"
   },
   {
    "duration": 16,
    "start_time": "2022-03-28T09:40:16.969Z"
   },
   {
    "duration": 37,
    "start_time": "2022-03-28T09:40:16.987Z"
   },
   {
    "duration": 22,
    "start_time": "2022-03-28T09:40:17.026Z"
   },
   {
    "duration": 18,
    "start_time": "2022-03-28T09:40:17.050Z"
   },
   {
    "duration": 41,
    "start_time": "2022-03-28T09:40:17.070Z"
   },
   {
    "duration": 106,
    "start_time": "2022-03-28T09:40:17.114Z"
   },
   {
    "duration": 0,
    "start_time": "2022-03-28T09:40:17.222Z"
   },
   {
    "duration": 0,
    "start_time": "2022-03-28T09:40:17.223Z"
   },
   {
    "duration": 0,
    "start_time": "2022-03-28T09:40:17.224Z"
   },
   {
    "duration": 0,
    "start_time": "2022-03-28T09:40:17.225Z"
   },
   {
    "duration": 0,
    "start_time": "2022-03-28T09:40:17.226Z"
   },
   {
    "duration": 0,
    "start_time": "2022-03-28T09:40:17.228Z"
   },
   {
    "duration": 0,
    "start_time": "2022-03-28T09:40:17.229Z"
   },
   {
    "duration": 0,
    "start_time": "2022-03-28T09:40:17.230Z"
   },
   {
    "duration": 0,
    "start_time": "2022-03-28T09:40:17.231Z"
   },
   {
    "duration": 0,
    "start_time": "2022-03-28T09:40:17.232Z"
   },
   {
    "duration": 0,
    "start_time": "2022-03-28T09:40:17.233Z"
   },
   {
    "duration": 0,
    "start_time": "2022-03-28T09:40:17.234Z"
   },
   {
    "duration": 0,
    "start_time": "2022-03-28T09:40:17.235Z"
   },
   {
    "duration": 0,
    "start_time": "2022-03-28T09:40:17.237Z"
   },
   {
    "duration": 0,
    "start_time": "2022-03-28T09:40:17.238Z"
   },
   {
    "duration": 0,
    "start_time": "2022-03-28T09:40:17.240Z"
   },
   {
    "duration": 0,
    "start_time": "2022-03-28T09:40:17.241Z"
   },
   {
    "duration": 0,
    "start_time": "2022-03-28T09:40:17.242Z"
   },
   {
    "duration": 6,
    "start_time": "2022-03-28T09:43:53.102Z"
   },
   {
    "duration": 18,
    "start_time": "2022-03-28T09:44:13.093Z"
   },
   {
    "duration": 272,
    "start_time": "2022-03-28T09:44:30.157Z"
   },
   {
    "duration": 8,
    "start_time": "2022-03-28T09:44:37.283Z"
   },
   {
    "duration": 11,
    "start_time": "2022-03-28T09:44:42.579Z"
   },
   {
    "duration": 11640,
    "start_time": "2022-03-28T09:44:55.675Z"
   },
   {
    "duration": 129,
    "start_time": "2022-03-28T09:46:11.138Z"
   },
   {
    "duration": 328,
    "start_time": "2022-03-28T09:46:53.392Z"
   },
   {
    "duration": 11,
    "start_time": "2022-03-28T09:47:01.119Z"
   },
   {
    "duration": 5,
    "start_time": "2022-03-28T09:47:15.087Z"
   },
   {
    "duration": 11,
    "start_time": "2022-03-28T09:47:23.966Z"
   },
   {
    "duration": 11,
    "start_time": "2022-03-28T09:47:57.359Z"
   },
   {
    "duration": 77,
    "start_time": "2022-03-28T09:48:11.326Z"
   },
   {
    "duration": 10,
    "start_time": "2022-03-28T09:48:17.106Z"
   },
   {
    "duration": 6,
    "start_time": "2022-03-28T09:48:41.911Z"
   },
   {
    "duration": 6,
    "start_time": "2022-03-28T09:48:48.724Z"
   },
   {
    "duration": 10,
    "start_time": "2022-03-28T09:48:54.653Z"
   },
   {
    "duration": 7,
    "start_time": "2022-03-28T09:49:00.014Z"
   },
   {
    "duration": 11,
    "start_time": "2022-03-28T10:00:26.667Z"
   },
   {
    "duration": 37,
    "start_time": "2022-03-28T10:00:31.324Z"
   },
   {
    "duration": 44,
    "start_time": "2022-03-28T10:01:56.000Z"
   },
   {
    "duration": 71,
    "start_time": "2022-03-28T10:02:11.472Z"
   },
   {
    "duration": 7,
    "start_time": "2022-03-28T11:35:18.625Z"
   },
   {
    "duration": 6,
    "start_time": "2022-03-28T11:48:00.612Z"
   },
   {
    "duration": 5,
    "start_time": "2022-03-28T11:48:10.692Z"
   },
   {
    "duration": 1796,
    "start_time": "2022-03-28T11:58:01.964Z"
   },
   {
    "duration": 140,
    "start_time": "2022-03-28T11:58:17.751Z"
   },
   {
    "duration": 2036,
    "start_time": "2022-03-28T11:58:42.410Z"
   },
   {
    "duration": 144,
    "start_time": "2022-03-28T11:58:59.649Z"
   },
   {
    "duration": 24,
    "start_time": "2022-03-28T11:59:04.834Z"
   },
   {
    "duration": 22,
    "start_time": "2022-03-28T11:59:11.442Z"
   },
   {
    "duration": 66,
    "start_time": "2022-03-28T12:02:56.897Z"
   },
   {
    "duration": 36,
    "start_time": "2022-03-28T12:03:10.668Z"
   },
   {
    "duration": 106,
    "start_time": "2022-03-28T12:03:35.696Z"
   },
   {
    "duration": 70,
    "start_time": "2022-03-28T12:03:37.686Z"
   },
   {
    "duration": 1026,
    "start_time": "2022-03-28T12:13:03.701Z"
   },
   {
    "duration": 4,
    "start_time": "2022-03-28T12:13:04.730Z"
   },
   {
    "duration": 190,
    "start_time": "2022-03-28T12:13:04.736Z"
   },
   {
    "duration": 22,
    "start_time": "2022-03-28T12:13:04.929Z"
   },
   {
    "duration": 34,
    "start_time": "2022-03-28T12:13:04.968Z"
   },
   {
    "duration": 28,
    "start_time": "2022-03-28T12:13:05.005Z"
   },
   {
    "duration": 49,
    "start_time": "2022-03-28T12:13:05.036Z"
   },
   {
    "duration": 25,
    "start_time": "2022-03-28T12:13:05.088Z"
   },
   {
    "duration": 52,
    "start_time": "2022-03-28T12:13:05.115Z"
   },
   {
    "duration": 124,
    "start_time": "2022-03-28T12:13:05.172Z"
   },
   {
    "duration": 0,
    "start_time": "2022-03-28T12:13:05.299Z"
   },
   {
    "duration": 0,
    "start_time": "2022-03-28T12:13:05.302Z"
   },
   {
    "duration": 0,
    "start_time": "2022-03-28T12:13:05.304Z"
   },
   {
    "duration": 0,
    "start_time": "2022-03-28T12:13:05.306Z"
   },
   {
    "duration": 0,
    "start_time": "2022-03-28T12:13:05.307Z"
   },
   {
    "duration": 0,
    "start_time": "2022-03-28T12:13:05.308Z"
   },
   {
    "duration": 0,
    "start_time": "2022-03-28T12:13:05.311Z"
   },
   {
    "duration": 1,
    "start_time": "2022-03-28T12:13:05.313Z"
   },
   {
    "duration": 0,
    "start_time": "2022-03-28T12:13:05.316Z"
   },
   {
    "duration": 0,
    "start_time": "2022-03-28T12:13:05.318Z"
   },
   {
    "duration": 1,
    "start_time": "2022-03-28T12:13:05.320Z"
   },
   {
    "duration": 0,
    "start_time": "2022-03-28T12:13:05.323Z"
   },
   {
    "duration": 0,
    "start_time": "2022-03-28T12:13:05.324Z"
   },
   {
    "duration": 0,
    "start_time": "2022-03-28T12:13:05.368Z"
   },
   {
    "duration": 0,
    "start_time": "2022-03-28T12:13:05.369Z"
   },
   {
    "duration": 0,
    "start_time": "2022-03-28T12:13:05.371Z"
   },
   {
    "duration": 0,
    "start_time": "2022-03-28T12:13:05.373Z"
   },
   {
    "duration": 0,
    "start_time": "2022-03-28T12:13:05.374Z"
   },
   {
    "duration": 22,
    "start_time": "2022-03-28T12:13:57.019Z"
   },
   {
    "duration": 37,
    "start_time": "2022-03-28T12:14:57.707Z"
   },
   {
    "duration": 18,
    "start_time": "2022-03-28T12:15:01.586Z"
   },
   {
    "duration": 36,
    "start_time": "2022-03-28T12:15:10.608Z"
   },
   {
    "duration": 14,
    "start_time": "2022-03-28T12:15:14.344Z"
   },
   {
    "duration": 19,
    "start_time": "2022-03-28T12:15:16.105Z"
   },
   {
    "duration": 82,
    "start_time": "2022-03-28T12:15:38.571Z"
   },
   {
    "duration": 18,
    "start_time": "2022-03-28T12:16:02.256Z"
   },
   {
    "duration": 874,
    "start_time": "2022-03-28T12:16:41.844Z"
   },
   {
    "duration": 5,
    "start_time": "2022-03-28T12:16:42.721Z"
   },
   {
    "duration": 194,
    "start_time": "2022-03-28T12:16:42.729Z"
   },
   {
    "duration": 42,
    "start_time": "2022-03-28T12:16:42.927Z"
   },
   {
    "duration": 35,
    "start_time": "2022-03-28T12:16:42.971Z"
   },
   {
    "duration": 28,
    "start_time": "2022-03-28T12:16:43.008Z"
   },
   {
    "duration": 45,
    "start_time": "2022-03-28T12:16:43.038Z"
   },
   {
    "duration": 109,
    "start_time": "2022-03-28T12:16:43.085Z"
   },
   {
    "duration": 21,
    "start_time": "2022-03-28T12:16:43.196Z"
   },
   {
    "duration": 156,
    "start_time": "2022-03-28T12:16:43.222Z"
   },
   {
    "duration": 0,
    "start_time": "2022-03-28T12:16:43.381Z"
   },
   {
    "duration": 0,
    "start_time": "2022-03-28T12:16:43.384Z"
   },
   {
    "duration": 0,
    "start_time": "2022-03-28T12:16:43.386Z"
   },
   {
    "duration": 0,
    "start_time": "2022-03-28T12:16:43.389Z"
   },
   {
    "duration": 0,
    "start_time": "2022-03-28T12:16:43.391Z"
   },
   {
    "duration": 0,
    "start_time": "2022-03-28T12:16:43.393Z"
   },
   {
    "duration": 0,
    "start_time": "2022-03-28T12:16:43.396Z"
   },
   {
    "duration": 0,
    "start_time": "2022-03-28T12:16:43.397Z"
   },
   {
    "duration": 0,
    "start_time": "2022-03-28T12:16:43.399Z"
   },
   {
    "duration": 0,
    "start_time": "2022-03-28T12:16:43.401Z"
   },
   {
    "duration": 0,
    "start_time": "2022-03-28T12:16:43.403Z"
   },
   {
    "duration": 0,
    "start_time": "2022-03-28T12:16:43.405Z"
   },
   {
    "duration": 0,
    "start_time": "2022-03-28T12:16:43.407Z"
   },
   {
    "duration": 0,
    "start_time": "2022-03-28T12:16:43.409Z"
   },
   {
    "duration": 0,
    "start_time": "2022-03-28T12:16:43.411Z"
   },
   {
    "duration": 0,
    "start_time": "2022-03-28T12:16:43.467Z"
   },
   {
    "duration": 0,
    "start_time": "2022-03-28T12:16:43.469Z"
   },
   {
    "duration": 0,
    "start_time": "2022-03-28T12:16:43.471Z"
   },
   {
    "duration": 4,
    "start_time": "2022-03-28T12:19:52.601Z"
   },
   {
    "duration": 844,
    "start_time": "2022-03-28T12:20:48.010Z"
   },
   {
    "duration": 11,
    "start_time": "2022-03-28T12:20:48.857Z"
   },
   {
    "duration": 208,
    "start_time": "2022-03-28T12:20:48.871Z"
   },
   {
    "duration": 22,
    "start_time": "2022-03-28T12:20:49.082Z"
   },
   {
    "duration": 32,
    "start_time": "2022-03-28T12:20:49.106Z"
   },
   {
    "duration": 29,
    "start_time": "2022-03-28T12:20:49.169Z"
   },
   {
    "duration": 19,
    "start_time": "2022-03-28T12:20:49.200Z"
   },
   {
    "duration": 120,
    "start_time": "2022-03-28T12:20:49.222Z"
   },
   {
    "duration": 4,
    "start_time": "2022-03-28T12:20:49.344Z"
   },
   {
    "duration": 31,
    "start_time": "2022-03-28T12:20:49.352Z"
   },
   {
    "duration": 133,
    "start_time": "2022-03-28T12:20:49.385Z"
   },
   {
    "duration": 0,
    "start_time": "2022-03-28T12:20:49.520Z"
   },
   {
    "duration": 1,
    "start_time": "2022-03-28T12:20:49.523Z"
   },
   {
    "duration": 0,
    "start_time": "2022-03-28T12:20:49.525Z"
   },
   {
    "duration": 0,
    "start_time": "2022-03-28T12:20:49.526Z"
   },
   {
    "duration": 0,
    "start_time": "2022-03-28T12:20:49.528Z"
   },
   {
    "duration": 0,
    "start_time": "2022-03-28T12:20:49.529Z"
   },
   {
    "duration": 0,
    "start_time": "2022-03-28T12:20:49.531Z"
   },
   {
    "duration": 0,
    "start_time": "2022-03-28T12:20:49.532Z"
   },
   {
    "duration": 0,
    "start_time": "2022-03-28T12:20:49.533Z"
   },
   {
    "duration": 0,
    "start_time": "2022-03-28T12:20:49.535Z"
   },
   {
    "duration": 0,
    "start_time": "2022-03-28T12:20:49.536Z"
   },
   {
    "duration": 0,
    "start_time": "2022-03-28T12:20:49.537Z"
   },
   {
    "duration": 0,
    "start_time": "2022-03-28T12:20:49.567Z"
   },
   {
    "duration": 1,
    "start_time": "2022-03-28T12:20:49.568Z"
   },
   {
    "duration": 0,
    "start_time": "2022-03-28T12:20:49.570Z"
   },
   {
    "duration": 0,
    "start_time": "2022-03-28T12:20:49.571Z"
   },
   {
    "duration": 0,
    "start_time": "2022-03-28T12:20:49.573Z"
   },
   {
    "duration": 0,
    "start_time": "2022-03-28T12:20:49.574Z"
   },
   {
    "duration": 500,
    "start_time": "2022-03-28T12:24:21.045Z"
   },
   {
    "duration": 1050,
    "start_time": "2022-03-28T12:24:27.090Z"
   },
   {
    "duration": 66,
    "start_time": "2022-03-28T12:26:49.120Z"
   },
   {
    "duration": 132,
    "start_time": "2022-03-28T12:27:21.152Z"
   },
   {
    "duration": 166,
    "start_time": "2022-03-28T12:28:22.794Z"
   },
   {
    "duration": 1070,
    "start_time": "2022-03-28T12:28:56.848Z"
   },
   {
    "duration": 583,
    "start_time": "2022-03-28T12:29:28.077Z"
   },
   {
    "duration": 1083,
    "start_time": "2022-03-28T12:29:50.360Z"
   },
   {
    "duration": 29,
    "start_time": "2022-03-28T12:30:36.235Z"
   },
   {
    "duration": 19,
    "start_time": "2022-03-28T12:31:01.944Z"
   },
   {
    "duration": 22,
    "start_time": "2022-03-28T12:31:18.736Z"
   },
   {
    "duration": 24,
    "start_time": "2022-03-28T12:32:00.696Z"
   },
   {
    "duration": 24,
    "start_time": "2022-03-28T13:01:49.371Z"
   },
   {
    "duration": 30,
    "start_time": "2022-03-28T13:01:57.151Z"
   },
   {
    "duration": 28,
    "start_time": "2022-03-28T13:15:28.266Z"
   },
   {
    "duration": 25,
    "start_time": "2022-03-28T13:15:44.771Z"
   },
   {
    "duration": 38,
    "start_time": "2022-03-28T13:18:18.615Z"
   },
   {
    "duration": 43,
    "start_time": "2022-03-28T13:18:22.909Z"
   },
   {
    "duration": 33,
    "start_time": "2022-03-28T13:18:33.694Z"
   },
   {
    "duration": 24,
    "start_time": "2022-03-28T13:19:07.004Z"
   },
   {
    "duration": 24,
    "start_time": "2022-03-28T13:20:21.114Z"
   },
   {
    "duration": 37,
    "start_time": "2022-03-28T13:20:28.105Z"
   },
   {
    "duration": 25,
    "start_time": "2022-03-28T13:20:40.018Z"
   },
   {
    "duration": 25,
    "start_time": "2022-03-28T13:39:14.412Z"
   },
   {
    "duration": 26,
    "start_time": "2022-03-28T13:55:14.434Z"
   },
   {
    "duration": 29,
    "start_time": "2022-03-28T14:05:23.585Z"
   },
   {
    "duration": 17,
    "start_time": "2022-03-28T14:05:28.320Z"
   },
   {
    "duration": 22,
    "start_time": "2022-03-28T14:14:34.308Z"
   },
   {
    "duration": 18,
    "start_time": "2022-03-28T14:14:39.228Z"
   },
   {
    "duration": 64,
    "start_time": "2022-03-28T14:14:44.860Z"
   },
   {
    "duration": 1065,
    "start_time": "2022-03-28T14:39:35.268Z"
   },
   {
    "duration": 8,
    "start_time": "2022-03-28T14:39:36.335Z"
   },
   {
    "duration": 198,
    "start_time": "2022-03-28T14:39:36.345Z"
   },
   {
    "duration": 21,
    "start_time": "2022-03-28T14:39:36.546Z"
   },
   {
    "duration": 30,
    "start_time": "2022-03-28T14:39:36.569Z"
   },
   {
    "duration": 58,
    "start_time": "2022-03-28T14:39:36.602Z"
   },
   {
    "duration": 18,
    "start_time": "2022-03-28T14:39:36.663Z"
   },
   {
    "duration": 105,
    "start_time": "2022-03-28T14:39:36.684Z"
   },
   {
    "duration": 28,
    "start_time": "2022-03-28T14:39:36.792Z"
   },
   {
    "duration": 35,
    "start_time": "2022-03-28T14:39:36.824Z"
   },
   {
    "duration": 140,
    "start_time": "2022-03-28T14:39:36.862Z"
   },
   {
    "duration": 0,
    "start_time": "2022-03-28T14:39:37.004Z"
   },
   {
    "duration": 0,
    "start_time": "2022-03-28T14:39:37.006Z"
   },
   {
    "duration": 0,
    "start_time": "2022-03-28T14:39:37.007Z"
   },
   {
    "duration": 0,
    "start_time": "2022-03-28T14:39:37.009Z"
   },
   {
    "duration": 0,
    "start_time": "2022-03-28T14:39:37.010Z"
   },
   {
    "duration": 0,
    "start_time": "2022-03-28T14:39:37.012Z"
   },
   {
    "duration": 0,
    "start_time": "2022-03-28T14:39:37.013Z"
   },
   {
    "duration": 0,
    "start_time": "2022-03-28T14:39:37.014Z"
   },
   {
    "duration": 0,
    "start_time": "2022-03-28T14:39:37.015Z"
   },
   {
    "duration": 0,
    "start_time": "2022-03-28T14:39:37.016Z"
   },
   {
    "duration": 0,
    "start_time": "2022-03-28T14:39:37.018Z"
   },
   {
    "duration": 0,
    "start_time": "2022-03-28T14:39:37.043Z"
   },
   {
    "duration": 1,
    "start_time": "2022-03-28T14:39:37.044Z"
   },
   {
    "duration": 0,
    "start_time": "2022-03-28T14:39:37.046Z"
   },
   {
    "duration": 0,
    "start_time": "2022-03-28T14:39:37.048Z"
   },
   {
    "duration": 0,
    "start_time": "2022-03-28T14:39:37.049Z"
   },
   {
    "duration": 0,
    "start_time": "2022-03-28T14:39:37.050Z"
   },
   {
    "duration": 0,
    "start_time": "2022-03-28T14:39:37.052Z"
   },
   {
    "duration": 24,
    "start_time": "2022-03-28T14:44:22.179Z"
   },
   {
    "duration": 12,
    "start_time": "2022-03-28T14:45:17.824Z"
   },
   {
    "duration": 20,
    "start_time": "2022-03-28T14:45:19.787Z"
   },
   {
    "duration": 5158,
    "start_time": "2022-03-28T14:50:05.010Z"
   },
   {
    "duration": 813,
    "start_time": "2022-03-28T14:50:17.372Z"
   },
   {
    "duration": 5,
    "start_time": "2022-03-28T14:50:18.188Z"
   },
   {
    "duration": 203,
    "start_time": "2022-03-28T14:50:18.196Z"
   },
   {
    "duration": 21,
    "start_time": "2022-03-28T14:50:18.402Z"
   },
   {
    "duration": 48,
    "start_time": "2022-03-28T14:50:18.425Z"
   },
   {
    "duration": 28,
    "start_time": "2022-03-28T14:50:18.475Z"
   },
   {
    "duration": 48,
    "start_time": "2022-03-28T14:50:18.505Z"
   },
   {
    "duration": 103,
    "start_time": "2022-03-28T14:50:18.555Z"
   },
   {
    "duration": 24,
    "start_time": "2022-03-28T14:50:18.660Z"
   },
   {
    "duration": 18,
    "start_time": "2022-03-28T14:50:18.687Z"
   },
   {
    "duration": 46,
    "start_time": "2022-03-28T14:50:18.707Z"
   },
   {
    "duration": 31,
    "start_time": "2022-03-28T14:50:18.756Z"
   },
   {
    "duration": 939,
    "start_time": "2022-03-28T14:50:18.790Z"
   },
   {
    "duration": 6932,
    "start_time": "2022-03-28T14:50:19.732Z"
   },
   {
    "duration": 396,
    "start_time": "2022-03-28T14:50:26.666Z"
   },
   {
    "duration": 87,
    "start_time": "2022-03-28T14:50:27.064Z"
   },
   {
    "duration": 813,
    "start_time": "2022-03-28T14:50:27.155Z"
   },
   {
    "duration": 1011,
    "start_time": "2022-03-28T14:50:27.971Z"
   },
   {
    "duration": 908,
    "start_time": "2022-03-28T14:50:28.984Z"
   },
   {
    "duration": 32,
    "start_time": "2022-03-28T14:50:29.895Z"
   },
   {
    "duration": 33,
    "start_time": "2022-03-28T14:50:29.942Z"
   },
   {
    "duration": 65,
    "start_time": "2022-03-28T14:50:29.978Z"
   },
   {
    "duration": 7,
    "start_time": "2022-03-28T14:50:30.046Z"
   },
   {
    "duration": 264,
    "start_time": "2022-03-28T14:50:30.056Z"
   },
   {
    "duration": 76,
    "start_time": "2022-03-28T14:50:30.323Z"
   },
   {
    "duration": 1154,
    "start_time": "2022-03-28T14:50:30.402Z"
   },
   {
    "duration": 660,
    "start_time": "2022-03-28T14:50:31.560Z"
   },
   {
    "duration": 821,
    "start_time": "2022-03-28T14:50:32.224Z"
   },
   {
    "duration": 1003,
    "start_time": "2022-03-28T14:50:33.047Z"
   },
   {
    "duration": 28,
    "start_time": "2022-03-28T14:50:47.800Z"
   },
   {
    "duration": 29,
    "start_time": "2022-03-28T14:50:54.189Z"
   },
   {
    "duration": 28,
    "start_time": "2022-03-28T14:51:00.171Z"
   },
   {
    "duration": 107,
    "start_time": "2022-03-28T14:51:18.757Z"
   },
   {
    "duration": 4,
    "start_time": "2022-03-28T14:51:50.216Z"
   },
   {
    "duration": 513,
    "start_time": "2022-03-28T14:52:00.338Z"
   },
   {
    "duration": 193,
    "start_time": "2022-03-28T15:08:28.420Z"
   },
   {
    "duration": 189,
    "start_time": "2022-03-28T15:08:35.257Z"
   },
   {
    "duration": 10,
    "start_time": "2022-03-28T15:08:40.537Z"
   },
   {
    "duration": 60,
    "start_time": "2022-03-28T15:08:45.481Z"
   },
   {
    "duration": 84,
    "start_time": "2022-03-28T15:09:27.040Z"
   },
   {
    "duration": 28,
    "start_time": "2022-03-28T15:09:52.581Z"
   },
   {
    "duration": 26,
    "start_time": "2022-03-28T15:10:25.119Z"
   },
   {
    "duration": 812,
    "start_time": "2022-03-28T15:10:37.377Z"
   },
   {
    "duration": 3,
    "start_time": "2022-03-28T15:10:38.192Z"
   },
   {
    "duration": 212,
    "start_time": "2022-03-28T15:10:38.197Z"
   },
   {
    "duration": 34,
    "start_time": "2022-03-28T15:10:38.412Z"
   },
   {
    "duration": 34,
    "start_time": "2022-03-28T15:10:38.448Z"
   },
   {
    "duration": 26,
    "start_time": "2022-03-28T15:10:38.484Z"
   },
   {
    "duration": 47,
    "start_time": "2022-03-28T15:10:38.512Z"
   },
   {
    "duration": 107,
    "start_time": "2022-03-28T15:10:38.562Z"
   },
   {
    "duration": 24,
    "start_time": "2022-03-28T15:10:38.671Z"
   },
   {
    "duration": 45,
    "start_time": "2022-03-28T15:10:38.698Z"
   },
   {
    "duration": 122,
    "start_time": "2022-03-28T15:10:38.745Z"
   },
   {
    "duration": 0,
    "start_time": "2022-03-28T15:10:38.869Z"
   },
   {
    "duration": 0,
    "start_time": "2022-03-28T15:10:38.871Z"
   },
   {
    "duration": 0,
    "start_time": "2022-03-28T15:10:38.873Z"
   },
   {
    "duration": 0,
    "start_time": "2022-03-28T15:10:38.874Z"
   },
   {
    "duration": 0,
    "start_time": "2022-03-28T15:10:38.876Z"
   },
   {
    "duration": 0,
    "start_time": "2022-03-28T15:10:38.877Z"
   },
   {
    "duration": 0,
    "start_time": "2022-03-28T15:10:38.879Z"
   },
   {
    "duration": 0,
    "start_time": "2022-03-28T15:10:38.880Z"
   },
   {
    "duration": 0,
    "start_time": "2022-03-28T15:10:38.881Z"
   },
   {
    "duration": 0,
    "start_time": "2022-03-28T15:10:38.883Z"
   },
   {
    "duration": 0,
    "start_time": "2022-03-28T15:10:38.884Z"
   },
   {
    "duration": 0,
    "start_time": "2022-03-28T15:10:38.885Z"
   },
   {
    "duration": 0,
    "start_time": "2022-03-28T15:10:38.886Z"
   },
   {
    "duration": 0,
    "start_time": "2022-03-28T15:10:38.887Z"
   },
   {
    "duration": 0,
    "start_time": "2022-03-28T15:10:38.888Z"
   },
   {
    "duration": 0,
    "start_time": "2022-03-28T15:10:38.890Z"
   },
   {
    "duration": 0,
    "start_time": "2022-03-28T15:10:38.892Z"
   },
   {
    "duration": 0,
    "start_time": "2022-03-28T15:10:38.893Z"
   },
   {
    "duration": 25,
    "start_time": "2022-03-28T15:11:25.647Z"
   },
   {
    "duration": 24,
    "start_time": "2022-03-28T15:11:39.774Z"
   },
   {
    "duration": 17,
    "start_time": "2022-03-28T15:12:03.910Z"
   },
   {
    "duration": 26,
    "start_time": "2022-03-28T15:12:27.077Z"
   },
   {
    "duration": 9,
    "start_time": "2022-03-28T15:12:47.349Z"
   },
   {
    "duration": 9,
    "start_time": "2022-03-28T15:13:25.811Z"
   },
   {
    "duration": 17,
    "start_time": "2022-03-28T15:13:32.603Z"
   },
   {
    "duration": 23,
    "start_time": "2022-03-28T15:13:37.842Z"
   },
   {
    "duration": 24,
    "start_time": "2022-03-28T15:14:09.601Z"
   },
   {
    "duration": 24,
    "start_time": "2022-03-28T15:14:34.816Z"
   },
   {
    "duration": 10,
    "start_time": "2022-03-28T15:15:44.218Z"
   },
   {
    "duration": 25,
    "start_time": "2022-03-28T15:15:52.192Z"
   },
   {
    "duration": 203,
    "start_time": "2022-03-28T15:16:19.009Z"
   },
   {
    "duration": 172,
    "start_time": "2022-03-28T15:16:32.885Z"
   },
   {
    "duration": 26,
    "start_time": "2022-03-28T15:16:53.129Z"
   },
   {
    "duration": 15,
    "start_time": "2022-03-28T15:17:32.819Z"
   },
   {
    "duration": 893,
    "start_time": "2022-03-28T15:17:50.415Z"
   },
   {
    "duration": 4,
    "start_time": "2022-03-28T15:17:51.311Z"
   },
   {
    "duration": 209,
    "start_time": "2022-03-28T15:17:51.317Z"
   },
   {
    "duration": 25,
    "start_time": "2022-03-28T15:17:51.529Z"
   },
   {
    "duration": 31,
    "start_time": "2022-03-28T15:17:51.556Z"
   },
   {
    "duration": 55,
    "start_time": "2022-03-28T15:17:51.589Z"
   },
   {
    "duration": 21,
    "start_time": "2022-03-28T15:17:51.646Z"
   },
   {
    "duration": 110,
    "start_time": "2022-03-28T15:17:51.669Z"
   },
   {
    "duration": 4,
    "start_time": "2022-03-28T15:17:51.781Z"
   },
   {
    "duration": 20,
    "start_time": "2022-03-28T15:17:51.788Z"
   },
   {
    "duration": 38,
    "start_time": "2022-03-28T15:17:51.810Z"
   },
   {
    "duration": 21,
    "start_time": "2022-03-28T15:17:51.850Z"
   },
   {
    "duration": 553,
    "start_time": "2022-03-28T15:17:51.873Z"
   },
   {
    "duration": 7359,
    "start_time": "2022-03-28T15:17:52.428Z"
   },
   {
    "duration": 413,
    "start_time": "2022-03-28T15:17:59.844Z"
   },
   {
    "duration": 67,
    "start_time": "2022-03-28T15:18:00.259Z"
   },
   {
    "duration": 827,
    "start_time": "2022-03-28T15:18:00.328Z"
   },
   {
    "duration": 1015,
    "start_time": "2022-03-28T15:18:01.157Z"
   },
   {
    "duration": 920,
    "start_time": "2022-03-28T15:18:02.175Z"
   },
   {
    "duration": 31,
    "start_time": "2022-03-28T15:18:03.097Z"
   },
   {
    "duration": 33,
    "start_time": "2022-03-28T15:18:03.142Z"
   },
   {
    "duration": 65,
    "start_time": "2022-03-28T15:18:03.177Z"
   },
   {
    "duration": 8,
    "start_time": "2022-03-28T15:18:03.245Z"
   },
   {
    "duration": 251,
    "start_time": "2022-03-28T15:18:03.255Z"
   },
   {
    "duration": 81,
    "start_time": "2022-03-28T15:18:03.508Z"
   },
   {
    "duration": 1073,
    "start_time": "2022-03-28T15:18:03.591Z"
   },
   {
    "duration": 634,
    "start_time": "2022-03-28T15:18:04.666Z"
   },
   {
    "duration": 789,
    "start_time": "2022-03-28T15:18:05.304Z"
   },
   {
    "duration": 942,
    "start_time": "2022-03-28T15:18:06.095Z"
   },
   {
    "duration": 50,
    "start_time": "2022-03-28T18:44:25.221Z"
   },
   {
    "duration": 891,
    "start_time": "2022-03-28T18:44:30.086Z"
   },
   {
    "duration": 4,
    "start_time": "2022-03-28T18:44:30.979Z"
   },
   {
    "duration": 165,
    "start_time": "2022-03-28T18:44:30.985Z"
   },
   {
    "duration": 15,
    "start_time": "2022-03-28T18:44:31.152Z"
   },
   {
    "duration": 40,
    "start_time": "2022-03-28T18:44:31.169Z"
   },
   {
    "duration": 20,
    "start_time": "2022-03-28T18:44:31.211Z"
   },
   {
    "duration": 14,
    "start_time": "2022-03-28T18:44:31.233Z"
   },
   {
    "duration": 82,
    "start_time": "2022-03-28T18:44:31.249Z"
   },
   {
    "duration": 2,
    "start_time": "2022-03-28T18:44:31.333Z"
   },
   {
    "duration": 22,
    "start_time": "2022-03-28T18:44:31.338Z"
   },
   {
    "duration": 13,
    "start_time": "2022-03-28T18:44:31.362Z"
   },
   {
    "duration": 38,
    "start_time": "2022-03-28T18:44:31.377Z"
   },
   {
    "duration": 435,
    "start_time": "2022-03-28T18:44:31.417Z"
   },
   {
    "duration": 2967,
    "start_time": "2022-03-28T18:44:31.854Z"
   },
   {
    "duration": 245,
    "start_time": "2022-03-28T18:44:34.823Z"
   },
   {
    "duration": 57,
    "start_time": "2022-03-28T18:44:35.069Z"
   },
   {
    "duration": 544,
    "start_time": "2022-03-28T18:44:35.128Z"
   },
   {
    "duration": 592,
    "start_time": "2022-03-28T18:44:35.674Z"
   },
   {
    "duration": 637,
    "start_time": "2022-03-28T18:44:36.268Z"
   },
   {
    "duration": 24,
    "start_time": "2022-03-28T18:44:36.908Z"
   },
   {
    "duration": 23,
    "start_time": "2022-03-28T18:44:36.934Z"
   },
   {
    "duration": 58,
    "start_time": "2022-03-28T18:44:36.959Z"
   },
   {
    "duration": 5,
    "start_time": "2022-03-28T18:44:37.019Z"
   },
   {
    "duration": 158,
    "start_time": "2022-03-28T18:44:37.025Z"
   },
   {
    "duration": 43,
    "start_time": "2022-03-28T18:44:37.185Z"
   },
   {
    "duration": 650,
    "start_time": "2022-03-28T18:44:37.229Z"
   },
   {
    "duration": 422,
    "start_time": "2022-03-28T18:44:37.881Z"
   },
   {
    "duration": 547,
    "start_time": "2022-03-28T18:44:38.307Z"
   },
   {
    "duration": 588,
    "start_time": "2022-03-28T18:44:38.857Z"
   },
   {
    "duration": 48,
    "start_time": "2022-03-28T18:59:08.930Z"
   },
   {
    "duration": 922,
    "start_time": "2022-03-28T18:59:14.480Z"
   },
   {
    "duration": 4,
    "start_time": "2022-03-28T18:59:15.405Z"
   },
   {
    "duration": 161,
    "start_time": "2022-03-28T18:59:15.411Z"
   },
   {
    "duration": 18,
    "start_time": "2022-03-28T18:59:15.574Z"
   },
   {
    "duration": 40,
    "start_time": "2022-03-28T18:59:15.594Z"
   },
   {
    "duration": 21,
    "start_time": "2022-03-28T18:59:15.636Z"
   },
   {
    "duration": 16,
    "start_time": "2022-03-28T18:59:15.659Z"
   },
   {
    "duration": 95,
    "start_time": "2022-03-28T18:59:15.677Z"
   },
   {
    "duration": 3,
    "start_time": "2022-03-28T18:59:15.774Z"
   },
   {
    "duration": 45,
    "start_time": "2022-03-28T18:59:15.781Z"
   },
   {
    "duration": 12,
    "start_time": "2022-03-28T18:59:15.828Z"
   },
   {
    "duration": 14,
    "start_time": "2022-03-28T18:59:15.842Z"
   },
   {
    "duration": 405,
    "start_time": "2022-03-28T18:59:15.858Z"
   },
   {
    "duration": 4275,
    "start_time": "2022-03-28T18:59:16.264Z"
   },
   {
    "duration": 402,
    "start_time": "2022-03-28T18:59:20.541Z"
   },
   {
    "duration": 0,
    "start_time": "2022-03-28T18:59:20.945Z"
   },
   {
    "duration": 0,
    "start_time": "2022-03-28T18:59:20.946Z"
   },
   {
    "duration": 0,
    "start_time": "2022-03-28T18:59:20.948Z"
   },
   {
    "duration": 0,
    "start_time": "2022-03-28T18:59:20.949Z"
   },
   {
    "duration": 0,
    "start_time": "2022-03-28T18:59:20.950Z"
   },
   {
    "duration": 0,
    "start_time": "2022-03-28T18:59:20.951Z"
   },
   {
    "duration": 0,
    "start_time": "2022-03-28T18:59:21.010Z"
   },
   {
    "duration": 0,
    "start_time": "2022-03-28T18:59:21.012Z"
   },
   {
    "duration": 0,
    "start_time": "2022-03-28T18:59:21.014Z"
   },
   {
    "duration": 0,
    "start_time": "2022-03-28T18:59:21.015Z"
   },
   {
    "duration": 0,
    "start_time": "2022-03-28T18:59:21.017Z"
   },
   {
    "duration": 0,
    "start_time": "2022-03-28T18:59:21.018Z"
   },
   {
    "duration": 0,
    "start_time": "2022-03-28T18:59:21.020Z"
   },
   {
    "duration": 0,
    "start_time": "2022-03-28T18:59:21.022Z"
   },
   {
    "duration": 0,
    "start_time": "2022-03-28T18:59:21.025Z"
   },
   {
    "duration": 89,
    "start_time": "2022-03-28T19:00:59.701Z"
   },
   {
    "duration": 163,
    "start_time": "2022-03-28T19:01:26.229Z"
   },
   {
    "duration": 3,
    "start_time": "2022-03-28T19:04:13.832Z"
   },
   {
    "duration": 16,
    "start_time": "2022-03-28T19:07:37.760Z"
   },
   {
    "duration": 9,
    "start_time": "2022-03-28T19:10:01.864Z"
   },
   {
    "duration": 100,
    "start_time": "2022-03-28T19:11:55.481Z"
   },
   {
    "duration": 19,
    "start_time": "2022-03-28T19:12:04.776Z"
   },
   {
    "duration": 635,
    "start_time": "2022-03-28T19:12:22.719Z"
   },
   {
    "duration": 3,
    "start_time": "2022-03-28T19:12:23.355Z"
   },
   {
    "duration": 143,
    "start_time": "2022-03-28T19:12:23.359Z"
   },
   {
    "duration": 14,
    "start_time": "2022-03-28T19:12:23.508Z"
   },
   {
    "duration": 22,
    "start_time": "2022-03-28T19:12:23.523Z"
   },
   {
    "duration": 18,
    "start_time": "2022-03-28T19:12:23.546Z"
   },
   {
    "duration": 13,
    "start_time": "2022-03-28T19:12:23.566Z"
   },
   {
    "duration": 82,
    "start_time": "2022-03-28T19:12:23.581Z"
   },
   {
    "duration": 3,
    "start_time": "2022-03-28T19:12:23.664Z"
   },
   {
    "duration": 18,
    "start_time": "2022-03-28T19:12:23.669Z"
   },
   {
    "duration": 25,
    "start_time": "2022-03-28T19:12:23.688Z"
   },
   {
    "duration": 14,
    "start_time": "2022-03-28T19:12:23.715Z"
   },
   {
    "duration": 329,
    "start_time": "2022-03-28T19:12:23.731Z"
   },
   {
    "duration": 3068,
    "start_time": "2022-03-28T19:12:24.061Z"
   },
   {
    "duration": 2,
    "start_time": "2022-03-28T19:12:27.131Z"
   },
   {
    "duration": 394,
    "start_time": "2022-03-28T19:12:27.135Z"
   },
   {
    "duration": 21,
    "start_time": "2022-03-28T19:12:27.531Z"
   },
   {
    "duration": 1107,
    "start_time": "2022-03-28T19:12:27.553Z"
   },
   {
    "duration": 670,
    "start_time": "2022-03-28T19:12:28.662Z"
   },
   {
    "duration": 641,
    "start_time": "2022-03-28T19:12:29.334Z"
   },
   {
    "duration": 22,
    "start_time": "2022-03-28T19:12:29.977Z"
   },
   {
    "duration": 23,
    "start_time": "2022-03-28T19:12:30.008Z"
   },
   {
    "duration": 29,
    "start_time": "2022-03-28T19:12:30.033Z"
   },
   {
    "duration": 5,
    "start_time": "2022-03-28T19:12:30.064Z"
   },
   {
    "duration": 190,
    "start_time": "2022-03-28T19:12:30.071Z"
   },
   {
    "duration": 48,
    "start_time": "2022-03-28T19:12:30.263Z"
   },
   {
    "duration": 677,
    "start_time": "2022-03-28T19:12:30.313Z"
   },
   {
    "duration": 405,
    "start_time": "2022-03-28T19:12:30.993Z"
   },
   {
    "duration": 518,
    "start_time": "2022-03-28T19:12:31.409Z"
   },
   {
    "duration": 584,
    "start_time": "2022-03-28T19:12:31.929Z"
   },
   {
    "duration": 591,
    "start_time": "2022-03-28T19:20:27.563Z"
   },
   {
    "duration": 543,
    "start_time": "2022-03-28T19:22:05.502Z"
   },
   {
    "duration": 549,
    "start_time": "2022-03-28T19:22:38.959Z"
   },
   {
    "duration": 681,
    "start_time": "2022-03-28T19:23:12.448Z"
   },
   {
    "duration": 562,
    "start_time": "2022-03-28T19:23:41.346Z"
   },
   {
    "duration": 458,
    "start_time": "2022-03-28T19:30:31.585Z"
   },
   {
    "duration": 33,
    "start_time": "2022-03-28T19:33:51.142Z"
   },
   {
    "duration": 41,
    "start_time": "2022-03-28T19:34:10.823Z"
   },
   {
    "duration": 643,
    "start_time": "2022-03-28T19:39:04.298Z"
   },
   {
    "duration": 3,
    "start_time": "2022-03-28T19:39:04.943Z"
   },
   {
    "duration": 139,
    "start_time": "2022-03-28T19:39:04.948Z"
   },
   {
    "duration": 25,
    "start_time": "2022-03-28T19:39:05.089Z"
   },
   {
    "duration": 25,
    "start_time": "2022-03-28T19:39:05.115Z"
   },
   {
    "duration": 20,
    "start_time": "2022-03-28T19:39:05.142Z"
   },
   {
    "duration": 19,
    "start_time": "2022-03-28T19:39:05.164Z"
   },
   {
    "duration": 61,
    "start_time": "2022-03-28T19:39:05.209Z"
   },
   {
    "duration": 3,
    "start_time": "2022-03-28T19:39:05.272Z"
   },
   {
    "duration": 32,
    "start_time": "2022-03-28T19:39:05.278Z"
   },
   {
    "duration": 10,
    "start_time": "2022-03-28T19:39:05.312Z"
   },
   {
    "duration": 15,
    "start_time": "2022-03-28T19:39:05.323Z"
   },
   {
    "duration": 342,
    "start_time": "2022-03-28T19:39:05.339Z"
   },
   {
    "duration": 3119,
    "start_time": "2022-03-28T19:39:05.683Z"
   },
   {
    "duration": 3,
    "start_time": "2022-03-28T19:39:08.808Z"
   },
   {
    "duration": 241,
    "start_time": "2022-03-28T19:39:08.812Z"
   },
   {
    "duration": 65,
    "start_time": "2022-03-28T19:39:09.055Z"
   },
   {
    "duration": 580,
    "start_time": "2022-03-28T19:39:09.122Z"
   },
   {
    "duration": 640,
    "start_time": "2022-03-28T19:39:09.708Z"
   },
   {
    "duration": 647,
    "start_time": "2022-03-28T19:39:10.350Z"
   },
   {
    "duration": 27,
    "start_time": "2022-03-28T19:39:10.999Z"
   },
   {
    "duration": 35,
    "start_time": "2022-03-28T19:39:11.028Z"
   },
   {
    "duration": 46,
    "start_time": "2022-03-28T19:39:11.065Z"
   },
   {
    "duration": 5,
    "start_time": "2022-03-28T19:39:11.113Z"
   },
   {
    "duration": 165,
    "start_time": "2022-03-28T19:39:11.120Z"
   },
   {
    "duration": 47,
    "start_time": "2022-03-28T19:39:11.287Z"
   },
   {
    "duration": 684,
    "start_time": "2022-03-28T19:39:11.336Z"
   },
   {
    "duration": 413,
    "start_time": "2022-03-28T19:39:12.023Z"
   },
   {
    "duration": 538,
    "start_time": "2022-03-28T19:39:12.438Z"
   },
   {
    "duration": 625,
    "start_time": "2022-03-28T19:39:12.977Z"
   },
   {
    "duration": 603,
    "start_time": "2022-03-28T19:43:43.556Z"
   },
   {
    "duration": 2,
    "start_time": "2022-03-28T19:43:44.161Z"
   },
   {
    "duration": 146,
    "start_time": "2022-03-28T19:43:44.165Z"
   },
   {
    "duration": 16,
    "start_time": "2022-03-28T19:43:44.313Z"
   },
   {
    "duration": 35,
    "start_time": "2022-03-28T19:43:44.331Z"
   },
   {
    "duration": 21,
    "start_time": "2022-03-28T19:43:44.368Z"
   },
   {
    "duration": 36,
    "start_time": "2022-03-28T19:43:44.391Z"
   },
   {
    "duration": 82,
    "start_time": "2022-03-28T19:43:44.429Z"
   },
   {
    "duration": 3,
    "start_time": "2022-03-28T19:43:44.513Z"
   },
   {
    "duration": 13,
    "start_time": "2022-03-28T19:43:44.520Z"
   },
   {
    "duration": 10,
    "start_time": "2022-03-28T19:43:44.535Z"
   },
   {
    "duration": 14,
    "start_time": "2022-03-28T19:43:44.547Z"
   },
   {
    "duration": 347,
    "start_time": "2022-03-28T19:43:44.562Z"
   },
   {
    "duration": 3127,
    "start_time": "2022-03-28T19:43:44.910Z"
   },
   {
    "duration": 3,
    "start_time": "2022-03-28T19:43:48.038Z"
   },
   {
    "duration": 232,
    "start_time": "2022-03-28T19:43:48.042Z"
   },
   {
    "duration": 63,
    "start_time": "2022-03-28T19:43:48.276Z"
   },
   {
    "duration": 549,
    "start_time": "2022-03-28T19:43:48.341Z"
   },
   {
    "duration": 631,
    "start_time": "2022-03-28T19:43:48.892Z"
   },
   {
    "duration": 638,
    "start_time": "2022-03-28T19:43:49.525Z"
   },
   {
    "duration": 22,
    "start_time": "2022-03-28T19:43:50.165Z"
   },
   {
    "duration": 35,
    "start_time": "2022-03-28T19:43:50.189Z"
   },
   {
    "duration": 34,
    "start_time": "2022-03-28T19:43:50.225Z"
   },
   {
    "duration": 4,
    "start_time": "2022-03-28T19:43:50.261Z"
   },
   {
    "duration": 173,
    "start_time": "2022-03-28T19:43:50.267Z"
   },
   {
    "duration": 39,
    "start_time": "2022-03-28T19:43:50.441Z"
   },
   {
    "duration": 679,
    "start_time": "2022-03-28T19:43:50.481Z"
   },
   {
    "duration": 414,
    "start_time": "2022-03-28T19:43:51.163Z"
   },
   {
    "duration": 527,
    "start_time": "2022-03-28T19:43:51.579Z"
   },
   {
    "duration": 593,
    "start_time": "2022-03-28T19:43:52.108Z"
   },
   {
    "duration": 44,
    "start_time": "2022-03-28T20:36:04.019Z"
   },
   {
    "duration": 6,
    "start_time": "2022-03-28T20:45:58.778Z"
   },
   {
    "duration": 704,
    "start_time": "2022-03-28T20:46:06.968Z"
   },
   {
    "duration": 2,
    "start_time": "2022-03-28T20:46:07.674Z"
   },
   {
    "duration": 155,
    "start_time": "2022-03-28T20:46:07.678Z"
   },
   {
    "duration": 13,
    "start_time": "2022-03-28T20:46:07.835Z"
   },
   {
    "duration": 37,
    "start_time": "2022-03-28T20:46:07.850Z"
   },
   {
    "duration": 19,
    "start_time": "2022-03-28T20:46:07.888Z"
   },
   {
    "duration": 14,
    "start_time": "2022-03-28T20:46:07.909Z"
   },
   {
    "duration": 80,
    "start_time": "2022-03-28T20:46:07.925Z"
   },
   {
    "duration": 3,
    "start_time": "2022-03-28T20:46:08.007Z"
   },
   {
    "duration": 3370,
    "start_time": "2022-03-28T20:46:08.013Z"
   },
   {
    "duration": 0,
    "start_time": "2022-03-28T20:46:11.385Z"
   },
   {
    "duration": 0,
    "start_time": "2022-03-28T20:46:11.387Z"
   },
   {
    "duration": 0,
    "start_time": "2022-03-28T20:46:11.388Z"
   },
   {
    "duration": 0,
    "start_time": "2022-03-28T20:46:11.389Z"
   },
   {
    "duration": 0,
    "start_time": "2022-03-28T20:46:11.391Z"
   },
   {
    "duration": 0,
    "start_time": "2022-03-28T20:46:11.392Z"
   },
   {
    "duration": 0,
    "start_time": "2022-03-28T20:46:11.394Z"
   },
   {
    "duration": 0,
    "start_time": "2022-03-28T20:46:11.396Z"
   },
   {
    "duration": 0,
    "start_time": "2022-03-28T20:46:11.397Z"
   },
   {
    "duration": 0,
    "start_time": "2022-03-28T20:46:11.398Z"
   },
   {
    "duration": 0,
    "start_time": "2022-03-28T20:46:11.400Z"
   },
   {
    "duration": 0,
    "start_time": "2022-03-28T20:46:11.401Z"
   },
   {
    "duration": 0,
    "start_time": "2022-03-28T20:46:11.402Z"
   },
   {
    "duration": 0,
    "start_time": "2022-03-28T20:46:11.404Z"
   },
   {
    "duration": 0,
    "start_time": "2022-03-28T20:46:11.405Z"
   },
   {
    "duration": 0,
    "start_time": "2022-03-28T20:46:11.406Z"
   },
   {
    "duration": 0,
    "start_time": "2022-03-28T20:46:11.408Z"
   },
   {
    "duration": 0,
    "start_time": "2022-03-28T20:46:11.409Z"
   },
   {
    "duration": 0,
    "start_time": "2022-03-28T20:46:11.411Z"
   },
   {
    "duration": 0,
    "start_time": "2022-03-28T20:46:11.412Z"
   },
   {
    "duration": 0,
    "start_time": "2022-03-28T20:46:11.413Z"
   },
   {
    "duration": 3275,
    "start_time": "2022-03-28T20:46:50.321Z"
   },
   {
    "duration": 166,
    "start_time": "2022-03-28T20:47:40.438Z"
   },
   {
    "duration": 669,
    "start_time": "2022-03-28T20:48:12.665Z"
   },
   {
    "duration": 2,
    "start_time": "2022-03-28T20:48:13.336Z"
   },
   {
    "duration": 130,
    "start_time": "2022-03-28T20:48:13.339Z"
   },
   {
    "duration": 18,
    "start_time": "2022-03-28T20:48:13.470Z"
   },
   {
    "duration": 21,
    "start_time": "2022-03-28T20:48:13.489Z"
   },
   {
    "duration": 17,
    "start_time": "2022-03-28T20:48:13.511Z"
   },
   {
    "duration": 12,
    "start_time": "2022-03-28T20:48:13.530Z"
   },
   {
    "duration": 271,
    "start_time": "2022-03-28T20:48:13.543Z"
   },
   {
    "duration": 66,
    "start_time": "2022-03-28T20:48:13.815Z"
   },
   {
    "duration": 2,
    "start_time": "2022-03-28T20:48:13.883Z"
   },
   {
    "duration": 14,
    "start_time": "2022-03-28T20:48:13.886Z"
   },
   {
    "duration": 9,
    "start_time": "2022-03-28T20:48:13.902Z"
   },
   {
    "duration": 13,
    "start_time": "2022-03-28T20:48:13.912Z"
   },
   {
    "duration": 356,
    "start_time": "2022-03-28T20:48:13.926Z"
   },
   {
    "duration": 2628,
    "start_time": "2022-03-28T20:48:14.283Z"
   },
   {
    "duration": 3,
    "start_time": "2022-03-28T20:48:16.913Z"
   },
   {
    "duration": 215,
    "start_time": "2022-03-28T20:48:16.917Z"
   },
   {
    "duration": 53,
    "start_time": "2022-03-28T20:48:17.134Z"
   },
   {
    "duration": 474,
    "start_time": "2022-03-28T20:48:17.189Z"
   },
   {
    "duration": 596,
    "start_time": "2022-03-28T20:48:17.665Z"
   },
   {
    "duration": 463,
    "start_time": "2022-03-28T20:48:18.263Z"
   },
   {
    "duration": 20,
    "start_time": "2022-03-28T20:48:18.728Z"
   },
   {
    "duration": 37,
    "start_time": "2022-03-28T20:48:18.749Z"
   },
   {
    "duration": 34,
    "start_time": "2022-03-28T20:48:18.787Z"
   },
   {
    "duration": 4,
    "start_time": "2022-03-28T20:48:18.823Z"
   },
   {
    "duration": 142,
    "start_time": "2022-03-28T20:48:18.828Z"
   },
   {
    "duration": 45,
    "start_time": "2022-03-28T20:48:18.971Z"
   },
   {
    "duration": 606,
    "start_time": "2022-03-28T20:48:19.018Z"
   },
   {
    "duration": 474,
    "start_time": "2022-03-28T20:48:19.626Z"
   },
   {
    "duration": 367,
    "start_time": "2022-03-28T20:48:20.102Z"
   },
   {
    "duration": 527,
    "start_time": "2022-03-28T20:48:20.471Z"
   },
   {
    "duration": 579,
    "start_time": "2022-03-28T20:48:56.329Z"
   },
   {
    "duration": 2,
    "start_time": "2022-03-28T20:48:56.910Z"
   },
   {
    "duration": 135,
    "start_time": "2022-03-28T20:48:56.913Z"
   },
   {
    "duration": 12,
    "start_time": "2022-03-28T20:48:57.050Z"
   },
   {
    "duration": 27,
    "start_time": "2022-03-28T20:48:57.064Z"
   },
   {
    "duration": 15,
    "start_time": "2022-03-28T20:48:57.093Z"
   },
   {
    "duration": 260,
    "start_time": "2022-03-28T20:48:57.110Z"
   },
   {
    "duration": 16,
    "start_time": "2022-03-28T20:48:57.372Z"
   },
   {
    "duration": 53,
    "start_time": "2022-03-28T20:48:57.390Z"
   },
   {
    "duration": 2,
    "start_time": "2022-03-28T20:48:57.445Z"
   },
   {
    "duration": 14,
    "start_time": "2022-03-28T20:48:57.449Z"
   },
   {
    "duration": 24,
    "start_time": "2022-03-28T20:48:57.464Z"
   },
   {
    "duration": 11,
    "start_time": "2022-03-28T20:48:57.489Z"
   },
   {
    "duration": 348,
    "start_time": "2022-03-28T20:48:57.501Z"
   },
   {
    "duration": 2494,
    "start_time": "2022-03-28T20:48:57.850Z"
   },
   {
    "duration": 2,
    "start_time": "2022-03-28T20:49:00.346Z"
   },
   {
    "duration": 208,
    "start_time": "2022-03-28T20:49:00.349Z"
   },
   {
    "duration": 63,
    "start_time": "2022-03-28T20:49:00.559Z"
   },
   {
    "duration": 499,
    "start_time": "2022-03-28T20:49:00.623Z"
   },
   {
    "duration": 616,
    "start_time": "2022-03-28T20:49:01.123Z"
   },
   {
    "duration": 445,
    "start_time": "2022-03-28T20:49:01.741Z"
   },
   {
    "duration": 19,
    "start_time": "2022-03-28T20:49:02.188Z"
   },
   {
    "duration": 21,
    "start_time": "2022-03-28T20:49:02.208Z"
   },
   {
    "duration": 33,
    "start_time": "2022-03-28T20:49:02.231Z"
   },
   {
    "duration": 4,
    "start_time": "2022-03-28T20:49:02.281Z"
   },
   {
    "duration": 138,
    "start_time": "2022-03-28T20:49:02.287Z"
   },
   {
    "duration": 35,
    "start_time": "2022-03-28T20:49:02.427Z"
   },
   {
    "duration": 584,
    "start_time": "2022-03-28T20:49:02.465Z"
   },
   {
    "duration": 442,
    "start_time": "2022-03-28T20:49:03.050Z"
   },
   {
    "duration": 365,
    "start_time": "2022-03-28T20:49:03.494Z"
   },
   {
    "duration": 511,
    "start_time": "2022-03-28T20:49:03.861Z"
   },
   {
    "duration": 853,
    "start_time": "2022-03-28T20:52:44.929Z"
   },
   {
    "duration": 2773,
    "start_time": "2022-03-28T20:54:28.586Z"
   },
   {
    "duration": 30,
    "start_time": "2022-03-28T20:56:53.104Z"
   },
   {
    "duration": 26,
    "start_time": "2022-03-28T20:57:27.138Z"
   },
   {
    "duration": 666,
    "start_time": "2022-03-28T20:58:30.071Z"
   },
   {
    "duration": 2,
    "start_time": "2022-03-28T20:58:30.739Z"
   },
   {
    "duration": 135,
    "start_time": "2022-03-28T20:58:30.743Z"
   },
   {
    "duration": 15,
    "start_time": "2022-03-28T20:58:30.880Z"
   },
   {
    "duration": 56,
    "start_time": "2022-03-28T20:58:30.897Z"
   },
   {
    "duration": 20,
    "start_time": "2022-03-28T20:58:30.955Z"
   },
   {
    "duration": 254,
    "start_time": "2022-03-28T20:58:30.977Z"
   },
   {
    "duration": 14,
    "start_time": "2022-03-28T20:58:31.233Z"
   },
   {
    "duration": 64,
    "start_time": "2022-03-28T20:58:31.249Z"
   },
   {
    "duration": 2,
    "start_time": "2022-03-28T20:58:31.316Z"
   },
   {
    "duration": 29,
    "start_time": "2022-03-28T20:58:31.319Z"
   },
   {
    "duration": 10,
    "start_time": "2022-03-28T20:58:31.349Z"
   },
   {
    "duration": 14,
    "start_time": "2022-03-28T20:58:31.361Z"
   },
   {
    "duration": 341,
    "start_time": "2022-03-28T20:58:31.376Z"
   },
   {
    "duration": 2522,
    "start_time": "2022-03-28T20:58:31.718Z"
   },
   {
    "duration": 2,
    "start_time": "2022-03-28T20:58:34.242Z"
   },
   {
    "duration": 1722,
    "start_time": "2022-03-28T20:58:34.245Z"
   },
   {
    "duration": 301,
    "start_time": "2022-03-28T20:58:35.968Z"
   },
   {
    "duration": 56,
    "start_time": "2022-03-28T20:58:36.270Z"
   },
   {
    "duration": 469,
    "start_time": "2022-03-28T20:58:36.327Z"
   },
   {
    "duration": 514,
    "start_time": "2022-03-28T20:58:36.798Z"
   },
   {
    "duration": 448,
    "start_time": "2022-03-28T20:58:37.314Z"
   },
   {
    "duration": 24,
    "start_time": "2022-03-28T20:58:37.764Z"
   },
   {
    "duration": 20,
    "start_time": "2022-03-28T20:58:37.789Z"
   },
   {
    "duration": 33,
    "start_time": "2022-03-28T20:58:37.811Z"
   },
   {
    "duration": 49,
    "start_time": "2022-03-28T20:58:37.845Z"
   },
   {
    "duration": 4,
    "start_time": "2022-03-28T20:58:37.895Z"
   },
   {
    "duration": 144,
    "start_time": "2022-03-28T20:58:37.902Z"
   },
   {
    "duration": 132,
    "start_time": "2022-03-28T20:58:38.048Z"
   },
   {
    "duration": 567,
    "start_time": "2022-03-28T20:58:38.182Z"
   },
   {
    "duration": 350,
    "start_time": "2022-03-28T20:58:38.751Z"
   },
   {
    "duration": 366,
    "start_time": "2022-03-28T20:58:39.102Z"
   },
   {
    "duration": 601,
    "start_time": "2022-03-28T20:58:39.470Z"
   },
   {
    "duration": 1090,
    "start_time": "2022-03-29T08:54:09.234Z"
   },
   {
    "duration": 4,
    "start_time": "2022-03-29T08:54:10.327Z"
   },
   {
    "duration": 214,
    "start_time": "2022-03-29T08:54:10.333Z"
   },
   {
    "duration": 43,
    "start_time": "2022-03-29T08:54:10.550Z"
   },
   {
    "duration": 33,
    "start_time": "2022-03-29T08:54:10.596Z"
   },
   {
    "duration": 57,
    "start_time": "2022-03-29T08:54:10.632Z"
   },
   {
    "duration": 436,
    "start_time": "2022-03-29T08:54:10.692Z"
   },
   {
    "duration": 26,
    "start_time": "2022-03-29T08:54:11.131Z"
   },
   {
    "duration": 159,
    "start_time": "2022-03-29T08:54:11.160Z"
   },
   {
    "duration": 4,
    "start_time": "2022-03-29T08:54:11.324Z"
   },
   {
    "duration": 44,
    "start_time": "2022-03-29T08:54:11.330Z"
   },
   {
    "duration": 17,
    "start_time": "2022-03-29T08:54:11.376Z"
   },
   {
    "duration": 32,
    "start_time": "2022-03-29T08:54:11.395Z"
   },
   {
    "duration": 611,
    "start_time": "2022-03-29T08:54:11.429Z"
   },
   {
    "duration": 8105,
    "start_time": "2022-03-29T08:54:12.043Z"
   },
   {
    "duration": 3,
    "start_time": "2022-03-29T08:54:20.151Z"
   },
   {
    "duration": 3191,
    "start_time": "2022-03-29T08:54:20.156Z"
   },
   {
    "duration": 504,
    "start_time": "2022-03-29T08:54:23.349Z"
   },
   {
    "duration": 99,
    "start_time": "2022-03-29T08:54:23.855Z"
   },
   {
    "duration": 829,
    "start_time": "2022-03-29T08:54:23.956Z"
   },
   {
    "duration": 997,
    "start_time": "2022-03-29T08:54:24.787Z"
   },
   {
    "duration": 773,
    "start_time": "2022-03-29T08:54:25.787Z"
   },
   {
    "duration": 42,
    "start_time": "2022-03-29T08:54:26.562Z"
   },
   {
    "duration": 32,
    "start_time": "2022-03-29T08:54:26.607Z"
   },
   {
    "duration": 83,
    "start_time": "2022-03-29T08:54:26.641Z"
   },
   {
    "duration": 67,
    "start_time": "2022-03-29T08:54:26.726Z"
   },
   {
    "duration": 8,
    "start_time": "2022-03-29T08:54:26.796Z"
   },
   {
    "duration": 254,
    "start_time": "2022-03-29T08:54:26.811Z"
   },
   {
    "duration": 173,
    "start_time": "2022-03-29T08:54:27.067Z"
   },
   {
    "duration": 1634,
    "start_time": "2022-03-29T08:54:27.243Z"
   },
   {
    "duration": 911,
    "start_time": "2022-03-29T08:54:28.883Z"
   },
   {
    "duration": 988,
    "start_time": "2022-03-29T08:54:29.797Z"
   },
   {
    "duration": 1086,
    "start_time": "2022-03-29T08:54:30.788Z"
   },
   {
    "duration": 171,
    "start_time": "2022-03-29T08:55:09.411Z"
   },
   {
    "duration": 28,
    "start_time": "2022-03-29T08:55:15.205Z"
   },
   {
    "duration": 322,
    "start_time": "2022-03-29T08:55:18.005Z"
   },
   {
    "duration": 338,
    "start_time": "2022-03-29T08:55:42.517Z"
   },
   {
    "duration": 855,
    "start_time": "2022-03-29T08:55:57.556Z"
   },
   {
    "duration": 4,
    "start_time": "2022-03-29T08:55:58.413Z"
   },
   {
    "duration": 212,
    "start_time": "2022-03-29T08:55:58.419Z"
   },
   {
    "duration": 24,
    "start_time": "2022-03-29T08:55:58.634Z"
   },
   {
    "duration": 53,
    "start_time": "2022-03-29T08:55:58.661Z"
   },
   {
    "duration": 29,
    "start_time": "2022-03-29T08:55:58.716Z"
   },
   {
    "duration": 535,
    "start_time": "2022-03-29T08:55:58.747Z"
   },
   {
    "duration": 21,
    "start_time": "2022-03-29T08:55:59.285Z"
   },
   {
    "duration": 120,
    "start_time": "2022-03-29T08:55:59.309Z"
   },
   {
    "duration": 9,
    "start_time": "2022-03-29T08:55:59.435Z"
   },
   {
    "duration": 41,
    "start_time": "2022-03-29T08:55:59.447Z"
   },
   {
    "duration": 15,
    "start_time": "2022-03-29T08:55:59.491Z"
   },
   {
    "duration": 23,
    "start_time": "2022-03-29T08:55:59.508Z"
   },
   {
    "duration": 618,
    "start_time": "2022-03-29T08:55:59.534Z"
   },
   {
    "duration": 7118,
    "start_time": "2022-03-29T08:56:00.154Z"
   },
   {
    "duration": 4,
    "start_time": "2022-03-29T08:56:07.283Z"
   },
   {
    "duration": 3240,
    "start_time": "2022-03-29T08:56:07.289Z"
   },
   {
    "duration": 488,
    "start_time": "2022-03-29T08:56:10.532Z"
   },
   {
    "duration": 94,
    "start_time": "2022-03-29T08:56:11.022Z"
   },
   {
    "duration": 838,
    "start_time": "2022-03-29T08:56:11.119Z"
   },
   {
    "duration": 1005,
    "start_time": "2022-03-29T08:56:11.961Z"
   },
   {
    "duration": 807,
    "start_time": "2022-03-29T08:56:12.969Z"
   },
   {
    "duration": 36,
    "start_time": "2022-03-29T08:56:13.783Z"
   },
   {
    "duration": 33,
    "start_time": "2022-03-29T08:56:13.821Z"
   },
   {
    "duration": 59,
    "start_time": "2022-03-29T08:56:13.881Z"
   },
   {
    "duration": 72,
    "start_time": "2022-03-29T08:56:13.942Z"
   },
   {
    "duration": 7,
    "start_time": "2022-03-29T08:56:14.017Z"
   },
   {
    "duration": 256,
    "start_time": "2022-03-29T08:56:14.029Z"
   },
   {
    "duration": 193,
    "start_time": "2022-03-29T08:56:14.289Z"
   },
   {
    "duration": 1203,
    "start_time": "2022-03-29T08:56:14.484Z"
   },
   {
    "duration": 645,
    "start_time": "2022-03-29T08:56:15.689Z"
   },
   {
    "duration": 683,
    "start_time": "2022-03-29T08:56:16.337Z"
   },
   {
    "duration": 1100,
    "start_time": "2022-03-29T08:56:17.022Z"
   },
   {
    "duration": 366,
    "start_time": "2022-03-29T08:56:48.576Z"
   },
   {
    "duration": 795,
    "start_time": "2022-03-29T08:57:01.627Z"
   },
   {
    "duration": 3,
    "start_time": "2022-03-29T08:57:02.425Z"
   },
   {
    "duration": 204,
    "start_time": "2022-03-29T08:57:02.431Z"
   },
   {
    "duration": 20,
    "start_time": "2022-03-29T08:57:02.637Z"
   },
   {
    "duration": 55,
    "start_time": "2022-03-29T08:57:02.660Z"
   },
   {
    "duration": 27,
    "start_time": "2022-03-29T08:57:02.717Z"
   },
   {
    "duration": 522,
    "start_time": "2022-03-29T08:57:02.746Z"
   },
   {
    "duration": 32,
    "start_time": "2022-03-29T08:57:03.271Z"
   },
   {
    "duration": 111,
    "start_time": "2022-03-29T08:57:03.305Z"
   },
   {
    "duration": 9,
    "start_time": "2022-03-29T08:57:03.420Z"
   },
   {
    "duration": 28,
    "start_time": "2022-03-29T08:57:03.431Z"
   },
   {
    "duration": 31,
    "start_time": "2022-03-29T08:57:03.461Z"
   },
   {
    "duration": 28,
    "start_time": "2022-03-29T08:57:03.495Z"
   },
   {
    "duration": 659,
    "start_time": "2022-03-29T08:57:03.526Z"
   },
   {
    "duration": 5729,
    "start_time": "2022-03-29T08:57:04.189Z"
   },
   {
    "duration": 4,
    "start_time": "2022-03-29T08:57:09.921Z"
   },
   {
    "duration": 4703,
    "start_time": "2022-03-29T08:57:09.928Z"
   },
   {
    "duration": 565,
    "start_time": "2022-03-29T08:57:14.633Z"
   },
   {
    "duration": 101,
    "start_time": "2022-03-29T08:57:15.200Z"
   },
   {
    "duration": 837,
    "start_time": "2022-03-29T08:57:15.304Z"
   },
   {
    "duration": 1008,
    "start_time": "2022-03-29T08:57:16.144Z"
   },
   {
    "duration": 807,
    "start_time": "2022-03-29T08:57:17.155Z"
   },
   {
    "duration": 48,
    "start_time": "2022-03-29T08:57:17.964Z"
   },
   {
    "duration": 30,
    "start_time": "2022-03-29T08:57:18.014Z"
   },
   {
    "duration": 88,
    "start_time": "2022-03-29T08:57:18.046Z"
   },
   {
    "duration": 64,
    "start_time": "2022-03-29T08:57:18.136Z"
   },
   {
    "duration": 7,
    "start_time": "2022-03-29T08:57:18.202Z"
   },
   {
    "duration": 248,
    "start_time": "2022-03-29T08:57:18.213Z"
   },
   {
    "duration": 184,
    "start_time": "2022-03-29T08:57:18.463Z"
   },
   {
    "duration": 1147,
    "start_time": "2022-03-29T08:57:18.650Z"
   },
   {
    "duration": 666,
    "start_time": "2022-03-29T08:57:19.799Z"
   },
   {
    "duration": 708,
    "start_time": "2022-03-29T08:57:20.467Z"
   },
   {
    "duration": 1123,
    "start_time": "2022-03-29T08:57:21.183Z"
   },
   {
    "duration": 887,
    "start_time": "2022-03-29T08:58:16.487Z"
   },
   {
    "duration": 4,
    "start_time": "2022-03-29T08:58:17.382Z"
   },
   {
    "duration": 206,
    "start_time": "2022-03-29T08:58:17.389Z"
   },
   {
    "duration": 21,
    "start_time": "2022-03-29T08:58:17.598Z"
   },
   {
    "duration": 31,
    "start_time": "2022-03-29T08:58:17.621Z"
   },
   {
    "duration": 51,
    "start_time": "2022-03-29T08:58:17.654Z"
   },
   {
    "duration": 491,
    "start_time": "2022-03-29T08:58:17.708Z"
   },
   {
    "duration": 20,
    "start_time": "2022-03-29T08:58:18.201Z"
   },
   {
    "duration": 113,
    "start_time": "2022-03-29T08:58:18.223Z"
   },
   {
    "duration": 10,
    "start_time": "2022-03-29T08:58:18.342Z"
   },
   {
    "duration": 39,
    "start_time": "2022-03-29T08:58:18.354Z"
   },
   {
    "duration": 15,
    "start_time": "2022-03-29T08:58:18.395Z"
   },
   {
    "duration": 23,
    "start_time": "2022-03-29T08:58:18.412Z"
   },
   {
    "duration": 653,
    "start_time": "2022-03-29T08:58:18.437Z"
   },
   {
    "duration": 7773,
    "start_time": "2022-03-29T08:58:19.092Z"
   },
   {
    "duration": 4,
    "start_time": "2022-03-29T08:58:26.867Z"
   },
   {
    "duration": 3169,
    "start_time": "2022-03-29T08:58:26.883Z"
   },
   {
    "duration": 536,
    "start_time": "2022-03-29T08:58:30.055Z"
   },
   {
    "duration": 108,
    "start_time": "2022-03-29T08:58:30.594Z"
   },
   {
    "duration": 874,
    "start_time": "2022-03-29T08:58:30.704Z"
   },
   {
    "duration": 1069,
    "start_time": "2022-03-29T08:58:31.583Z"
   },
   {
    "duration": 1131,
    "start_time": "2022-03-29T08:58:32.655Z"
   },
   {
    "duration": 52,
    "start_time": "2022-03-29T08:58:33.789Z"
   },
   {
    "duration": 64,
    "start_time": "2022-03-29T08:58:33.844Z"
   },
   {
    "duration": 93,
    "start_time": "2022-03-29T08:58:33.914Z"
   },
   {
    "duration": 49,
    "start_time": "2022-03-29T08:58:34.010Z"
   },
   {
    "duration": 23,
    "start_time": "2022-03-29T08:58:34.062Z"
   },
   {
    "duration": 261,
    "start_time": "2022-03-29T08:58:34.093Z"
   },
   {
    "duration": 188,
    "start_time": "2022-03-29T08:58:34.356Z"
   },
   {
    "duration": 1084,
    "start_time": "2022-03-29T08:58:34.547Z"
   },
   {
    "duration": 938,
    "start_time": "2022-03-29T08:58:35.633Z"
   },
   {
    "duration": 974,
    "start_time": "2022-03-29T08:58:36.574Z"
   },
   {
    "duration": 1599,
    "start_time": "2022-03-29T08:58:37.551Z"
   },
   {
    "duration": 330,
    "start_time": "2022-03-29T09:14:36.377Z"
   },
   {
    "duration": 849,
    "start_time": "2022-03-29T09:14:56.589Z"
   },
   {
    "duration": 4,
    "start_time": "2022-03-29T09:14:57.441Z"
   },
   {
    "duration": 298,
    "start_time": "2022-03-29T09:14:57.447Z"
   },
   {
    "duration": 42,
    "start_time": "2022-03-29T09:14:57.749Z"
   },
   {
    "duration": 44,
    "start_time": "2022-03-29T09:14:57.795Z"
   },
   {
    "duration": 67,
    "start_time": "2022-03-29T09:14:57.841Z"
   },
   {
    "duration": 736,
    "start_time": "2022-03-29T09:14:57.910Z"
   },
   {
    "duration": 35,
    "start_time": "2022-03-29T09:14:58.649Z"
   },
   {
    "duration": 108,
    "start_time": "2022-03-29T09:14:58.687Z"
   },
   {
    "duration": 10,
    "start_time": "2022-03-29T09:14:58.802Z"
   },
   {
    "duration": 28,
    "start_time": "2022-03-29T09:14:58.815Z"
   },
   {
    "duration": 47,
    "start_time": "2022-03-29T09:14:58.846Z"
   },
   {
    "duration": 31,
    "start_time": "2022-03-29T09:14:58.896Z"
   },
   {
    "duration": 985,
    "start_time": "2022-03-29T09:14:58.930Z"
   },
   {
    "duration": 8364,
    "start_time": "2022-03-29T09:14:59.919Z"
   },
   {
    "duration": 5,
    "start_time": "2022-03-29T09:15:08.286Z"
   },
   {
    "duration": 4849,
    "start_time": "2022-03-29T09:15:08.294Z"
   },
   {
    "duration": 789,
    "start_time": "2022-03-29T09:15:13.146Z"
   },
   {
    "duration": 151,
    "start_time": "2022-03-29T09:15:13.938Z"
   },
   {
    "duration": 859,
    "start_time": "2022-03-29T09:15:14.092Z"
   },
   {
    "duration": 1127,
    "start_time": "2022-03-29T09:15:14.953Z"
   },
   {
    "duration": 1251,
    "start_time": "2022-03-29T09:15:16.084Z"
   },
   {
    "duration": 60,
    "start_time": "2022-03-29T09:15:17.338Z"
   },
   {
    "duration": 36,
    "start_time": "2022-03-29T09:15:17.401Z"
   },
   {
    "duration": 91,
    "start_time": "2022-03-29T09:15:17.440Z"
   },
   {
    "duration": 66,
    "start_time": "2022-03-29T09:15:17.533Z"
   },
   {
    "duration": 9,
    "start_time": "2022-03-29T09:15:17.602Z"
   },
   {
    "duration": 360,
    "start_time": "2022-03-29T09:15:17.617Z"
   },
   {
    "duration": 190,
    "start_time": "2022-03-29T09:15:17.983Z"
   },
   {
    "duration": 1142,
    "start_time": "2022-03-29T09:15:18.176Z"
   },
   {
    "duration": 673,
    "start_time": "2022-03-29T09:15:19.321Z"
   },
   {
    "duration": 1106,
    "start_time": "2022-03-29T09:15:19.997Z"
   },
   {
    "duration": 1720,
    "start_time": "2022-03-29T09:15:21.106Z"
   },
   {
    "duration": 73,
    "start_time": "2022-03-29T10:46:42.479Z"
   },
   {
    "duration": 1145,
    "start_time": "2022-03-29T10:46:46.858Z"
   },
   {
    "duration": 4,
    "start_time": "2022-03-29T10:46:48.006Z"
   },
   {
    "duration": 215,
    "start_time": "2022-03-29T10:46:48.013Z"
   },
   {
    "duration": 23,
    "start_time": "2022-03-29T10:46:48.231Z"
   },
   {
    "duration": 45,
    "start_time": "2022-03-29T10:46:48.257Z"
   },
   {
    "duration": 27,
    "start_time": "2022-03-29T10:46:48.305Z"
   },
   {
    "duration": 512,
    "start_time": "2022-03-29T10:46:48.335Z"
   },
   {
    "duration": 33,
    "start_time": "2022-03-29T10:46:48.849Z"
   },
   {
    "duration": 114,
    "start_time": "2022-03-29T10:46:48.885Z"
   },
   {
    "duration": 9,
    "start_time": "2022-03-29T10:46:49.004Z"
   },
   {
    "duration": 20,
    "start_time": "2022-03-29T10:46:49.015Z"
   },
   {
    "duration": 43,
    "start_time": "2022-03-29T10:46:49.037Z"
   },
   {
    "duration": 21,
    "start_time": "2022-03-29T10:46:49.082Z"
   },
   {
    "duration": 642,
    "start_time": "2022-03-29T10:46:49.106Z"
   },
   {
    "duration": 10410,
    "start_time": "2022-03-29T10:46:49.751Z"
   },
   {
    "duration": 9,
    "start_time": "2022-03-29T10:47:00.165Z"
   },
   {
    "duration": 3305,
    "start_time": "2022-03-29T10:47:00.177Z"
   },
   {
    "duration": 546,
    "start_time": "2022-03-29T10:47:03.485Z"
   },
   {
    "duration": 105,
    "start_time": "2022-03-29T10:47:04.033Z"
   },
   {
    "duration": 976,
    "start_time": "2022-03-29T10:47:04.141Z"
   },
   {
    "duration": 1067,
    "start_time": "2022-03-29T10:47:05.119Z"
   },
   {
    "duration": 836,
    "start_time": "2022-03-29T10:47:06.188Z"
   },
   {
    "duration": 55,
    "start_time": "2022-03-29T10:47:07.027Z"
   },
   {
    "duration": 35,
    "start_time": "2022-03-29T10:47:07.085Z"
   },
   {
    "duration": 98,
    "start_time": "2022-03-29T10:47:07.123Z"
   },
   {
    "duration": 72,
    "start_time": "2022-03-29T10:47:07.223Z"
   },
   {
    "duration": 7,
    "start_time": "2022-03-29T10:47:07.297Z"
   },
   {
    "duration": 262,
    "start_time": "2022-03-29T10:47:07.309Z"
   },
   {
    "duration": 201,
    "start_time": "2022-03-29T10:47:07.573Z"
   },
   {
    "duration": 1209,
    "start_time": "2022-03-29T10:47:07.776Z"
   },
   {
    "duration": 670,
    "start_time": "2022-03-29T10:47:08.988Z"
   },
   {
    "duration": 704,
    "start_time": "2022-03-29T10:47:09.660Z"
   },
   {
    "duration": 1201,
    "start_time": "2022-03-29T10:47:10.373Z"
   },
   {
    "duration": 45,
    "start_time": "2022-03-29T10:48:12.041Z"
   },
   {
    "duration": 887,
    "start_time": "2022-03-29T10:48:20.548Z"
   },
   {
    "duration": 4,
    "start_time": "2022-03-29T10:48:21.437Z"
   },
   {
    "duration": 207,
    "start_time": "2022-03-29T10:48:21.443Z"
   },
   {
    "duration": 31,
    "start_time": "2022-03-29T10:48:21.653Z"
   },
   {
    "duration": 31,
    "start_time": "2022-03-29T10:48:21.687Z"
   },
   {
    "duration": 58,
    "start_time": "2022-03-29T10:48:21.721Z"
   },
   {
    "duration": 496,
    "start_time": "2022-03-29T10:48:21.781Z"
   },
   {
    "duration": 20,
    "start_time": "2022-03-29T10:48:22.279Z"
   },
   {
    "duration": 118,
    "start_time": "2022-03-29T10:48:22.301Z"
   },
   {
    "duration": 9,
    "start_time": "2022-03-29T10:48:22.423Z"
   },
   {
    "duration": 40,
    "start_time": "2022-03-29T10:48:22.434Z"
   },
   {
    "duration": 14,
    "start_time": "2022-03-29T10:48:22.476Z"
   },
   {
    "duration": 21,
    "start_time": "2022-03-29T10:48:22.492Z"
   },
   {
    "duration": 621,
    "start_time": "2022-03-29T10:48:22.515Z"
   },
   {
    "duration": 5036,
    "start_time": "2022-03-29T10:48:23.138Z"
   },
   {
    "duration": 3,
    "start_time": "2022-03-29T10:48:28.176Z"
   },
   {
    "duration": 5736,
    "start_time": "2022-03-29T10:48:28.182Z"
   },
   {
    "duration": 528,
    "start_time": "2022-03-29T10:48:33.920Z"
   },
   {
    "duration": 100,
    "start_time": "2022-03-29T10:48:34.450Z"
   },
   {
    "duration": 883,
    "start_time": "2022-03-29T10:48:34.553Z"
   },
   {
    "duration": 1049,
    "start_time": "2022-03-29T10:48:35.439Z"
   },
   {
    "duration": 839,
    "start_time": "2022-03-29T10:48:36.491Z"
   },
   {
    "duration": 43,
    "start_time": "2022-03-29T10:48:37.333Z"
   },
   {
    "duration": 36,
    "start_time": "2022-03-29T10:48:37.379Z"
   },
   {
    "duration": 80,
    "start_time": "2022-03-29T10:48:37.418Z"
   },
   {
    "duration": 51,
    "start_time": "2022-03-29T10:48:37.501Z"
   },
   {
    "duration": 6,
    "start_time": "2022-03-29T10:48:37.575Z"
   },
   {
    "duration": 252,
    "start_time": "2022-03-29T10:48:37.586Z"
   },
   {
    "duration": 189,
    "start_time": "2022-03-29T10:48:37.841Z"
   },
   {
    "duration": 1235,
    "start_time": "2022-03-29T10:48:38.032Z"
   },
   {
    "duration": 647,
    "start_time": "2022-03-29T10:48:39.269Z"
   },
   {
    "duration": 682,
    "start_time": "2022-03-29T10:48:39.918Z"
   },
   {
    "duration": 1088,
    "start_time": "2022-03-29T10:48:40.603Z"
   },
   {
    "duration": 47,
    "start_time": "2022-03-29T10:49:44.455Z"
   },
   {
    "duration": 50,
    "start_time": "2022-03-29T10:49:52.903Z"
   },
   {
    "duration": 107,
    "start_time": "2022-03-30T12:28:35.866Z"
   },
   {
    "duration": 1095,
    "start_time": "2022-03-30T12:28:41.119Z"
   },
   {
    "duration": 4,
    "start_time": "2022-03-30T12:28:42.217Z"
   },
   {
    "duration": 275,
    "start_time": "2022-03-30T12:28:42.224Z"
   },
   {
    "duration": 23,
    "start_time": "2022-03-30T12:28:42.503Z"
   },
   {
    "duration": 60,
    "start_time": "2022-03-30T12:28:42.529Z"
   },
   {
    "duration": 30,
    "start_time": "2022-03-30T12:28:42.591Z"
   },
   {
    "duration": 538,
    "start_time": "2022-03-30T12:28:42.624Z"
   },
   {
    "duration": 29,
    "start_time": "2022-03-30T12:28:43.164Z"
   },
   {
    "duration": 121,
    "start_time": "2022-03-30T12:28:43.195Z"
   },
   {
    "duration": 8,
    "start_time": "2022-03-30T12:28:43.320Z"
   },
   {
    "duration": 45,
    "start_time": "2022-03-30T12:28:43.331Z"
   },
   {
    "duration": 16,
    "start_time": "2022-03-30T12:28:43.378Z"
   },
   {
    "duration": 37,
    "start_time": "2022-03-30T12:28:43.396Z"
   },
   {
    "duration": 614,
    "start_time": "2022-03-30T12:28:43.435Z"
   },
   {
    "duration": 7109,
    "start_time": "2022-03-30T12:28:44.051Z"
   },
   {
    "duration": 4,
    "start_time": "2022-03-30T12:28:51.163Z"
   },
   {
    "duration": 3173,
    "start_time": "2022-03-30T12:28:51.169Z"
   },
   {
    "duration": 499,
    "start_time": "2022-03-30T12:28:54.344Z"
   },
   {
    "duration": 105,
    "start_time": "2022-03-30T12:28:54.845Z"
   },
   {
    "duration": 868,
    "start_time": "2022-03-30T12:28:54.952Z"
   },
   {
    "duration": 999,
    "start_time": "2022-03-30T12:28:55.823Z"
   },
   {
    "duration": 815,
    "start_time": "2022-03-30T12:28:56.825Z"
   },
   {
    "duration": 47,
    "start_time": "2022-03-30T12:28:57.643Z"
   },
   {
    "duration": 33,
    "start_time": "2022-03-30T12:28:57.692Z"
   },
   {
    "duration": 74,
    "start_time": "2022-03-30T12:28:57.728Z"
   },
   {
    "duration": 46,
    "start_time": "2022-03-30T12:28:57.805Z"
   },
   {
    "duration": 7,
    "start_time": "2022-03-30T12:28:57.854Z"
   },
   {
    "duration": 253,
    "start_time": "2022-03-30T12:28:57.888Z"
   },
   {
    "duration": 194,
    "start_time": "2022-03-30T12:28:58.143Z"
   },
   {
    "duration": 1156,
    "start_time": "2022-03-30T12:28:58.340Z"
   },
   {
    "duration": 687,
    "start_time": "2022-03-30T12:28:59.500Z"
   },
   {
    "duration": 748,
    "start_time": "2022-03-30T12:29:00.189Z"
   },
   {
    "duration": 1137,
    "start_time": "2022-03-30T12:29:00.940Z"
   },
   {
    "duration": 52,
    "start_time": "2022-04-09T09:08:11.900Z"
   },
   {
    "duration": 858,
    "start_time": "2022-04-09T09:08:17.017Z"
   },
   {
    "duration": 3,
    "start_time": "2022-04-09T09:08:17.877Z"
   },
   {
    "duration": 168,
    "start_time": "2022-04-09T09:08:17.882Z"
   },
   {
    "duration": 21,
    "start_time": "2022-04-09T09:08:18.052Z"
   },
   {
    "duration": 23,
    "start_time": "2022-04-09T09:08:18.075Z"
   },
   {
    "duration": 41,
    "start_time": "2022-04-09T09:08:18.100Z"
   },
   {
    "duration": 334,
    "start_time": "2022-04-09T09:08:18.143Z"
   },
   {
    "duration": 16,
    "start_time": "2022-04-09T09:08:18.479Z"
   },
   {
    "duration": 81,
    "start_time": "2022-04-09T09:08:18.497Z"
   },
   {
    "duration": 7,
    "start_time": "2022-04-09T09:08:18.581Z"
   },
   {
    "duration": 16,
    "start_time": "2022-04-09T09:08:18.590Z"
   },
   {
    "duration": 29,
    "start_time": "2022-04-09T09:08:18.608Z"
   },
   {
    "duration": 15,
    "start_time": "2022-04-09T09:08:18.639Z"
   },
   {
    "duration": 405,
    "start_time": "2022-04-09T09:08:18.656Z"
   },
   {
    "duration": 3230,
    "start_time": "2022-04-09T09:08:19.063Z"
   },
   {
    "duration": 2,
    "start_time": "2022-04-09T09:08:22.296Z"
   },
   {
    "duration": 2074,
    "start_time": "2022-04-09T09:08:22.300Z"
   },
   {
    "duration": 369,
    "start_time": "2022-04-09T09:08:24.376Z"
   },
   {
    "duration": 59,
    "start_time": "2022-04-09T09:08:24.747Z"
   },
   {
    "duration": 603,
    "start_time": "2022-04-09T09:08:24.808Z"
   },
   {
    "duration": 689,
    "start_time": "2022-04-09T09:08:25.413Z"
   },
   {
    "duration": 583,
    "start_time": "2022-04-09T09:08:26.104Z"
   },
   {
    "duration": 23,
    "start_time": "2022-04-09T09:08:26.689Z"
   },
   {
    "duration": 34,
    "start_time": "2022-04-09T09:08:26.713Z"
   },
   {
    "duration": 36,
    "start_time": "2022-04-09T09:08:26.749Z"
   },
   {
    "duration": 49,
    "start_time": "2022-04-09T09:08:26.787Z"
   },
   {
    "duration": 4,
    "start_time": "2022-04-09T09:08:26.838Z"
   },
   {
    "duration": 173,
    "start_time": "2022-04-09T09:08:26.845Z"
   },
   {
    "duration": 158,
    "start_time": "2022-04-09T09:08:27.020Z"
   },
   {
    "duration": 727,
    "start_time": "2022-04-09T09:08:27.179Z"
   },
   {
    "duration": 442,
    "start_time": "2022-04-09T09:08:27.908Z"
   },
   {
    "duration": 460,
    "start_time": "2022-04-09T09:08:28.352Z"
   },
   {
    "duration": 772,
    "start_time": "2022-04-09T09:08:28.813Z"
   }
  ],
  "kernelspec": {
   "display_name": "Python 3 (ipykernel)",
   "language": "python",
   "name": "python3"
  },
  "language_info": {
   "codemirror_mode": {
    "name": "ipython",
    "version": 3
   },
   "file_extension": ".py",
   "mimetype": "text/x-python",
   "name": "python",
   "nbconvert_exporter": "python",
   "pygments_lexer": "ipython3",
   "version": "3.9.12"
  },
  "toc": {
   "base_numbering": 1,
   "nav_menu": {},
   "number_sections": true,
   "sideBar": true,
   "skip_h1_title": true,
   "title_cell": "Содержание",
   "title_sidebar": "Contents",
   "toc_cell": true,
   "toc_position": {
    "height": "calc(100% - 180px)",
    "left": "10px",
    "top": "150px",
    "width": "165px"
   },
   "toc_section_display": true,
   "toc_window_display": true
  }
 },
 "nbformat": 4,
 "nbformat_minor": 4
}
